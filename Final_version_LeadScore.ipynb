{
 "cells": [
  {
   "cell_type": "code",
   "execution_count": 1,
   "metadata": {},
   "outputs": [],
   "source": [
    "import numpy as np\n",
    "import pandas as pd\n",
    "import matplotlib.pyplot as plt\n",
    "import seaborn as sns\n"
   ]
  },
  {
   "cell_type": "code",
   "execution_count": 2,
   "metadata": {},
   "outputs": [],
   "source": [
    "data=pd.read_csv(\"Leads.csv\")"
   ]
  },
  {
   "cell_type": "code",
   "execution_count": 3,
   "metadata": {},
   "outputs": [
    {
     "data": {
      "text/html": [
       "<div>\n",
       "<style scoped>\n",
       "    .dataframe tbody tr th:only-of-type {\n",
       "        vertical-align: middle;\n",
       "    }\n",
       "\n",
       "    .dataframe tbody tr th {\n",
       "        vertical-align: top;\n",
       "    }\n",
       "\n",
       "    .dataframe thead th {\n",
       "        text-align: right;\n",
       "    }\n",
       "</style>\n",
       "<table border=\"1\" class=\"dataframe\">\n",
       "  <thead>\n",
       "    <tr style=\"text-align: right;\">\n",
       "      <th></th>\n",
       "      <th>Prospect ID</th>\n",
       "      <th>Lead Number</th>\n",
       "      <th>Lead Origin</th>\n",
       "      <th>Lead Source</th>\n",
       "      <th>Do Not Email</th>\n",
       "      <th>Do Not Call</th>\n",
       "      <th>Converted</th>\n",
       "      <th>TotalVisits</th>\n",
       "      <th>Total Time Spent on Website</th>\n",
       "      <th>Page Views Per Visit</th>\n",
       "      <th>...</th>\n",
       "      <th>Get updates on DM Content</th>\n",
       "      <th>Lead Profile</th>\n",
       "      <th>City</th>\n",
       "      <th>Asymmetrique Activity Index</th>\n",
       "      <th>Asymmetrique Profile Index</th>\n",
       "      <th>Asymmetrique Activity Score</th>\n",
       "      <th>Asymmetrique Profile Score</th>\n",
       "      <th>I agree to pay the amount through cheque</th>\n",
       "      <th>A free copy of Mastering The Interview</th>\n",
       "      <th>Last Notable Activity</th>\n",
       "    </tr>\n",
       "  </thead>\n",
       "  <tbody>\n",
       "    <tr>\n",
       "      <th>0</th>\n",
       "      <td>7927b2df-8bba-4d29-b9a2-b6e0beafe620</td>\n",
       "      <td>660737</td>\n",
       "      <td>API</td>\n",
       "      <td>Olark Chat</td>\n",
       "      <td>No</td>\n",
       "      <td>No</td>\n",
       "      <td>0</td>\n",
       "      <td>0.0</td>\n",
       "      <td>0</td>\n",
       "      <td>0.0</td>\n",
       "      <td>...</td>\n",
       "      <td>No</td>\n",
       "      <td>Select</td>\n",
       "      <td>Select</td>\n",
       "      <td>02.Medium</td>\n",
       "      <td>02.Medium</td>\n",
       "      <td>15.0</td>\n",
       "      <td>15.0</td>\n",
       "      <td>No</td>\n",
       "      <td>No</td>\n",
       "      <td>Modified</td>\n",
       "    </tr>\n",
       "    <tr>\n",
       "      <th>1</th>\n",
       "      <td>2a272436-5132-4136-86fa-dcc88c88f482</td>\n",
       "      <td>660728</td>\n",
       "      <td>API</td>\n",
       "      <td>Organic Search</td>\n",
       "      <td>No</td>\n",
       "      <td>No</td>\n",
       "      <td>0</td>\n",
       "      <td>5.0</td>\n",
       "      <td>674</td>\n",
       "      <td>2.5</td>\n",
       "      <td>...</td>\n",
       "      <td>No</td>\n",
       "      <td>Select</td>\n",
       "      <td>Select</td>\n",
       "      <td>02.Medium</td>\n",
       "      <td>02.Medium</td>\n",
       "      <td>15.0</td>\n",
       "      <td>15.0</td>\n",
       "      <td>No</td>\n",
       "      <td>No</td>\n",
       "      <td>Email Opened</td>\n",
       "    </tr>\n",
       "    <tr>\n",
       "      <th>2</th>\n",
       "      <td>8cc8c611-a219-4f35-ad23-fdfd2656bd8a</td>\n",
       "      <td>660727</td>\n",
       "      <td>Landing Page Submission</td>\n",
       "      <td>Direct Traffic</td>\n",
       "      <td>No</td>\n",
       "      <td>No</td>\n",
       "      <td>1</td>\n",
       "      <td>2.0</td>\n",
       "      <td>1532</td>\n",
       "      <td>2.0</td>\n",
       "      <td>...</td>\n",
       "      <td>No</td>\n",
       "      <td>Potential Lead</td>\n",
       "      <td>Mumbai</td>\n",
       "      <td>02.Medium</td>\n",
       "      <td>01.High</td>\n",
       "      <td>14.0</td>\n",
       "      <td>20.0</td>\n",
       "      <td>No</td>\n",
       "      <td>Yes</td>\n",
       "      <td>Email Opened</td>\n",
       "    </tr>\n",
       "    <tr>\n",
       "      <th>3</th>\n",
       "      <td>0cc2df48-7cf4-4e39-9de9-19797f9b38cc</td>\n",
       "      <td>660719</td>\n",
       "      <td>Landing Page Submission</td>\n",
       "      <td>Direct Traffic</td>\n",
       "      <td>No</td>\n",
       "      <td>No</td>\n",
       "      <td>0</td>\n",
       "      <td>1.0</td>\n",
       "      <td>305</td>\n",
       "      <td>1.0</td>\n",
       "      <td>...</td>\n",
       "      <td>No</td>\n",
       "      <td>Select</td>\n",
       "      <td>Mumbai</td>\n",
       "      <td>02.Medium</td>\n",
       "      <td>01.High</td>\n",
       "      <td>13.0</td>\n",
       "      <td>17.0</td>\n",
       "      <td>No</td>\n",
       "      <td>No</td>\n",
       "      <td>Modified</td>\n",
       "    </tr>\n",
       "    <tr>\n",
       "      <th>4</th>\n",
       "      <td>3256f628-e534-4826-9d63-4a8b88782852</td>\n",
       "      <td>660681</td>\n",
       "      <td>Landing Page Submission</td>\n",
       "      <td>Google</td>\n",
       "      <td>No</td>\n",
       "      <td>No</td>\n",
       "      <td>1</td>\n",
       "      <td>2.0</td>\n",
       "      <td>1428</td>\n",
       "      <td>1.0</td>\n",
       "      <td>...</td>\n",
       "      <td>No</td>\n",
       "      <td>Select</td>\n",
       "      <td>Mumbai</td>\n",
       "      <td>02.Medium</td>\n",
       "      <td>01.High</td>\n",
       "      <td>15.0</td>\n",
       "      <td>18.0</td>\n",
       "      <td>No</td>\n",
       "      <td>No</td>\n",
       "      <td>Modified</td>\n",
       "    </tr>\n",
       "  </tbody>\n",
       "</table>\n",
       "<p>5 rows × 37 columns</p>\n",
       "</div>"
      ],
      "text/plain": [
       "                            Prospect ID  Lead Number              Lead Origin  \\\n",
       "0  7927b2df-8bba-4d29-b9a2-b6e0beafe620       660737                      API   \n",
       "1  2a272436-5132-4136-86fa-dcc88c88f482       660728                      API   \n",
       "2  8cc8c611-a219-4f35-ad23-fdfd2656bd8a       660727  Landing Page Submission   \n",
       "3  0cc2df48-7cf4-4e39-9de9-19797f9b38cc       660719  Landing Page Submission   \n",
       "4  3256f628-e534-4826-9d63-4a8b88782852       660681  Landing Page Submission   \n",
       "\n",
       "      Lead Source Do Not Email Do Not Call  Converted  TotalVisits  \\\n",
       "0      Olark Chat           No          No          0          0.0   \n",
       "1  Organic Search           No          No          0          5.0   \n",
       "2  Direct Traffic           No          No          1          2.0   \n",
       "3  Direct Traffic           No          No          0          1.0   \n",
       "4          Google           No          No          1          2.0   \n",
       "\n",
       "   Total Time Spent on Website  Page Views Per Visit          ...           \\\n",
       "0                            0                   0.0          ...            \n",
       "1                          674                   2.5          ...            \n",
       "2                         1532                   2.0          ...            \n",
       "3                          305                   1.0          ...            \n",
       "4                         1428                   1.0          ...            \n",
       "\n",
       "  Get updates on DM Content    Lead Profile    City  \\\n",
       "0                        No          Select  Select   \n",
       "1                        No          Select  Select   \n",
       "2                        No  Potential Lead  Mumbai   \n",
       "3                        No          Select  Mumbai   \n",
       "4                        No          Select  Mumbai   \n",
       "\n",
       "  Asymmetrique Activity Index Asymmetrique Profile Index  \\\n",
       "0                   02.Medium                  02.Medium   \n",
       "1                   02.Medium                  02.Medium   \n",
       "2                   02.Medium                    01.High   \n",
       "3                   02.Medium                    01.High   \n",
       "4                   02.Medium                    01.High   \n",
       "\n",
       "  Asymmetrique Activity Score Asymmetrique Profile Score  \\\n",
       "0                        15.0                       15.0   \n",
       "1                        15.0                       15.0   \n",
       "2                        14.0                       20.0   \n",
       "3                        13.0                       17.0   \n",
       "4                        15.0                       18.0   \n",
       "\n",
       "  I agree to pay the amount through cheque  \\\n",
       "0                                       No   \n",
       "1                                       No   \n",
       "2                                       No   \n",
       "3                                       No   \n",
       "4                                       No   \n",
       "\n",
       "  A free copy of Mastering The Interview Last Notable Activity  \n",
       "0                                     No              Modified  \n",
       "1                                     No          Email Opened  \n",
       "2                                    Yes          Email Opened  \n",
       "3                                     No              Modified  \n",
       "4                                     No              Modified  \n",
       "\n",
       "[5 rows x 37 columns]"
      ]
     },
     "execution_count": 3,
     "metadata": {},
     "output_type": "execute_result"
    }
   ],
   "source": [
    "data.head()"
   ]
  },
  {
   "cell_type": "code",
   "execution_count": 4,
   "metadata": {},
   "outputs": [
    {
     "data": {
      "text/plain": [
       "(9240, 37)"
      ]
     },
     "execution_count": 4,
     "metadata": {},
     "output_type": "execute_result"
    }
   ],
   "source": [
    "data.shape"
   ]
  },
  {
   "cell_type": "code",
   "execution_count": 5,
   "metadata": {},
   "outputs": [
    {
     "name": "stdout",
     "output_type": "stream",
     "text": [
      "<class 'pandas.core.frame.DataFrame'>\n",
      "RangeIndex: 9240 entries, 0 to 9239\n",
      "Data columns (total 37 columns):\n",
      "Prospect ID                                      9240 non-null object\n",
      "Lead Number                                      9240 non-null int64\n",
      "Lead Origin                                      9240 non-null object\n",
      "Lead Source                                      9204 non-null object\n",
      "Do Not Email                                     9240 non-null object\n",
      "Do Not Call                                      9240 non-null object\n",
      "Converted                                        9240 non-null int64\n",
      "TotalVisits                                      9103 non-null float64\n",
      "Total Time Spent on Website                      9240 non-null int64\n",
      "Page Views Per Visit                             9103 non-null float64\n",
      "Last Activity                                    9137 non-null object\n",
      "Country                                          6779 non-null object\n",
      "Specialization                                   7802 non-null object\n",
      "How did you hear about X Education               7033 non-null object\n",
      "What is your current occupation                  6550 non-null object\n",
      "What matters most to you in choosing a course    6531 non-null object\n",
      "Search                                           9240 non-null object\n",
      "Magazine                                         9240 non-null object\n",
      "Newspaper Article                                9240 non-null object\n",
      "X Education Forums                               9240 non-null object\n",
      "Newspaper                                        9240 non-null object\n",
      "Digital Advertisement                            9240 non-null object\n",
      "Through Recommendations                          9240 non-null object\n",
      "Receive More Updates About Our Courses           9240 non-null object\n",
      "Tags                                             5887 non-null object\n",
      "Lead Quality                                     4473 non-null object\n",
      "Update me on Supply Chain Content                9240 non-null object\n",
      "Get updates on DM Content                        9240 non-null object\n",
      "Lead Profile                                     6531 non-null object\n",
      "City                                             7820 non-null object\n",
      "Asymmetrique Activity Index                      5022 non-null object\n",
      "Asymmetrique Profile Index                       5022 non-null object\n",
      "Asymmetrique Activity Score                      5022 non-null float64\n",
      "Asymmetrique Profile Score                       5022 non-null float64\n",
      "I agree to pay the amount through cheque         9240 non-null object\n",
      "A free copy of Mastering The Interview           9240 non-null object\n",
      "Last Notable Activity                            9240 non-null object\n",
      "dtypes: float64(4), int64(3), object(30)\n",
      "memory usage: 2.6+ MB\n"
     ]
    }
   ],
   "source": [
    "data.info()"
   ]
  },
  {
   "cell_type": "code",
   "execution_count": 6,
   "metadata": {},
   "outputs": [
    {
     "data": {
      "text/html": [
       "<div>\n",
       "<style scoped>\n",
       "    .dataframe tbody tr th:only-of-type {\n",
       "        vertical-align: middle;\n",
       "    }\n",
       "\n",
       "    .dataframe tbody tr th {\n",
       "        vertical-align: top;\n",
       "    }\n",
       "\n",
       "    .dataframe thead th {\n",
       "        text-align: right;\n",
       "    }\n",
       "</style>\n",
       "<table border=\"1\" class=\"dataframe\">\n",
       "  <thead>\n",
       "    <tr style=\"text-align: right;\">\n",
       "      <th></th>\n",
       "      <th>Lead Number</th>\n",
       "      <th>Converted</th>\n",
       "      <th>TotalVisits</th>\n",
       "      <th>Total Time Spent on Website</th>\n",
       "      <th>Page Views Per Visit</th>\n",
       "      <th>Asymmetrique Activity Score</th>\n",
       "      <th>Asymmetrique Profile Score</th>\n",
       "    </tr>\n",
       "  </thead>\n",
       "  <tbody>\n",
       "    <tr>\n",
       "      <th>count</th>\n",
       "      <td>9240.000000</td>\n",
       "      <td>9240.000000</td>\n",
       "      <td>9103.000000</td>\n",
       "      <td>9240.000000</td>\n",
       "      <td>9103.000000</td>\n",
       "      <td>5022.000000</td>\n",
       "      <td>5022.000000</td>\n",
       "    </tr>\n",
       "    <tr>\n",
       "      <th>mean</th>\n",
       "      <td>617188.435606</td>\n",
       "      <td>0.385390</td>\n",
       "      <td>3.445238</td>\n",
       "      <td>487.698268</td>\n",
       "      <td>2.362820</td>\n",
       "      <td>14.306252</td>\n",
       "      <td>16.344883</td>\n",
       "    </tr>\n",
       "    <tr>\n",
       "      <th>std</th>\n",
       "      <td>23405.995698</td>\n",
       "      <td>0.486714</td>\n",
       "      <td>4.854853</td>\n",
       "      <td>548.021466</td>\n",
       "      <td>2.161418</td>\n",
       "      <td>1.386694</td>\n",
       "      <td>1.811395</td>\n",
       "    </tr>\n",
       "    <tr>\n",
       "      <th>min</th>\n",
       "      <td>579533.000000</td>\n",
       "      <td>0.000000</td>\n",
       "      <td>0.000000</td>\n",
       "      <td>0.000000</td>\n",
       "      <td>0.000000</td>\n",
       "      <td>7.000000</td>\n",
       "      <td>11.000000</td>\n",
       "    </tr>\n",
       "    <tr>\n",
       "      <th>25%</th>\n",
       "      <td>596484.500000</td>\n",
       "      <td>0.000000</td>\n",
       "      <td>1.000000</td>\n",
       "      <td>12.000000</td>\n",
       "      <td>1.000000</td>\n",
       "      <td>14.000000</td>\n",
       "      <td>15.000000</td>\n",
       "    </tr>\n",
       "    <tr>\n",
       "      <th>50%</th>\n",
       "      <td>615479.000000</td>\n",
       "      <td>0.000000</td>\n",
       "      <td>3.000000</td>\n",
       "      <td>248.000000</td>\n",
       "      <td>2.000000</td>\n",
       "      <td>14.000000</td>\n",
       "      <td>16.000000</td>\n",
       "    </tr>\n",
       "    <tr>\n",
       "      <th>75%</th>\n",
       "      <td>637387.250000</td>\n",
       "      <td>1.000000</td>\n",
       "      <td>5.000000</td>\n",
       "      <td>936.000000</td>\n",
       "      <td>3.000000</td>\n",
       "      <td>15.000000</td>\n",
       "      <td>18.000000</td>\n",
       "    </tr>\n",
       "    <tr>\n",
       "      <th>max</th>\n",
       "      <td>660737.000000</td>\n",
       "      <td>1.000000</td>\n",
       "      <td>251.000000</td>\n",
       "      <td>2272.000000</td>\n",
       "      <td>55.000000</td>\n",
       "      <td>18.000000</td>\n",
       "      <td>20.000000</td>\n",
       "    </tr>\n",
       "  </tbody>\n",
       "</table>\n",
       "</div>"
      ],
      "text/plain": [
       "         Lead Number    Converted  TotalVisits  Total Time Spent on Website  \\\n",
       "count    9240.000000  9240.000000  9103.000000                  9240.000000   \n",
       "mean   617188.435606     0.385390     3.445238                   487.698268   \n",
       "std     23405.995698     0.486714     4.854853                   548.021466   \n",
       "min    579533.000000     0.000000     0.000000                     0.000000   \n",
       "25%    596484.500000     0.000000     1.000000                    12.000000   \n",
       "50%    615479.000000     0.000000     3.000000                   248.000000   \n",
       "75%    637387.250000     1.000000     5.000000                   936.000000   \n",
       "max    660737.000000     1.000000   251.000000                  2272.000000   \n",
       "\n",
       "       Page Views Per Visit  Asymmetrique Activity Score  \\\n",
       "count           9103.000000                  5022.000000   \n",
       "mean               2.362820                    14.306252   \n",
       "std                2.161418                     1.386694   \n",
       "min                0.000000                     7.000000   \n",
       "25%                1.000000                    14.000000   \n",
       "50%                2.000000                    14.000000   \n",
       "75%                3.000000                    15.000000   \n",
       "max               55.000000                    18.000000   \n",
       "\n",
       "       Asymmetrique Profile Score  \n",
       "count                 5022.000000  \n",
       "mean                    16.344883  \n",
       "std                      1.811395  \n",
       "min                     11.000000  \n",
       "25%                     15.000000  \n",
       "50%                     16.000000  \n",
       "75%                     18.000000  \n",
       "max                     20.000000  "
      ]
     },
     "execution_count": 6,
     "metadata": {},
     "output_type": "execute_result"
    }
   ],
   "source": [
    "data.describe()"
   ]
  },
  {
   "cell_type": "code",
   "execution_count": 7,
   "metadata": {},
   "outputs": [
    {
     "data": {
      "text/plain": [
       "Prospect ID                                         0\n",
       "Lead Number                                         0\n",
       "Lead Origin                                         0\n",
       "Lead Source                                        36\n",
       "Do Not Email                                        0\n",
       "Do Not Call                                         0\n",
       "Converted                                           0\n",
       "TotalVisits                                       137\n",
       "Total Time Spent on Website                         0\n",
       "Page Views Per Visit                              137\n",
       "Last Activity                                     103\n",
       "Country                                          2461\n",
       "Specialization                                   1438\n",
       "How did you hear about X Education               2207\n",
       "What is your current occupation                  2690\n",
       "What matters most to you in choosing a course    2709\n",
       "Search                                              0\n",
       "Magazine                                            0\n",
       "Newspaper Article                                   0\n",
       "X Education Forums                                  0\n",
       "Newspaper                                           0\n",
       "Digital Advertisement                               0\n",
       "Through Recommendations                             0\n",
       "Receive More Updates About Our Courses              0\n",
       "Tags                                             3353\n",
       "Lead Quality                                     4767\n",
       "Update me on Supply Chain Content                   0\n",
       "Get updates on DM Content                           0\n",
       "Lead Profile                                     2709\n",
       "City                                             1420\n",
       "Asymmetrique Activity Index                      4218\n",
       "Asymmetrique Profile Index                       4218\n",
       "Asymmetrique Activity Score                      4218\n",
       "Asymmetrique Profile Score                       4218\n",
       "I agree to pay the amount through cheque            0\n",
       "A free copy of Mastering The Interview              0\n",
       "Last Notable Activity                               0\n",
       "dtype: int64"
      ]
     },
     "execution_count": 7,
     "metadata": {},
     "output_type": "execute_result"
    }
   ],
   "source": [
    "data.isnull().sum()"
   ]
  },
  {
   "cell_type": "code",
   "execution_count": 8,
   "metadata": {},
   "outputs": [
    {
     "name": "stdout",
     "output_type": "stream",
     "text": [
      "6\n"
     ]
    },
    {
     "data": {
      "text/plain": [
       "Tags                           3353\n",
       "Lead Quality                   4767\n",
       "Asymmetrique Activity Index    4218\n",
       "Asymmetrique Profile Index     4218\n",
       "Asymmetrique Activity Score    4218\n",
       "Asymmetrique Profile Score     4218\n",
       "dtype: int64"
      ]
     },
     "execution_count": 8,
     "metadata": {},
     "output_type": "execute_result"
    }
   ],
   "source": [
    "# columns which have more than 30% data as null values\n",
    "\n",
    "NA_data=data.isnull().sum()\n",
    "NA_data = NA_data[NA_data.values >(0.30*len(data))]\n",
    "print(len(NA_data))\n",
    "NA_data"
   ]
  },
  {
   "cell_type": "markdown",
   "metadata": {},
   "source": [
    "#  Data Cleaning and EDA"
   ]
  },
  {
   "cell_type": "code",
   "execution_count": 9,
   "metadata": {},
   "outputs": [],
   "source": [
    "\n",
    "# Converting all the values to lower case\n",
    "data = data.applymap(lambda s:s.lower() if type(s) == str else s)"
   ]
  },
  {
   "cell_type": "code",
   "execution_count": 10,
   "metadata": {},
   "outputs": [],
   "source": [
    "#Converting 'Select' values to NaN.\n",
    "\n",
    "data = data.replace('Select', np.nan)"
   ]
  },
  {
   "cell_type": "code",
   "execution_count": 11,
   "metadata": {},
   "outputs": [
    {
     "data": {
      "text/plain": [
       "Prospect ID                                      9240\n",
       "Lead Number                                      9240\n",
       "Lead Origin                                         5\n",
       "Lead Source                                        20\n",
       "Do Not Email                                        2\n",
       "Do Not Call                                         2\n",
       "Converted                                           2\n",
       "TotalVisits                                        41\n",
       "Total Time Spent on Website                      1731\n",
       "Page Views Per Visit                              114\n",
       "Last Activity                                      17\n",
       "Country                                            38\n",
       "Specialization                                     19\n",
       "How did you hear about X Education                 10\n",
       "What is your current occupation                     6\n",
       "What matters most to you in choosing a course       3\n",
       "Search                                              2\n",
       "Magazine                                            1\n",
       "Newspaper Article                                   2\n",
       "X Education Forums                                  2\n",
       "Newspaper                                           2\n",
       "Digital Advertisement                               2\n",
       "Through Recommendations                             2\n",
       "Receive More Updates About Our Courses              1\n",
       "Tags                                               26\n",
       "Lead Quality                                        5\n",
       "Update me on Supply Chain Content                   1\n",
       "Get updates on DM Content                           1\n",
       "Lead Profile                                        6\n",
       "City                                                7\n",
       "Asymmetrique Activity Index                         3\n",
       "Asymmetrique Profile Index                          3\n",
       "Asymmetrique Activity Score                        12\n",
       "Asymmetrique Profile Score                         10\n",
       "I agree to pay the amount through cheque            1\n",
       "A free copy of Mastering The Interview              2\n",
       "Last Notable Activity                              16\n",
       "dtype: int64"
      ]
     },
     "execution_count": 11,
     "metadata": {},
     "output_type": "execute_result"
    }
   ],
   "source": [
    "\n",
    "# Checking if there are columns with one unique value since it won't affect our analysis\n",
    "data.nunique() "
   ]
  },
  {
   "cell_type": "markdown",
   "metadata": {},
   "source": [
    "- We can drop all the columns with only single value, because they dont help us in data modelling"
   ]
  },
  {
   "cell_type": "code",
   "execution_count": 12,
   "metadata": {},
   "outputs": [],
   "source": [
    "# Dropping unique valued columns\n",
    "data= data.drop(['Magazine','Receive More Updates About Our Courses','I agree to pay the amount through cheque','Get updates on DM Content','Update me on Supply Chain Content'],axis=1)"
   ]
  },
  {
   "cell_type": "code",
   "execution_count": 13,
   "metadata": {},
   "outputs": [
    {
     "data": {
      "text/plain": [
       "Prospect ID                                         0\n",
       "Lead Number                                         0\n",
       "Lead Origin                                         0\n",
       "Lead Source                                        36\n",
       "Do Not Email                                        0\n",
       "Do Not Call                                         0\n",
       "Converted                                           0\n",
       "TotalVisits                                       137\n",
       "Total Time Spent on Website                         0\n",
       "Page Views Per Visit                              137\n",
       "Last Activity                                     103\n",
       "Country                                          2461\n",
       "Specialization                                   1438\n",
       "How did you hear about X Education               2207\n",
       "What is your current occupation                  2690\n",
       "What matters most to you in choosing a course    2709\n",
       "Search                                              0\n",
       "Newspaper Article                                   0\n",
       "X Education Forums                                  0\n",
       "Newspaper                                           0\n",
       "Digital Advertisement                               0\n",
       "Through Recommendations                             0\n",
       "Tags                                             3353\n",
       "Lead Quality                                     4767\n",
       "Lead Profile                                     2709\n",
       "City                                             1420\n",
       "Asymmetrique Activity Index                      4218\n",
       "Asymmetrique Profile Index                       4218\n",
       "Asymmetrique Activity Score                      4218\n",
       "Asymmetrique Profile Score                       4218\n",
       "A free copy of Mastering The Interview              0\n",
       "Last Notable Activity                               0\n",
       "dtype: int64"
      ]
     },
     "execution_count": 13,
     "metadata": {},
     "output_type": "execute_result"
    }
   ],
   "source": [
    "data.isnull().sum()"
   ]
  },
  {
   "cell_type": "code",
   "execution_count": 14,
   "metadata": {},
   "outputs": [
    {
     "data": {
      "text/plain": [
       "Prospect ID                                       0.00\n",
       "Lead Number                                       0.00\n",
       "Lead Origin                                       0.00\n",
       "Lead Source                                       0.39\n",
       "Do Not Email                                      0.00\n",
       "Do Not Call                                       0.00\n",
       "Converted                                         0.00\n",
       "TotalVisits                                       1.48\n",
       "Total Time Spent on Website                       0.00\n",
       "Page Views Per Visit                              1.48\n",
       "Last Activity                                     1.11\n",
       "Country                                          26.63\n",
       "Specialization                                   15.56\n",
       "How did you hear about X Education               23.89\n",
       "What is your current occupation                  29.11\n",
       "What matters most to you in choosing a course    29.32\n",
       "Search                                            0.00\n",
       "Newspaper Article                                 0.00\n",
       "X Education Forums                                0.00\n",
       "Newspaper                                         0.00\n",
       "Digital Advertisement                             0.00\n",
       "Through Recommendations                           0.00\n",
       "Tags                                             36.29\n",
       "Lead Quality                                     51.59\n",
       "Lead Profile                                     29.32\n",
       "City                                             15.37\n",
       "Asymmetrique Activity Index                      45.65\n",
       "Asymmetrique Profile Index                       45.65\n",
       "Asymmetrique Activity Score                      45.65\n",
       "Asymmetrique Profile Score                       45.65\n",
       "A free copy of Mastering The Interview            0.00\n",
       "Last Notable Activity                             0.00\n",
       "dtype: float64"
      ]
     },
     "execution_count": 14,
     "metadata": {},
     "output_type": "execute_result"
    }
   ],
   "source": [
    "#checking percentage of null values in each column\n",
    "\n",
    "round(100*(data.isnull().sum()/len(data.index)), 2)"
   ]
  },
  {
   "cell_type": "code",
   "execution_count": 15,
   "metadata": {},
   "outputs": [],
   "source": [
    "#dropping cols with more than 35% missing values\n",
    "\n",
    "cols=data.columns\n",
    "\n",
    "for i in cols:\n",
    "    if((100*(data[i].isnull().sum()/len(data.index))) >= 45):\n",
    "        data.drop(i, 1, inplace = True)"
   ]
  },
  {
   "cell_type": "code",
   "execution_count": 16,
   "metadata": {},
   "outputs": [
    {
     "data": {
      "text/plain": [
       "(9240, 27)"
      ]
     },
     "execution_count": 16,
     "metadata": {},
     "output_type": "execute_result"
    }
   ],
   "source": [
    "data.shape"
   ]
  },
  {
   "cell_type": "code",
   "execution_count": 17,
   "metadata": {},
   "outputs": [
    {
     "data": {
      "text/plain": [
       "Prospect ID                                       0.00\n",
       "Lead Number                                       0.00\n",
       "Lead Origin                                       0.00\n",
       "Lead Source                                       0.39\n",
       "Do Not Email                                      0.00\n",
       "Do Not Call                                       0.00\n",
       "Converted                                         0.00\n",
       "TotalVisits                                       1.48\n",
       "Total Time Spent on Website                       0.00\n",
       "Page Views Per Visit                              1.48\n",
       "Last Activity                                     1.11\n",
       "Country                                          26.63\n",
       "Specialization                                   15.56\n",
       "How did you hear about X Education               23.89\n",
       "What is your current occupation                  29.11\n",
       "What matters most to you in choosing a course    29.32\n",
       "Search                                            0.00\n",
       "Newspaper Article                                 0.00\n",
       "X Education Forums                                0.00\n",
       "Newspaper                                         0.00\n",
       "Digital Advertisement                             0.00\n",
       "Through Recommendations                           0.00\n",
       "Tags                                             36.29\n",
       "Lead Profile                                     29.32\n",
       "City                                             15.37\n",
       "A free copy of Mastering The Interview            0.00\n",
       "Last Notable Activity                             0.00\n",
       "dtype: float64"
      ]
     },
     "execution_count": 17,
     "metadata": {},
     "output_type": "execute_result"
    }
   ],
   "source": [
    "#checking percentage of null values in each column\n",
    "\n",
    "round(100*(data.isnull().sum()/len(data.index)), 2)"
   ]
  },
  {
   "cell_type": "code",
   "execution_count": 18,
   "metadata": {},
   "outputs": [
    {
     "data": {
      "text/plain": [
       "0"
      ]
     },
     "execution_count": 18,
     "metadata": {},
     "output_type": "execute_result"
    }
   ],
   "source": [
    "# Let look into country column\n",
    "\n",
    "data[\"Country\"].describe()\n",
    "\n",
    "# India seems to be covering most of the data , so lets replace the nan values with India\n",
    "\n",
    "data['Country'] = data['Country'].replace(np.nan,'India')\n",
    "data[\"Country\"].isnull().sum()\n",
    "\n",
    "# Country column is settled now"
   ]
  },
  {
   "cell_type": "code",
   "execution_count": 19,
   "metadata": {},
   "outputs": [
    {
     "data": {
      "text/plain": [
       "0"
      ]
     },
     "execution_count": 19,
     "metadata": {},
     "output_type": "execute_result"
    }
   ],
   "source": [
    "#lets look into specialization column\n",
    "data[\"Specialization\"].describe()\n",
    "# Here it is ideal to replace Nan with \"not-provided\"\n",
    "data['Specialization'] = data['Specialization'].fillna('not provided') \n",
    "data[\"Country\"].isnull().sum()"
   ]
  },
  {
   "cell_type": "code",
   "execution_count": 20,
   "metadata": {},
   "outputs": [
    {
     "data": {
      "image/png": "[encoded data removed]",
      "text/plain": [
       "<Figure size 1080x360 with 1 Axes>"
      ]
     },
     "metadata": {},
     "output_type": "display_data"
    }
   ],
   "source": [
    "#plotting spread of Specialization columnn \n",
    "\n",
    "plt.figure(figsize=(15,5))\n",
    "s1=sns.countplot(data.Specialization, hue=data.Converted)\n",
    "s1.set_xticklabels(s1.get_xticklabels(),rotation=90)\n",
    "plt.show()"
   ]
  },
  {
   "cell_type": "code",
   "execution_count": 21,
   "metadata": {},
   "outputs": [],
   "source": [
    "#combining Management Specializations because they show similar trends because lead conversion is high\n",
    "\n",
    "data['Specialization'] = data['Specialization'].replace(['finance management','human resource management',\n",
    "                                                           'marketing management','operations management',\n",
    "                                                           'it projects management','supply chain management',\n",
    "                                                    'healthcare management','hospitality management',\n",
    "                                                           'retail management'] ,'Management_Specializations')  "
   ]
  },
  {
   "cell_type": "code",
   "execution_count": 22,
   "metadata": {},
   "outputs": [
    {
     "data": {
      "image/png": "[encoded data removed]",
      "text/plain": [
       "<Figure size 1080x360 with 1 Axes>"
      ]
     },
     "metadata": {},
     "output_type": "display_data"
    }
   ],
   "source": [
    "plt.figure(figsize=(15,5))\n",
    "s1=sns.countplot(data.Specialization, hue=data.Converted)\n",
    "s1.set_xticklabels(s1.get_xticklabels(),rotation=90)\n",
    "plt.show()"
   ]
  },
  {
   "cell_type": "code",
   "execution_count": 23,
   "metadata": {},
   "outputs": [
    {
     "data": {
      "text/plain": [
       "unemployed              5600\n",
       "NaN                     2690\n",
       "working professional     706\n",
       "student                  210\n",
       "other                     16\n",
       "housewife                 10\n",
       "businessman                8\n",
       "Name: What is your current occupation, dtype: int64"
      ]
     },
     "execution_count": 23,
     "metadata": {},
     "output_type": "execute_result"
    }
   ],
   "source": [
    "#looking into :\"What is your current occupation\" column\n",
    "data['What is your current occupation'].value_counts(dropna=False)"
   ]
  },
  {
   "cell_type": "code",
   "execution_count": 24,
   "metadata": {},
   "outputs": [
    {
     "data": {
      "text/plain": [
       "0"
      ]
     },
     "execution_count": 24,
     "metadata": {},
     "output_type": "execute_result"
    }
   ],
   "source": [
    "#replacing NaN with \"unemployed\"\n",
    "data['What is your current occupation'] = data['What is your current occupation'].replace(np.nan, 'unemployed')\n",
    "#data['What is your current occupation'] = data['What is your current occupation'].replace('Unemployed', 'unemployed')\n",
    "data['What is your current occupation'].isnull().sum()"
   ]
  },
  {
   "cell_type": "code",
   "execution_count": 25,
   "metadata": {},
   "outputs": [
    {
     "data": {
      "image/png": "[encoded data removed]",
      "text/plain": [
       "<Figure size 432x288 with 1 Axes>"
      ]
     },
     "metadata": {},
     "output_type": "display_data"
    }
   ],
   "source": [
    "#visualizing count of Variable based on Converted value\n",
    "\n",
    "s1=sns.countplot(data['What is your current occupation'], hue=data.Converted)\n",
    "s1.set_xticklabels(s1.get_xticklabels(),rotation=90)\n",
    "plt.show()"
   ]
  },
  {
   "cell_type": "markdown",
   "metadata": {},
   "source": [
    "- Working Professionals going for the course have high chances of joining it.\n",
    "- Unemployed conversion is bad"
   ]
  },
  {
   "cell_type": "code",
   "execution_count": 26,
   "metadata": {},
   "outputs": [
    {
     "data": {
      "text/plain": [
       "better career prospects      6528\n",
       "NaN                          2709\n",
       "flexibility & convenience       2\n",
       "other                           1\n",
       "Name: What matters most to you in choosing a course, dtype: int64"
      ]
     },
     "execution_count": 26,
     "metadata": {},
     "output_type": "execute_result"
    }
   ],
   "source": [
    "#checking value counts\n",
    "\n",
    "data['What matters most to you in choosing a course'].value_counts(dropna=False)"
   ]
  },
  {
   "cell_type": "code",
   "execution_count": 27,
   "metadata": {},
   "outputs": [],
   "source": [
    "#replacing Nan values with Mode \"Better Career Prospects\"\n",
    "\n",
    "data['What matters most to you in choosing a course'] = data['What matters most to you in choosing a course'].replace(np.nan,'better career prospects')"
   ]
  },
  {
   "cell_type": "code",
   "execution_count": 28,
   "metadata": {},
   "outputs": [
    {
     "data": {
      "image/png": "[encoded data removed]",
      "text/plain": [
       "<Figure size 432x288 with 1 Axes>"
      ]
     },
     "metadata": {},
     "output_type": "display_data"
    }
   ],
   "source": [
    "#visualizing count of Variable based on Converted value\n",
    "\n",
    "s1=sns.countplot(data['What matters most to you in choosing a course'], hue=data.Converted)\n",
    "s1.set_xticklabels(s1.get_xticklabels(),rotation=90)\n",
    "plt.show()"
   ]
  },
  {
   "cell_type": "code",
   "execution_count": 29,
   "metadata": {},
   "outputs": [
    {
     "data": {
      "text/plain": [
       "better career prospects      9237\n",
       "flexibility & convenience       2\n",
       "other                           1\n",
       "Name: What matters most to you in choosing a course, dtype: int64"
      ]
     },
     "execution_count": 29,
     "metadata": {},
     "output_type": "execute_result"
    }
   ],
   "source": [
    "#checking value counts\n",
    "\n",
    "data['What matters most to you in choosing a course'].value_counts(dropna=False)"
   ]
  },
  {
   "cell_type": "code",
   "execution_count": 30,
   "metadata": {},
   "outputs": [],
   "source": [
    "# we can drop this column because its totally skewed to \"better career prospects\"\n",
    "\n",
    "\n",
    "data= data.drop(['What matters most to you in choosing a course' ],axis=1)"
   ]
  },
  {
   "cell_type": "code",
   "execution_count": 31,
   "metadata": {},
   "outputs": [
    {
     "data": {
      "text/plain": [
       "Prospect ID                                0.00\n",
       "Lead Number                                0.00\n",
       "Lead Origin                                0.00\n",
       "Lead Source                                0.39\n",
       "Do Not Email                               0.00\n",
       "Do Not Call                                0.00\n",
       "Converted                                  0.00\n",
       "TotalVisits                                1.48\n",
       "Total Time Spent on Website                0.00\n",
       "Page Views Per Visit                       1.48\n",
       "Last Activity                              1.11\n",
       "Country                                    0.00\n",
       "Specialization                             0.00\n",
       "How did you hear about X Education        23.89\n",
       "What is your current occupation            0.00\n",
       "Search                                     0.00\n",
       "Newspaper Article                          0.00\n",
       "X Education Forums                         0.00\n",
       "Newspaper                                  0.00\n",
       "Digital Advertisement                      0.00\n",
       "Through Recommendations                    0.00\n",
       "Tags                                      36.29\n",
       "Lead Profile                              29.32\n",
       "City                                      15.37\n",
       "A free copy of Mastering The Interview     0.00\n",
       "Last Notable Activity                      0.00\n",
       "dtype: float64"
      ]
     },
     "execution_count": 31,
     "metadata": {},
     "output_type": "execute_result"
    }
   ],
   "source": [
    "#checking percentage of missing values\n",
    "round(100*(data.isnull().sum()/len(data.index)), 2)"
   ]
  },
  {
   "cell_type": "code",
   "execution_count": 32,
   "metadata": {},
   "outputs": [
    {
     "data": {
      "text/plain": [
       "NaN                                                  3353\n",
       "will revert after reading the email                  2072\n",
       "ringing                                              1203\n",
       "interested in other courses                           513\n",
       "already a student                                     465\n",
       "closed by horizzon                                    358\n",
       "switched off                                          240\n",
       "busy                                                  186\n",
       "lost to eins                                          175\n",
       "not doing further education                           145\n",
       "interested  in full time mba                          117\n",
       "graduation in progress                                111\n",
       "invalid number                                         83\n",
       "diploma holder (not eligible)                          63\n",
       "wrong number given                                     47\n",
       "opp hangup                                             33\n",
       "number not provided                                    27\n",
       "in touch with eins                                     12\n",
       "lost to others                                          7\n",
       "want to take admission but has financial problems       6\n",
       "still thinking                                          6\n",
       "in confusion whether part time or dlp                   5\n",
       "interested in next batch                                5\n",
       "lateral student                                         3\n",
       "university not recognized                               2\n",
       "shall take in the next coming month                     2\n",
       "recognition issue (dec approval)                        1\n",
       "Name: Tags, dtype: int64"
      ]
     },
     "execution_count": 32,
     "metadata": {},
     "output_type": "execute_result"
    }
   ],
   "source": [
    "#checking value counts of Tag variable\n",
    "data['Tags'].value_counts(dropna=False)"
   ]
  },
  {
   "cell_type": "code",
   "execution_count": 33,
   "metadata": {},
   "outputs": [],
   "source": [
    "#replacing Nan values with \"Not Specified\"\n",
    "data['Tags'] = data['Tags'].replace(np.nan,'Not Specified')\n"
   ]
  },
  {
   "cell_type": "code",
   "execution_count": 34,
   "metadata": {},
   "outputs": [],
   "source": [
    "#replacing tags with low frequency with \"Other Tags\"\n",
    "data['Tags'] = data['Tags'].replace(['In confusion whether part time or DLP', 'in touch with EINS','Diploma holder (Not Eligible)',\n",
    "                                     'Approached upfront','Graduation in progress','number not provided', 'opp hangup','Still Thinking',\n",
    "                                    'Lost to Others','Shall take in the next coming month','Lateral student','Interested in Next batch',\n",
    "                                    'Recognition issue (DEC approval)','Want to take admission but has financial problems',\n",
    "                                    'University not recognized'], 'Other_Tags')\n",
    "\n",
    "data['Tags'] = data['Tags'].replace(['switched off',\n",
    "                                      'Already a student',\n",
    "                                       'Not doing further education',\n",
    "                                       'invalid number',\n",
    "                                       'wrong number given',\n",
    "                                       'Interested  in full time MBA'] , 'Other_Tags')"
   ]
  },
  {
   "cell_type": "code",
   "execution_count": 35,
   "metadata": {},
   "outputs": [
    {
     "data": {
      "text/plain": [
       "Prospect ID                                0.00\n",
       "Lead Number                                0.00\n",
       "Lead Origin                                0.00\n",
       "Lead Source                                0.39\n",
       "Do Not Email                               0.00\n",
       "Do Not Call                                0.00\n",
       "Converted                                  0.00\n",
       "TotalVisits                                1.48\n",
       "Total Time Spent on Website                0.00\n",
       "Page Views Per Visit                       1.48\n",
       "Last Activity                              1.11\n",
       "Country                                    0.00\n",
       "Specialization                             0.00\n",
       "How did you hear about X Education        23.89\n",
       "What is your current occupation            0.00\n",
       "Search                                     0.00\n",
       "Newspaper Article                          0.00\n",
       "X Education Forums                         0.00\n",
       "Newspaper                                  0.00\n",
       "Digital Advertisement                      0.00\n",
       "Through Recommendations                    0.00\n",
       "Tags                                       0.00\n",
       "Lead Profile                              29.32\n",
       "City                                      15.37\n",
       "A free copy of Mastering The Interview     0.00\n",
       "Last Notable Activity                      0.00\n",
       "dtype: float64"
      ]
     },
     "execution_count": 35,
     "metadata": {},
     "output_type": "execute_result"
    }
   ],
   "source": [
    "#checking percentage of missing values\n",
    "round(100*(data.isnull().sum()/len(data.index)), 2)"
   ]
  },
  {
   "cell_type": "code",
   "execution_count": 36,
   "metadata": {},
   "outputs": [
    {
     "data": {
      "text/plain": [
       "select                   5043\n",
       "NaN                      2207\n",
       "online search             808\n",
       "word of mouth             348\n",
       "student of someschool     310\n",
       "other                     186\n",
       "multiple sources          152\n",
       "advertisements             70\n",
       "social media               67\n",
       "email                      26\n",
       "sms                        23\n",
       "Name: How did you hear about X Education, dtype: int64"
      ]
     },
     "execution_count": 36,
     "metadata": {},
     "output_type": "execute_result"
    }
   ],
   "source": [
    "#checking value counts\n",
    "\n",
    "data['How did you hear about X Education'].value_counts(dropna=False)"
   ]
  },
  {
   "cell_type": "code",
   "execution_count": 37,
   "metadata": {},
   "outputs": [],
   "source": [
    "#Here we can replace NaN with select\n",
    "\n",
    "data['How did you hear about X Education'] = data['How did you hear about X Education'].replace(np.nan,'select')"
   ]
  },
  {
   "cell_type": "code",
   "execution_count": 38,
   "metadata": {},
   "outputs": [
    {
     "name": "stdout",
     "output_type": "stream",
     "text": [
      "select                   7250\n",
      "online search             808\n",
      "word of mouth             348\n",
      "student of someschool     310\n",
      "other                     186\n",
      "multiple sources          152\n",
      "advertisements             70\n",
      "social media               67\n",
      "email                      26\n",
      "sms                        23\n",
      "Name: How did you hear about X Education, dtype: int64\n"
     ]
    }
   ],
   "source": [
    "#checking value counts\n",
    "\n",
    "print(data['How did you hear about X Education'].value_counts(dropna=False))\n",
    "\n",
    "#we know that select here means nothing so we can drop this column as most of the data is select\n",
    "data= data.drop(['How did you hear about X Education'],axis=1)"
   ]
  },
  {
   "cell_type": "code",
   "execution_count": 39,
   "metadata": {},
   "outputs": [
    {
     "data": {
      "text/plain": [
       "select                         4146\n",
       "NaN                            2709\n",
       "potential lead                 1613\n",
       "other leads                     487\n",
       "student of someschool           241\n",
       "lateral student                  24\n",
       "dual specialization student      20\n",
       "Name: Lead Profile, dtype: int64"
      ]
     },
     "execution_count": 39,
     "metadata": {},
     "output_type": "execute_result"
    }
   ],
   "source": [
    "#checking value counts\n",
    "\n",
    "data['Lead Profile'].value_counts(dropna=False)"
   ]
  },
  {
   "cell_type": "code",
   "execution_count": 40,
   "metadata": {},
   "outputs": [
    {
     "data": {
      "text/plain": [
       "select                         6855\n",
       "potential lead                 1613\n",
       "other leads                     487\n",
       "student of someschool           241\n",
       "lateral student                  24\n",
       "dual specialization student      20\n",
       "Name: Lead Profile, dtype: int64"
      ]
     },
     "execution_count": 40,
     "metadata": {},
     "output_type": "execute_result"
    }
   ],
   "source": [
    "# Here are also we can replace nan with select\n",
    "\n",
    "data['Lead Profile'] = data['Lead Profile'].replace(np.nan,'select')\n",
    "data['Lead Profile'].value_counts(dropna=False)\n",
    "#Lead profile also have select as majority which actually means nothing so dropping the columns"
   ]
  },
  {
   "cell_type": "code",
   "execution_count": 41,
   "metadata": {},
   "outputs": [],
   "source": [
    "data= data.drop(['Lead Profile'],axis=1)"
   ]
  },
  {
   "cell_type": "code",
   "execution_count": 42,
   "metadata": {},
   "outputs": [
    {
     "data": {
      "text/plain": [
       "mumbai                         3222\n",
       "select                         2249\n",
       "NaN                            1420\n",
       "thane & outskirts               752\n",
       "other cities                    686\n",
       "other cities of maharashtra     457\n",
       "other metro cities              380\n",
       "tier ii cities                   74\n",
       "Name: City, dtype: int64"
      ]
     },
     "execution_count": 42,
     "metadata": {},
     "output_type": "execute_result"
    }
   ],
   "source": [
    "#checking value counts of \"City\" column\n",
    "\n",
    "data['City'].value_counts(dropna=False)"
   ]
  },
  {
   "cell_type": "code",
   "execution_count": 43,
   "metadata": {},
   "outputs": [],
   "source": [
    "data['City'] = data['City'].replace(np.nan,'Mumbai')"
   ]
  },
  {
   "cell_type": "code",
   "execution_count": 44,
   "metadata": {},
   "outputs": [
    {
     "data": {
      "text/plain": [
       "Prospect ID                               0.00\n",
       "Lead Number                               0.00\n",
       "Lead Origin                               0.00\n",
       "Lead Source                               0.39\n",
       "Do Not Email                              0.00\n",
       "Do Not Call                               0.00\n",
       "Converted                                 0.00\n",
       "TotalVisits                               1.48\n",
       "Total Time Spent on Website               0.00\n",
       "Page Views Per Visit                      1.48\n",
       "Last Activity                             1.11\n",
       "Country                                   0.00\n",
       "Specialization                            0.00\n",
       "What is your current occupation           0.00\n",
       "Search                                    0.00\n",
       "Newspaper Article                         0.00\n",
       "X Education Forums                        0.00\n",
       "Newspaper                                 0.00\n",
       "Digital Advertisement                     0.00\n",
       "Through Recommendations                   0.00\n",
       "Tags                                      0.00\n",
       "City                                      0.00\n",
       "A free copy of Mastering The Interview    0.00\n",
       "Last Notable Activity                     0.00\n",
       "dtype: float64"
      ]
     },
     "execution_count": 44,
     "metadata": {},
     "output_type": "execute_result"
    }
   ],
   "source": [
    "#checking percentage of null values in each column\n",
    "\n",
    "round(100*(data.isnull().sum()/len(data.index)), 2)"
   ]
  },
  {
   "cell_type": "code",
   "execution_count": 45,
   "metadata": {},
   "outputs": [
    {
     "data": {
      "text/plain": [
       "google               2873\n",
       "direct traffic       2543\n",
       "olark chat           1755\n",
       "organic search       1154\n",
       "reference             534\n",
       "welingak website      142\n",
       "referral sites        125\n",
       "facebook               55\n",
       "NaN                    36\n",
       "bing                    6\n",
       "click2call              4\n",
       "social media            2\n",
       "press_release           2\n",
       "live chat               2\n",
       "welearn                 1\n",
       "blog                    1\n",
       "welearnblog_home        1\n",
       "testone                 1\n",
       "nc_edm                  1\n",
       "youtubechannel          1\n",
       "pay per click ads       1\n",
       "Name: Lead Source, dtype: int64"
      ]
     },
     "execution_count": 45,
     "metadata": {},
     "output_type": "execute_result"
    }
   ],
   "source": [
    "#checking value counts of Lead Source column\n",
    "\n",
    "data['Lead Source'].value_counts(dropna=False)"
   ]
  },
  {
   "cell_type": "code",
   "execution_count": 46,
   "metadata": {},
   "outputs": [],
   "source": [
    "#replacing nan with others\n",
    "data['Lead Source'] = data['Lead Source'].replace(np.nan,'others')"
   ]
  },
  {
   "cell_type": "code",
   "execution_count": 47,
   "metadata": {},
   "outputs": [
    {
     "data": {
      "image/png": "[encoded data removed]",
      "text/plain": [
       "<Figure size 1080x360 with 1 Axes>"
      ]
     },
     "metadata": {},
     "output_type": "display_data"
    }
   ],
   "source": [
    "#visualizing count of Variable based on Converted value\n",
    "plt.figure(figsize=(15,5))\n",
    "s1=sns.countplot(data['Lead Source'], hue=data.Converted)\n",
    "s1.set_xticklabels(s1.get_xticklabels(),rotation=90)\n",
    "plt.show()"
   ]
  },
  {
   "cell_type": "markdown",
   "metadata": {},
   "source": [
    "- Maximum number of leads are generated by Google and Direct traffic.\n",
    "- Conversion Rate of reference leads and leads through welingak website is high.\n",
    "- To improve overall lead conversion rate, focus should be on improving lead converion of olark chat, organic search, direct traffic, and google leads and generate more leads from reference and welingak website."
   ]
  },
  {
   "cell_type": "code",
   "execution_count": 48,
   "metadata": {},
   "outputs": [
    {
     "data": {
      "text/plain": [
       "email opened                    3437\n",
       "sms sent                        2745\n",
       "olark chat conversation          973\n",
       "page visited on website          640\n",
       "converted to lead                428\n",
       "email bounced                    326\n",
       "email link clicked               267\n",
       "form submitted on website        116\n",
       "NaN                              103\n",
       "unreachable                       93\n",
       "unsubscribed                      61\n",
       "had a phone conversation          30\n",
       "approached upfront                 9\n",
       "view in browser link clicked       6\n",
       "email received                     2\n",
       "email marked spam                  2\n",
       "resubscribed to emails             1\n",
       "visited booth in tradeshow         1\n",
       "Name: Last Activity, dtype: int64"
      ]
     },
     "execution_count": 48,
     "metadata": {},
     "output_type": "execute_result"
    }
   ],
   "source": [
    "#checking value counts of  'Last Activity' column\n",
    "\n",
    "data['Last Activity'].value_counts(dropna=False)"
   ]
  },
  {
   "cell_type": "code",
   "execution_count": 49,
   "metadata": {},
   "outputs": [
    {
     "data": {
      "text/plain": [
       "12"
      ]
     },
     "execution_count": 49,
     "metadata": {},
     "output_type": "execute_result"
    }
   ],
   "source": [
    "#replacing nan with others and also low frequency with others\n",
    "data['Last Activity'] = data['Last Activity'].replace(np.nan,'others')\n",
    "data['Last Activity'] = data['Last Activity'].replace([\"resubscribed to emails\",\"visited booth in tradeshow\",\"email received\",\"email marked spam\",\"view in browser link clicked\",\"view in browser link clicked\",\"approached upfront\"],'others')\n",
    "len(data['Last Activity'].unique())"
   ]
  },
  {
   "cell_type": "code",
   "execution_count": 50,
   "metadata": {},
   "outputs": [
    {
     "data": {
      "text/plain": [
       "Prospect ID                               0.00\n",
       "Lead Number                               0.00\n",
       "Lead Origin                               0.00\n",
       "Lead Source                               0.00\n",
       "Do Not Email                              0.00\n",
       "Do Not Call                               0.00\n",
       "Converted                                 0.00\n",
       "TotalVisits                               1.48\n",
       "Total Time Spent on Website               0.00\n",
       "Page Views Per Visit                      1.48\n",
       "Last Activity                             0.00\n",
       "Country                                   0.00\n",
       "Specialization                            0.00\n",
       "What is your current occupation           0.00\n",
       "Search                                    0.00\n",
       "Newspaper Article                         0.00\n",
       "X Education Forums                        0.00\n",
       "Newspaper                                 0.00\n",
       "Digital Advertisement                     0.00\n",
       "Through Recommendations                   0.00\n",
       "Tags                                      0.00\n",
       "City                                      0.00\n",
       "A free copy of Mastering The Interview    0.00\n",
       "Last Notable Activity                     0.00\n",
       "dtype: float64"
      ]
     },
     "execution_count": 50,
     "metadata": {},
     "output_type": "execute_result"
    }
   ],
   "source": [
    "#checking percentage of null values in each column\n",
    "\n",
    "round(100*(data.isnull().sum()/len(data.index)), 2)"
   ]
  },
  {
   "cell_type": "code",
   "execution_count": 51,
   "metadata": {},
   "outputs": [
    {
     "data": {
      "text/plain": [
       "array(['page visited on website', 'email opened', 'unreachable',\n",
       "       'converted to lead', 'olark chat conversation', 'email bounced',\n",
       "       'email link clicked', 'form submitted on website', 'unsubscribed',\n",
       "       'had a phone conversation', 'others', 'sms sent'], dtype=object)"
      ]
     },
     "execution_count": 51,
     "metadata": {},
     "output_type": "execute_result"
    }
   ],
   "source": [
    "data['Last Activity'].unique()\n",
    "#\"TotalVisits\" and Page Views Per Visit  is little tricky , so dropping rows \n",
    "#which have nan as there are only 1.5% rows and it wont effect the model"
   ]
  },
  {
   "cell_type": "code",
   "execution_count": 52,
   "metadata": {},
   "outputs": [],
   "source": [
    "data = data.dropna()\n"
   ]
  },
  {
   "cell_type": "code",
   "execution_count": 53,
   "metadata": {},
   "outputs": [
    {
     "data": {
      "text/plain": [
       "Prospect ID                               0.0\n",
       "Lead Number                               0.0\n",
       "Lead Origin                               0.0\n",
       "Lead Source                               0.0\n",
       "Do Not Email                              0.0\n",
       "Do Not Call                               0.0\n",
       "Converted                                 0.0\n",
       "TotalVisits                               0.0\n",
       "Total Time Spent on Website               0.0\n",
       "Page Views Per Visit                      0.0\n",
       "Last Activity                             0.0\n",
       "Country                                   0.0\n",
       "Specialization                            0.0\n",
       "What is your current occupation           0.0\n",
       "Search                                    0.0\n",
       "Newspaper Article                         0.0\n",
       "X Education Forums                        0.0\n",
       "Newspaper                                 0.0\n",
       "Digital Advertisement                     0.0\n",
       "Through Recommendations                   0.0\n",
       "Tags                                      0.0\n",
       "City                                      0.0\n",
       "A free copy of Mastering The Interview    0.0\n",
       "Last Notable Activity                     0.0\n",
       "dtype: float64"
      ]
     },
     "execution_count": 53,
     "metadata": {},
     "output_type": "execute_result"
    }
   ],
   "source": [
    "#checking percentage of null values in each column\n",
    "\n",
    "round(100*(data.isnull().sum()/len(data.index)), 2)"
   ]
  },
  {
   "cell_type": "code",
   "execution_count": 54,
   "metadata": {},
   "outputs": [],
   "source": [
    "# Removing lead number and prospect ID as they are unique for each customer\n",
    "data.drop([\"Prospect ID\",\"Lead Number\"],axis=1,inplace=True)"
   ]
  },
  {
   "cell_type": "code",
   "execution_count": 55,
   "metadata": {},
   "outputs": [
    {
     "data": {
      "text/plain": [
       "no     9101\n",
       "yes       2\n",
       "Name: Do Not Call, dtype: int64"
      ]
     },
     "execution_count": 55,
     "metadata": {},
     "output_type": "execute_result"
    }
   ],
   "source": [
    "#checking value counts for Do Not Call\n",
    "data['Do Not Call'].value_counts(dropna=False)"
   ]
  },
  {
   "cell_type": "code",
   "execution_count": 56,
   "metadata": {},
   "outputs": [],
   "source": [
    "#imbalance dropping column\n",
    "data.drop([\"Do Not Call\"],axis=1,inplace=True)"
   ]
  },
  {
   "cell_type": "code",
   "execution_count": 57,
   "metadata": {},
   "outputs": [
    {
     "data": {
      "text/plain": [
       "no     8379\n",
       "yes     724\n",
       "Name: Do Not Email, dtype: int64"
      ]
     },
     "execution_count": 57,
     "metadata": {},
     "output_type": "execute_result"
    }
   ],
   "source": [
    "#checking value counts for Do Not Email\n",
    "data['Do Not Email'].value_counts(dropna=False)"
   ]
  },
  {
   "cell_type": "code",
   "execution_count": 58,
   "metadata": {},
   "outputs": [],
   "source": [
    "#data imbalance dropping column\n",
    "data.drop([\"Do Not Email\"],axis=1,inplace=True)"
   ]
  },
  {
   "cell_type": "code",
   "execution_count": 59,
   "metadata": {},
   "outputs": [
    {
     "data": {
      "text/plain": [
       "no     9089\n",
       "yes      14\n",
       "Name: Search, dtype: int64"
      ]
     },
     "execution_count": 59,
     "metadata": {},
     "output_type": "execute_result"
    }
   ],
   "source": [
    "data['Search'].value_counts(dropna=False)"
   ]
  },
  {
   "cell_type": "code",
   "execution_count": 60,
   "metadata": {},
   "outputs": [],
   "source": [
    "#data imbalance dropping column\n",
    "data.drop(['Search'],axis=1,inplace=True)"
   ]
  },
  {
   "cell_type": "code",
   "execution_count": 61,
   "metadata": {},
   "outputs": [
    {
     "data": {
      "text/plain": [
       "india                   6492\n",
       "India                   2324\n",
       "united states             69\n",
       "united arab emirates      53\n",
       "singapore                 24\n",
       "saudi arabia              21\n",
       "united kingdom            15\n",
       "australia                 13\n",
       "qatar                     10\n",
       "hong kong                  7\n",
       "bahrain                    7\n",
       "oman                       6\n",
       "france                     6\n",
       "unknown                    5\n",
       "germany                    4\n",
       "nigeria                    4\n",
       "canada                     4\n",
       "kuwait                     4\n",
       "south africa               4\n",
       "sweden                     3\n",
       "philippines                2\n",
       "belgium                    2\n",
       "china                      2\n",
       "bangladesh                 2\n",
       "netherlands                2\n",
       "asia/pacific region        2\n",
       "ghana                      2\n",
       "uganda                     2\n",
       "italy                      2\n",
       "tanzania                   1\n",
       "sri lanka                  1\n",
       "vietnam                    1\n",
       "switzerland                1\n",
       "indonesia                  1\n",
       "malaysia                   1\n",
       "liberia                    1\n",
       "denmark                    1\n",
       "kenya                      1\n",
       "russia                     1\n",
       "Name: Country, dtype: int64"
      ]
     },
     "execution_count": 61,
     "metadata": {},
     "output_type": "execute_result"
    }
   ],
   "source": [
    "data['Country'].value_counts(dropna=False)"
   ]
  },
  {
   "cell_type": "code",
   "execution_count": 62,
   "metadata": {},
   "outputs": [],
   "source": [
    "#data imbalance dropping column\n",
    "data.drop(['Country'],axis=1,inplace=True)"
   ]
  },
  {
   "cell_type": "code",
   "execution_count": 63,
   "metadata": {},
   "outputs": [],
   "source": [
    "#data imbalance dropping column\n",
    "data.drop([\"Newspaper Article\"],axis=1,inplace=True)"
   ]
  },
  {
   "cell_type": "code",
   "execution_count": 64,
   "metadata": {},
   "outputs": [],
   "source": [
    "#data imbalance dropping column\n",
    "data.drop([\"X Education Forums\"],axis=1,inplace=True)"
   ]
  },
  {
   "cell_type": "code",
   "execution_count": 65,
   "metadata": {},
   "outputs": [],
   "source": [
    "#data imbalance dropping column\n",
    "data.drop([\"Newspaper\"],axis=1,inplace=True)"
   ]
  },
  {
   "cell_type": "code",
   "execution_count": 66,
   "metadata": {},
   "outputs": [],
   "source": [
    "#data imbalance dropping column\n",
    "data.drop(['Digital Advertisement'],axis=1,inplace=True)"
   ]
  },
  {
   "cell_type": "code",
   "execution_count": 67,
   "metadata": {},
   "outputs": [],
   "source": [
    "#data imbalance dropping column\n",
    "data.drop(['Through Recommendations'],axis=1,inplace=True)"
   ]
  },
  {
   "cell_type": "code",
   "execution_count": 68,
   "metadata": {},
   "outputs": [],
   "source": [
    "#data imbalance dropping column\n",
    "data.drop(['A free copy of Mastering The Interview'],axis=1,inplace=True)"
   ]
  },
  {
   "cell_type": "code",
   "execution_count": 69,
   "metadata": {},
   "outputs": [
    {
     "data": {
      "text/plain": [
       "modified                        3270\n",
       "email opened                    2827\n",
       "sms sent                        2172\n",
       "page visited on website          318\n",
       "olark chat conversation          183\n",
       "email link clicked               173\n",
       "email bounced                     60\n",
       "unsubscribed                      47\n",
       "unreachable                       32\n",
       "had a phone conversation          14\n",
       "email marked spam                  2\n",
       "form submitted on website          1\n",
       "approached upfront                 1\n",
       "email received                     1\n",
       "view in browser link clicked       1\n",
       "resubscribed to emails             1\n",
       "Name: Last Notable Activity, dtype: int64"
      ]
     },
     "execution_count": 69,
     "metadata": {},
     "output_type": "execute_result"
    }
   ],
   "source": [
    "#checking value counts of last Notable Activity\n",
    "data['Last Notable Activity'].value_counts()"
   ]
  },
  {
   "cell_type": "code",
   "execution_count": 70,
   "metadata": {},
   "outputs": [],
   "source": [
    "#clubbing lower frequency values\n",
    "\n",
    "data['Last Notable Activity'] = data['Last Notable Activity'].replace(['Had a Phone Conversation',\n",
    "                                                                       'Email Marked Spam',\n",
    "                                                                         'Unreachable',\n",
    "                                                                         'Unsubscribed',\n",
    "                                                                         'Email Bounced',                                                                    \n",
    "                                                                       'Resubscribed to emails',\n",
    "                                                                       'View in browser link Clicked',\n",
    "                                                                       'Approached upfront', \n",
    "                                                                       'Form Submitted on Website', \n",
    "                                                                       'Email Received'],'Other_Notable_activity')"
   ]
  },
  {
   "cell_type": "code",
   "execution_count": null,
   "metadata": {},
   "outputs": [],
   "source": []
  },
  {
   "cell_type": "code",
   "execution_count": 71,
   "metadata": {},
   "outputs": [
    {
     "data": {
      "text/plain": [
       "(9103, 12)"
      ]
     },
     "execution_count": 71,
     "metadata": {},
     "output_type": "execute_result"
    }
   ],
   "source": [
    "data.shape"
   ]
  },
  {
   "cell_type": "code",
   "execution_count": 72,
   "metadata": {},
   "outputs": [
    {
     "data": {
      "text/plain": [
       "Index(['Lead Origin', 'Lead Source', 'Converted', 'TotalVisits',\n",
       "       'Total Time Spent on Website', 'Page Views Per Visit', 'Last Activity',\n",
       "       'Specialization', 'What is your current occupation', 'Tags', 'City',\n",
       "       'Last Notable Activity'],\n",
       "      dtype='object')"
      ]
     },
     "execution_count": 72,
     "metadata": {},
     "output_type": "execute_result"
    }
   ],
   "source": [
    "data.columns"
   ]
  },
  {
   "cell_type": "code",
   "execution_count": 73,
   "metadata": {},
   "outputs": [
    {
     "data": {
      "text/html": [
       "<div>\n",
       "<style scoped>\n",
       "    .dataframe tbody tr th:only-of-type {\n",
       "        vertical-align: middle;\n",
       "    }\n",
       "\n",
       "    .dataframe tbody tr th {\n",
       "        vertical-align: top;\n",
       "    }\n",
       "\n",
       "    .dataframe thead th {\n",
       "        text-align: right;\n",
       "    }\n",
       "</style>\n",
       "<table border=\"1\" class=\"dataframe\">\n",
       "  <thead>\n",
       "    <tr style=\"text-align: right;\">\n",
       "      <th></th>\n",
       "      <th>Lead Origin</th>\n",
       "      <th>Lead Source</th>\n",
       "      <th>Converted</th>\n",
       "      <th>TotalVisits</th>\n",
       "      <th>Total Time Spent on Website</th>\n",
       "      <th>Page Views Per Visit</th>\n",
       "      <th>Last Activity</th>\n",
       "      <th>Specialization</th>\n",
       "      <th>What is your current occupation</th>\n",
       "      <th>Tags</th>\n",
       "      <th>City</th>\n",
       "      <th>Last Notable Activity</th>\n",
       "    </tr>\n",
       "  </thead>\n",
       "  <tbody>\n",
       "    <tr>\n",
       "      <th>0</th>\n",
       "      <td>api</td>\n",
       "      <td>olark chat</td>\n",
       "      <td>0</td>\n",
       "      <td>0.0</td>\n",
       "      <td>0</td>\n",
       "      <td>0.0</td>\n",
       "      <td>page visited on website</td>\n",
       "      <td>select</td>\n",
       "      <td>unemployed</td>\n",
       "      <td>interested in other courses</td>\n",
       "      <td>select</td>\n",
       "      <td>modified</td>\n",
       "    </tr>\n",
       "    <tr>\n",
       "      <th>1</th>\n",
       "      <td>api</td>\n",
       "      <td>organic search</td>\n",
       "      <td>0</td>\n",
       "      <td>5.0</td>\n",
       "      <td>674</td>\n",
       "      <td>2.5</td>\n",
       "      <td>email opened</td>\n",
       "      <td>select</td>\n",
       "      <td>unemployed</td>\n",
       "      <td>ringing</td>\n",
       "      <td>select</td>\n",
       "      <td>email opened</td>\n",
       "    </tr>\n",
       "    <tr>\n",
       "      <th>2</th>\n",
       "      <td>landing page submission</td>\n",
       "      <td>direct traffic</td>\n",
       "      <td>1</td>\n",
       "      <td>2.0</td>\n",
       "      <td>1532</td>\n",
       "      <td>2.0</td>\n",
       "      <td>email opened</td>\n",
       "      <td>business administration</td>\n",
       "      <td>student</td>\n",
       "      <td>will revert after reading the email</td>\n",
       "      <td>mumbai</td>\n",
       "      <td>email opened</td>\n",
       "    </tr>\n",
       "    <tr>\n",
       "      <th>3</th>\n",
       "      <td>landing page submission</td>\n",
       "      <td>direct traffic</td>\n",
       "      <td>0</td>\n",
       "      <td>1.0</td>\n",
       "      <td>305</td>\n",
       "      <td>1.0</td>\n",
       "      <td>unreachable</td>\n",
       "      <td>media and advertising</td>\n",
       "      <td>unemployed</td>\n",
       "      <td>ringing</td>\n",
       "      <td>mumbai</td>\n",
       "      <td>modified</td>\n",
       "    </tr>\n",
       "    <tr>\n",
       "      <th>4</th>\n",
       "      <td>landing page submission</td>\n",
       "      <td>google</td>\n",
       "      <td>1</td>\n",
       "      <td>2.0</td>\n",
       "      <td>1428</td>\n",
       "      <td>1.0</td>\n",
       "      <td>converted to lead</td>\n",
       "      <td>select</td>\n",
       "      <td>unemployed</td>\n",
       "      <td>will revert after reading the email</td>\n",
       "      <td>mumbai</td>\n",
       "      <td>modified</td>\n",
       "    </tr>\n",
       "  </tbody>\n",
       "</table>\n",
       "</div>"
      ],
      "text/plain": [
       "               Lead Origin     Lead Source  Converted  TotalVisits  \\\n",
       "0                      api      olark chat          0          0.0   \n",
       "1                      api  organic search          0          5.0   \n",
       "2  landing page submission  direct traffic          1          2.0   \n",
       "3  landing page submission  direct traffic          0          1.0   \n",
       "4  landing page submission          google          1          2.0   \n",
       "\n",
       "   Total Time Spent on Website  Page Views Per Visit            Last Activity  \\\n",
       "0                            0                   0.0  page visited on website   \n",
       "1                          674                   2.5             email opened   \n",
       "2                         1532                   2.0             email opened   \n",
       "3                          305                   1.0              unreachable   \n",
       "4                         1428                   1.0        converted to lead   \n",
       "\n",
       "            Specialization What is your current occupation  \\\n",
       "0                   select                      unemployed   \n",
       "1                   select                      unemployed   \n",
       "2  business administration                         student   \n",
       "3    media and advertising                      unemployed   \n",
       "4                   select                      unemployed   \n",
       "\n",
       "                                  Tags    City Last Notable Activity  \n",
       "0          interested in other courses  select              modified  \n",
       "1                              ringing  select          email opened  \n",
       "2  will revert after reading the email  mumbai          email opened  \n",
       "3                              ringing  mumbai              modified  \n",
       "4  will revert after reading the email  mumbai              modified  "
      ]
     },
     "execution_count": 73,
     "metadata": {},
     "output_type": "execute_result"
    }
   ],
   "source": [
    "data.head()"
   ]
  },
  {
   "cell_type": "markdown",
   "metadata": {},
   "source": []
  },
  {
   "cell_type": "code",
   "execution_count": 74,
   "metadata": {},
   "outputs": [
    {
     "data": {
      "image/png": "[encoded data removed]",
      "text/plain": [
       "<Figure size 720x720 with 20 Axes>"
      ]
     },
     "metadata": {},
     "output_type": "display_data"
    }
   ],
   "source": [
    "# Visualizing numerical variables pairing up with target variable 'Converted'\n",
    "sns.pairplot(data, vars = ['Converted','TotalVisits', 'Total Time Spent on Website', 'Page Views Per Visit'])\n",
    "plt.show()"
   ]
  },
  {
   "cell_type": "code",
   "execution_count": 79,
   "metadata": {},
   "outputs": [
    {
     "data": {
      "image/png": "[encoded data removed]",
      "text/plain": [
       "<Figure size 1440x720 with 1 Axes>"
      ]
     },
     "metadata": {},
     "output_type": "display_data"
    },
    {
     "data": {
      "image/png": "[encoded data removed]",
      "text/plain": [
       "<Figure size 1440x720 with 1 Axes>"
      ]
     },
     "metadata": {},
     "output_type": "display_data"
    },
    {
     "data": {
      "image/png": "[encoded data removed]",
      "text/plain": [
       "<Figure size 1440x720 with 1 Axes>"
      ]
     },
     "metadata": {},
     "output_type": "display_data"
    }
   ],
   "source": [
    "Matrix = ['What is your current occupation','Lead Source','Last Activity']\n",
    "for i in enumerate(Matrix):\n",
    "    plt.figure(figsize = (20,10))\n",
    "    ax = plt.subplot(2,2, i[0]+1)\n",
    "    sns.countplot(data[i[1]])\n",
    "    plt.yscale('log')\n",
    "    plt.xticks(rotation=90)\n",
    "    ax.set_title(i[1])"
   ]
  },
  {
   "cell_type": "code",
   "execution_count": 75,
   "metadata": {},
   "outputs": [
    {
     "data": {
      "image/png": "[encoded data removed]",
      "text/plain": [
       "<Figure size 720x576 with 2 Axes>"
      ]
     },
     "metadata": {},
     "output_type": "display_data"
    }
   ],
   "source": [
    "#Checking correlations of numeric values\n",
    "# figure size\n",
    "plt.figure(figsize=(10,8))\n",
    "\n",
    "# heatmap\n",
    "sns.heatmap(data.corr(), cmap=\"YlGnBu\", annot=True)\n",
    "plt.show()"
   ]
  },
  {
   "cell_type": "code",
   "execution_count": 76,
   "metadata": {},
   "outputs": [
    {
     "data": {
      "image/png": "[encoded data removed]",
      "text/plain": [
       "<Figure size 1008x360 with 1 Axes>"
      ]
     },
     "metadata": {},
     "output_type": "display_data"
    }
   ],
   "source": [
    "#visualizing count of Variable based on Converted value\n",
    "\n",
    "plt.figure(figsize = (14,5))\n",
    "ax1=sns.countplot(x = \"Last Notable Activity\", hue = \"Converted\", data =data)\n",
    "ax1.set_xticklabels(ax1.get_xticklabels(),rotation=90)\n",
    "plt.show()\n"
   ]
  },
  {
   "cell_type": "code",
   "execution_count": 78,
   "metadata": {},
   "outputs": [
    {
     "data": {
      "image/png": "[encoded data removed]",
      "text/plain": [
       "<Figure size 576x360 with 1 Axes>"
      ]
     },
     "metadata": {},
     "output_type": "display_data"
    }
   ],
   "source": [
    "#visualizing count of Variable based on Converted value\n",
    "\n",
    "plt.figure(figsize=(8,5))\n",
    "s1=sns.countplot(data['Lead Origin'], hue=data.Converted)\n",
    "s1.set_xticklabels(s1.get_xticklabels(),rotation=90)\n",
    "plt.show()"
   ]
  },
  {
   "cell_type": "code",
   "execution_count": 80,
   "metadata": {
    "scrolled": true
   },
   "outputs": [
    {
     "name": "stdout",
     "output_type": "stream",
     "text": [
      "<class 'pandas.core.frame.DataFrame'>\n",
      "Int64Index: 9103 entries, 0 to 9239\n",
      "Data columns (total 12 columns):\n",
      "Lead Origin                        9103 non-null object\n",
      "Lead Source                        9103 non-null object\n",
      "Converted                          9103 non-null int64\n",
      "TotalVisits                        9103 non-null float64\n",
      "Total Time Spent on Website        9103 non-null int64\n",
      "Page Views Per Visit               9103 non-null float64\n",
      "Last Activity                      9103 non-null object\n",
      "Specialization                     9103 non-null object\n",
      "What is your current occupation    9103 non-null object\n",
      "Tags                               9103 non-null object\n",
      "City                               9103 non-null object\n",
      "Last Notable Activity              9103 non-null object\n",
      "dtypes: float64(2), int64(2), object(8)\n",
      "memory usage: 1.2+ MB\n"
     ]
    }
   ],
   "source": [
    "data.info()"
   ]
  },
  {
   "cell_type": "markdown",
   "metadata": {},
   "source": [
    "##### lets look into three numerical columns for outlier analysis\n",
    "- TotalVisits \n",
    "- Total Time Spent on Website\n",
    "- Page Views Per Visit\n"
   ]
  },
  {
   "cell_type": "code",
   "execution_count": 81,
   "metadata": {},
   "outputs": [
    {
     "data": {
      "image/png": "[encoded data removed]",
      "text/plain": [
       "<Figure size 432x288 with 1 Axes>"
      ]
     },
     "metadata": {},
     "output_type": "display_data"
    }
   ],
   "source": [
    "#checking Spread of \"Total Visits\" vs Converted variable\n",
    "sns.boxplot(y = 'TotalVisits', x = 'Converted', data = data)\n",
    "plt.show()"
   ]
  },
  {
   "cell_type": "code",
   "execution_count": 82,
   "metadata": {},
   "outputs": [
    {
     "data": {
      "image/png": "[encoded data removed]",
      "text/plain": [
       "<Figure size 720x288 with 2 Axes>"
      ]
     },
     "metadata": {},
     "output_type": "display_data"
    }
   ],
   "source": [
    "plt.figure(figsize=(10,4))\n",
    "plt.subplot(121)\n",
    "sns.boxplot(x=data.Converted,y=data['Total Time Spent on Website'])\n",
    "plt.subplot(122)\n",
    "sns.boxplot(x=data.Converted,y=data['Page Views Per Visit'])\n",
    "plt.show()"
   ]
  },
  {
   "cell_type": "code",
   "execution_count": 83,
   "metadata": {},
   "outputs": [],
   "source": [
    "\n",
    "Q1 =  data['TotalVisits'].quantile(0.01)\n",
    "Q3 =  data['TotalVisits'].quantile(0.99)\n",
    "\n",
    "data = data[(data.TotalVisits <= Q3)]\n",
    "data = data[(data.TotalVisits >= Q1)]\n",
    "\n"
   ]
  },
  {
   "cell_type": "code",
   "execution_count": 84,
   "metadata": {},
   "outputs": [
    {
     "data": {
      "image/png": "[encoded data removed]",
      "text/plain": [
       "<Figure size 432x288 with 1 Axes>"
      ]
     },
     "metadata": {},
     "output_type": "display_data"
    }
   ],
   "source": [
    "sns.boxplot(y = 'TotalVisits', x = 'Converted', data = data)\n",
    "plt.show()"
   ]
  },
  {
   "cell_type": "code",
   "execution_count": 85,
   "metadata": {},
   "outputs": [],
   "source": [
    "\n",
    "\n",
    "Q1 =  data['Page Views Per Visit'].quantile(0.01)\n",
    "Q3 =  data['Page Views Per Visit'].quantile(0.99)\n",
    "\n",
    "data = data[(data.TotalVisits <= Q3)]\n",
    "data = data[(data.TotalVisits >= Q1)]"
   ]
  },
  {
   "cell_type": "code",
   "execution_count": 86,
   "metadata": {},
   "outputs": [
    {
     "data": {
      "image/png": "[encoded data removed]",
      "text/plain": [
       "<Figure size 432x288 with 1 Axes>"
      ]
     },
     "metadata": {},
     "output_type": "display_data"
    }
   ],
   "source": [
    "sns.boxplot(y = 'Page Views Per Visit', x = 'Converted', data = data)\n",
    "plt.show()"
   ]
  },
  {
   "cell_type": "code",
   "execution_count": 87,
   "metadata": {},
   "outputs": [],
   "source": [
    "# outlier analysis , we focused on converted outlier analysis , so \"total time\n",
    "#spent on website\" does not need outlier analysis"
   ]
  },
  {
   "cell_type": "markdown",
   "metadata": {},
   "source": [
    "#  Creating Dummy Variables for categorical"
   ]
  },
  {
   "cell_type": "code",
   "execution_count": 88,
   "metadata": {},
   "outputs": [
    {
     "name": "stdout",
     "output_type": "stream",
     "text": [
      "8\n"
     ]
    },
    {
     "data": {
      "text/plain": [
       "Index(['Lead Origin', 'Lead Source', 'Last Activity', 'Specialization',\n",
       "       'What is your current occupation', 'Tags', 'City',\n",
       "       'Last Notable Activity'],\n",
       "      dtype='object')"
      ]
     },
     "execution_count": 88,
     "metadata": {},
     "output_type": "execute_result"
    }
   ],
   "source": [
    "#fetching categorical columns\n",
    "cat_cols= data.select_dtypes(include=['object']).columns\n",
    "print(len(cat_cols))\n",
    "cat_cols\n"
   ]
  },
  {
   "cell_type": "code",
   "execution_count": 89,
   "metadata": {},
   "outputs": [],
   "source": [
    "dummy = pd.get_dummies(data['Lead Origin'],prefix ='Lead Origin', drop_first=True)\n",
    "\n",
    "data = pd.concat([data,dummy],1)\n"
   ]
  },
  {
   "cell_type": "code",
   "execution_count": 90,
   "metadata": {},
   "outputs": [],
   "source": [
    "dummy = pd.get_dummies(data['Lead Source'], prefix  = 'Lead Source')\n",
    "dummy = dummy.drop(['Lead Source_others'], 1)\n",
    "data = pd.concat([data, dummy], axis = 1)"
   ]
  },
  {
   "cell_type": "code",
   "execution_count": 91,
   "metadata": {},
   "outputs": [
    {
     "data": {
      "text/html": [
       "<div>\n",
       "<style scoped>\n",
       "    .dataframe tbody tr th:only-of-type {\n",
       "        vertical-align: middle;\n",
       "    }\n",
       "\n",
       "    .dataframe tbody tr th {\n",
       "        vertical-align: top;\n",
       "    }\n",
       "\n",
       "    .dataframe thead th {\n",
       "        text-align: right;\n",
       "    }\n",
       "</style>\n",
       "<table border=\"1\" class=\"dataframe\">\n",
       "  <thead>\n",
       "    <tr style=\"text-align: right;\">\n",
       "      <th></th>\n",
       "      <th>Last Activity_converted to lead</th>\n",
       "      <th>Last Activity_email bounced</th>\n",
       "      <th>Last Activity_email link clicked</th>\n",
       "      <th>Last Activity_email opened</th>\n",
       "      <th>Last Activity_form submitted on website</th>\n",
       "      <th>Last Activity_had a phone conversation</th>\n",
       "      <th>Last Activity_olark chat conversation</th>\n",
       "      <th>Last Activity_others</th>\n",
       "      <th>Last Activity_page visited on website</th>\n",
       "      <th>Last Activity_sms sent</th>\n",
       "      <th>Last Activity_unreachable</th>\n",
       "      <th>Last Activity_unsubscribed</th>\n",
       "    </tr>\n",
       "  </thead>\n",
       "  <tbody>\n",
       "    <tr>\n",
       "      <th>0</th>\n",
       "      <td>0</td>\n",
       "      <td>0</td>\n",
       "      <td>0</td>\n",
       "      <td>0</td>\n",
       "      <td>0</td>\n",
       "      <td>0</td>\n",
       "      <td>0</td>\n",
       "      <td>0</td>\n",
       "      <td>1</td>\n",
       "      <td>0</td>\n",
       "      <td>0</td>\n",
       "      <td>0</td>\n",
       "    </tr>\n",
       "    <tr>\n",
       "      <th>1</th>\n",
       "      <td>0</td>\n",
       "      <td>0</td>\n",
       "      <td>0</td>\n",
       "      <td>1</td>\n",
       "      <td>0</td>\n",
       "      <td>0</td>\n",
       "      <td>0</td>\n",
       "      <td>0</td>\n",
       "      <td>0</td>\n",
       "      <td>0</td>\n",
       "      <td>0</td>\n",
       "      <td>0</td>\n",
       "    </tr>\n",
       "    <tr>\n",
       "      <th>2</th>\n",
       "      <td>0</td>\n",
       "      <td>0</td>\n",
       "      <td>0</td>\n",
       "      <td>1</td>\n",
       "      <td>0</td>\n",
       "      <td>0</td>\n",
       "      <td>0</td>\n",
       "      <td>0</td>\n",
       "      <td>0</td>\n",
       "      <td>0</td>\n",
       "      <td>0</td>\n",
       "      <td>0</td>\n",
       "    </tr>\n",
       "    <tr>\n",
       "      <th>3</th>\n",
       "      <td>0</td>\n",
       "      <td>0</td>\n",
       "      <td>0</td>\n",
       "      <td>0</td>\n",
       "      <td>0</td>\n",
       "      <td>0</td>\n",
       "      <td>0</td>\n",
       "      <td>0</td>\n",
       "      <td>0</td>\n",
       "      <td>0</td>\n",
       "      <td>1</td>\n",
       "      <td>0</td>\n",
       "    </tr>\n",
       "    <tr>\n",
       "      <th>4</th>\n",
       "      <td>1</td>\n",
       "      <td>0</td>\n",
       "      <td>0</td>\n",
       "      <td>0</td>\n",
       "      <td>0</td>\n",
       "      <td>0</td>\n",
       "      <td>0</td>\n",
       "      <td>0</td>\n",
       "      <td>0</td>\n",
       "      <td>0</td>\n",
       "      <td>0</td>\n",
       "      <td>0</td>\n",
       "    </tr>\n",
       "  </tbody>\n",
       "</table>\n",
       "</div>"
      ],
      "text/plain": [
       "   Last Activity_converted to lead  Last Activity_email bounced  \\\n",
       "0                                0                            0   \n",
       "1                                0                            0   \n",
       "2                                0                            0   \n",
       "3                                0                            0   \n",
       "4                                1                            0   \n",
       "\n",
       "   Last Activity_email link clicked  Last Activity_email opened  \\\n",
       "0                                 0                           0   \n",
       "1                                 0                           1   \n",
       "2                                 0                           1   \n",
       "3                                 0                           0   \n",
       "4                                 0                           0   \n",
       "\n",
       "   Last Activity_form submitted on website  \\\n",
       "0                                        0   \n",
       "1                                        0   \n",
       "2                                        0   \n",
       "3                                        0   \n",
       "4                                        0   \n",
       "\n",
       "   Last Activity_had a phone conversation  \\\n",
       "0                                       0   \n",
       "1                                       0   \n",
       "2                                       0   \n",
       "3                                       0   \n",
       "4                                       0   \n",
       "\n",
       "   Last Activity_olark chat conversation  Last Activity_others  \\\n",
       "0                                      0                     0   \n",
       "1                                      0                     0   \n",
       "2                                      0                     0   \n",
       "3                                      0                     0   \n",
       "4                                      0                     0   \n",
       "\n",
       "   Last Activity_page visited on website  Last Activity_sms sent  \\\n",
       "0                                      1                       0   \n",
       "1                                      0                       0   \n",
       "2                                      0                       0   \n",
       "3                                      0                       0   \n",
       "4                                      0                       0   \n",
       "\n",
       "   Last Activity_unreachable  Last Activity_unsubscribed  \n",
       "0                          0                           0  \n",
       "1                          0                           0  \n",
       "2                          0                           0  \n",
       "3                          1                           0  \n",
       "4                          0                           0  "
      ]
     },
     "execution_count": 91,
     "metadata": {},
     "output_type": "execute_result"
    }
   ],
   "source": [
    "dummy = pd.get_dummies(data['Last Activity'], prefix  = 'Last Activity')\n",
    "dummy.head()"
   ]
  },
  {
   "cell_type": "code",
   "execution_count": 92,
   "metadata": {},
   "outputs": [],
   "source": [
    "dummy = pd.get_dummies(data['Specialization'], prefix  = 'Specialization') \n",
    "dummy = dummy.drop(['Specialization_select'], 1)\n",
    "data = pd.concat([data, dummy], axis = 1)"
   ]
  },
  {
   "cell_type": "code",
   "execution_count": 93,
   "metadata": {},
   "outputs": [],
   "source": [
    "dummy = pd.get_dummies(data['What is your current occupation'],prefix ='occupation' ,drop_first=True)\n",
    "dummy.head()\n",
    "data = pd.concat([data,dummy],1)"
   ]
  },
  {
   "cell_type": "code",
   "execution_count": 94,
   "metadata": {},
   "outputs": [],
   "source": [
    "#getting dummies and dropping the first column and adding the results to the master dataframe\n",
    "dummy = pd.get_dummies(data['City'],prefix ='City' , drop_first=True)\n",
    "\n",
    "data = pd.concat([data,dummy],1)"
   ]
  },
  {
   "cell_type": "code",
   "execution_count": 95,
   "metadata": {},
   "outputs": [
    {
     "data": {
      "text/plain": [
       "0            interested in other courses\n",
       "1                                ringing\n",
       "2    will revert after reading the email\n",
       "3                                ringing\n",
       "4    will revert after reading the email\n",
       "Name: Tags, dtype: object"
      ]
     },
     "execution_count": 95,
     "metadata": {},
     "output_type": "execute_result"
    }
   ],
   "source": [
    "data[\"Tags\"].head()"
   ]
  },
  {
   "cell_type": "code",
   "execution_count": 96,
   "metadata": {},
   "outputs": [],
   "source": [
    "dummy = pd.get_dummies(data['Tags'],prefix ='Tags' , drop_first=True)\n",
    "\n",
    "data = pd.concat([data,dummy],1)"
   ]
  },
  {
   "cell_type": "code",
   "execution_count": 97,
   "metadata": {},
   "outputs": [],
   "source": [
    "dummy = pd.get_dummies(data['Last Notable Activity'],prefix ='Last Notable Activity' , drop_first=True)\n",
    "\n",
    "data = pd.concat([data,dummy],1)"
   ]
  },
  {
   "cell_type": "code",
   "execution_count": null,
   "metadata": {},
   "outputs": [],
   "source": [
    "\n",
    " "
   ]
  },
  {
   "cell_type": "code",
   "execution_count": 98,
   "metadata": {},
   "outputs": [
    {
     "data": {
      "text/html": [
       "<div>\n",
       "<style scoped>\n",
       "    .dataframe tbody tr th:only-of-type {\n",
       "        vertical-align: middle;\n",
       "    }\n",
       "\n",
       "    .dataframe tbody tr th {\n",
       "        vertical-align: top;\n",
       "    }\n",
       "\n",
       "    .dataframe thead th {\n",
       "        text-align: right;\n",
       "    }\n",
       "</style>\n",
       "<table border=\"1\" class=\"dataframe\">\n",
       "  <thead>\n",
       "    <tr style=\"text-align: right;\">\n",
       "      <th></th>\n",
       "      <th>Lead Origin</th>\n",
       "      <th>Lead Source</th>\n",
       "      <th>Converted</th>\n",
       "      <th>TotalVisits</th>\n",
       "      <th>Total Time Spent on Website</th>\n",
       "      <th>Page Views Per Visit</th>\n",
       "      <th>Last Activity</th>\n",
       "      <th>Specialization</th>\n",
       "      <th>What is your current occupation</th>\n",
       "      <th>Tags</th>\n",
       "      <th>...</th>\n",
       "      <th>Last Notable Activity_form submitted on website</th>\n",
       "      <th>Last Notable Activity_had a phone conversation</th>\n",
       "      <th>Last Notable Activity_modified</th>\n",
       "      <th>Last Notable Activity_olark chat conversation</th>\n",
       "      <th>Last Notable Activity_page visited on website</th>\n",
       "      <th>Last Notable Activity_resubscribed to emails</th>\n",
       "      <th>Last Notable Activity_sms sent</th>\n",
       "      <th>Last Notable Activity_unreachable</th>\n",
       "      <th>Last Notable Activity_unsubscribed</th>\n",
       "      <th>Last Notable Activity_view in browser link clicked</th>\n",
       "    </tr>\n",
       "  </thead>\n",
       "  <tbody>\n",
       "    <tr>\n",
       "      <th>0</th>\n",
       "      <td>api</td>\n",
       "      <td>olark chat</td>\n",
       "      <td>0</td>\n",
       "      <td>0.0</td>\n",
       "      <td>0</td>\n",
       "      <td>0.0</td>\n",
       "      <td>page visited on website</td>\n",
       "      <td>select</td>\n",
       "      <td>unemployed</td>\n",
       "      <td>interested in other courses</td>\n",
       "      <td>...</td>\n",
       "      <td>0</td>\n",
       "      <td>0</td>\n",
       "      <td>1</td>\n",
       "      <td>0</td>\n",
       "      <td>0</td>\n",
       "      <td>0</td>\n",
       "      <td>0</td>\n",
       "      <td>0</td>\n",
       "      <td>0</td>\n",
       "      <td>0</td>\n",
       "    </tr>\n",
       "    <tr>\n",
       "      <th>1</th>\n",
       "      <td>api</td>\n",
       "      <td>organic search</td>\n",
       "      <td>0</td>\n",
       "      <td>5.0</td>\n",
       "      <td>674</td>\n",
       "      <td>2.5</td>\n",
       "      <td>email opened</td>\n",
       "      <td>select</td>\n",
       "      <td>unemployed</td>\n",
       "      <td>ringing</td>\n",
       "      <td>...</td>\n",
       "      <td>0</td>\n",
       "      <td>0</td>\n",
       "      <td>0</td>\n",
       "      <td>0</td>\n",
       "      <td>0</td>\n",
       "      <td>0</td>\n",
       "      <td>0</td>\n",
       "      <td>0</td>\n",
       "      <td>0</td>\n",
       "      <td>0</td>\n",
       "    </tr>\n",
       "    <tr>\n",
       "      <th>2</th>\n",
       "      <td>landing page submission</td>\n",
       "      <td>direct traffic</td>\n",
       "      <td>1</td>\n",
       "      <td>2.0</td>\n",
       "      <td>1532</td>\n",
       "      <td>2.0</td>\n",
       "      <td>email opened</td>\n",
       "      <td>business administration</td>\n",
       "      <td>student</td>\n",
       "      <td>will revert after reading the email</td>\n",
       "      <td>...</td>\n",
       "      <td>0</td>\n",
       "      <td>0</td>\n",
       "      <td>0</td>\n",
       "      <td>0</td>\n",
       "      <td>0</td>\n",
       "      <td>0</td>\n",
       "      <td>0</td>\n",
       "      <td>0</td>\n",
       "      <td>0</td>\n",
       "      <td>0</td>\n",
       "    </tr>\n",
       "    <tr>\n",
       "      <th>3</th>\n",
       "      <td>landing page submission</td>\n",
       "      <td>direct traffic</td>\n",
       "      <td>0</td>\n",
       "      <td>1.0</td>\n",
       "      <td>305</td>\n",
       "      <td>1.0</td>\n",
       "      <td>unreachable</td>\n",
       "      <td>media and advertising</td>\n",
       "      <td>unemployed</td>\n",
       "      <td>ringing</td>\n",
       "      <td>...</td>\n",
       "      <td>0</td>\n",
       "      <td>0</td>\n",
       "      <td>1</td>\n",
       "      <td>0</td>\n",
       "      <td>0</td>\n",
       "      <td>0</td>\n",
       "      <td>0</td>\n",
       "      <td>0</td>\n",
       "      <td>0</td>\n",
       "      <td>0</td>\n",
       "    </tr>\n",
       "    <tr>\n",
       "      <th>4</th>\n",
       "      <td>landing page submission</td>\n",
       "      <td>google</td>\n",
       "      <td>1</td>\n",
       "      <td>2.0</td>\n",
       "      <td>1428</td>\n",
       "      <td>1.0</td>\n",
       "      <td>converted to lead</td>\n",
       "      <td>select</td>\n",
       "      <td>unemployed</td>\n",
       "      <td>will revert after reading the email</td>\n",
       "      <td>...</td>\n",
       "      <td>0</td>\n",
       "      <td>0</td>\n",
       "      <td>1</td>\n",
       "      <td>0</td>\n",
       "      <td>0</td>\n",
       "      <td>0</td>\n",
       "      <td>0</td>\n",
       "      <td>0</td>\n",
       "      <td>0</td>\n",
       "      <td>0</td>\n",
       "    </tr>\n",
       "  </tbody>\n",
       "</table>\n",
       "<p>5 rows × 95 columns</p>\n",
       "</div>"
      ],
      "text/plain": [
       "               Lead Origin     Lead Source  Converted  TotalVisits  \\\n",
       "0                      api      olark chat          0          0.0   \n",
       "1                      api  organic search          0          5.0   \n",
       "2  landing page submission  direct traffic          1          2.0   \n",
       "3  landing page submission  direct traffic          0          1.0   \n",
       "4  landing page submission          google          1          2.0   \n",
       "\n",
       "   Total Time Spent on Website  Page Views Per Visit            Last Activity  \\\n",
       "0                            0                   0.0  page visited on website   \n",
       "1                          674                   2.5             email opened   \n",
       "2                         1532                   2.0             email opened   \n",
       "3                          305                   1.0              unreachable   \n",
       "4                         1428                   1.0        converted to lead   \n",
       "\n",
       "            Specialization What is your current occupation  \\\n",
       "0                   select                      unemployed   \n",
       "1                   select                      unemployed   \n",
       "2  business administration                         student   \n",
       "3    media and advertising                      unemployed   \n",
       "4                   select                      unemployed   \n",
       "\n",
       "                                  Tags  \\\n",
       "0          interested in other courses   \n",
       "1                              ringing   \n",
       "2  will revert after reading the email   \n",
       "3                              ringing   \n",
       "4  will revert after reading the email   \n",
       "\n",
       "                          ...                          \\\n",
       "0                         ...                           \n",
       "1                         ...                           \n",
       "2                         ...                           \n",
       "3                         ...                           \n",
       "4                         ...                           \n",
       "\n",
       "  Last Notable Activity_form submitted on website  \\\n",
       "0                                               0   \n",
       "1                                               0   \n",
       "2                                               0   \n",
       "3                                               0   \n",
       "4                                               0   \n",
       "\n",
       "  Last Notable Activity_had a phone conversation  \\\n",
       "0                                              0   \n",
       "1                                              0   \n",
       "2                                              0   \n",
       "3                                              0   \n",
       "4                                              0   \n",
       "\n",
       "   Last Notable Activity_modified  \\\n",
       "0                               1   \n",
       "1                               0   \n",
       "2                               0   \n",
       "3                               1   \n",
       "4                               1   \n",
       "\n",
       "   Last Notable Activity_olark chat conversation  \\\n",
       "0                                              0   \n",
       "1                                              0   \n",
       "2                                              0   \n",
       "3                                              0   \n",
       "4                                              0   \n",
       "\n",
       "   Last Notable Activity_page visited on website  \\\n",
       "0                                              0   \n",
       "1                                              0   \n",
       "2                                              0   \n",
       "3                                              0   \n",
       "4                                              0   \n",
       "\n",
       "   Last Notable Activity_resubscribed to emails  \\\n",
       "0                                             0   \n",
       "1                                             0   \n",
       "2                                             0   \n",
       "3                                             0   \n",
       "4                                             0   \n",
       "\n",
       "   Last Notable Activity_sms sent  Last Notable Activity_unreachable  \\\n",
       "0                               0                                  0   \n",
       "1                               0                                  0   \n",
       "2                               0                                  0   \n",
       "3                               0                                  0   \n",
       "4                               0                                  0   \n",
       "\n",
       "   Last Notable Activity_unsubscribed  \\\n",
       "0                                   0   \n",
       "1                                   0   \n",
       "2                                   0   \n",
       "3                                   0   \n",
       "4                                   0   \n",
       "\n",
       "   Last Notable Activity_view in browser link clicked  \n",
       "0                                                  0   \n",
       "1                                                  0   \n",
       "2                                                  0   \n",
       "3                                                  0   \n",
       "4                                                  0   \n",
       "\n",
       "[5 rows x 95 columns]"
      ]
     },
     "execution_count": 98,
     "metadata": {},
     "output_type": "execute_result"
    }
   ],
   "source": [
    "data.head()"
   ]
  },
  {
   "cell_type": "code",
   "execution_count": 99,
   "metadata": {},
   "outputs": [
    {
     "data": {
      "text/plain": [
       "(8636, 87)"
      ]
     },
     "execution_count": 99,
     "metadata": {},
     "output_type": "execute_result"
    }
   ],
   "source": [
    "data_final = data.drop(cat_cols, 1)\n",
    "data_final.shape"
   ]
  },
  {
   "cell_type": "code",
   "execution_count": 100,
   "metadata": {},
   "outputs": [
    {
     "data": {
      "text/plain": [
       "Index(['Converted', 'TotalVisits', 'Total Time Spent on Website',\n",
       "       'Page Views Per Visit', 'Lead Origin_landing page submission',\n",
       "       'Lead Origin_lead add form', 'Lead Origin_lead import',\n",
       "       'Lead Source_bing', 'Lead Source_blog', 'Lead Source_click2call',\n",
       "       'Lead Source_direct traffic', 'Lead Source_facebook',\n",
       "       'Lead Source_google', 'Lead Source_live chat', 'Lead Source_nc_edm',\n",
       "       'Lead Source_olark chat', 'Lead Source_organic search',\n",
       "       'Lead Source_pay per click ads', 'Lead Source_press_release',\n",
       "       'Lead Source_reference', 'Lead Source_referral sites',\n",
       "       'Lead Source_social media', 'Lead Source_testone',\n",
       "       'Lead Source_welearn', 'Lead Source_welearnblog_home',\n",
       "       'Lead Source_welingak website', 'Lead Source_youtubechannel',\n",
       "       'Specialization_Management_Specializations',\n",
       "       'Specialization_banking, investment and insurance',\n",
       "       'Specialization_business administration', 'Specialization_e-business',\n",
       "       'Specialization_e-commerce', 'Specialization_international business',\n",
       "       'Specialization_media and advertising', 'Specialization_not provided',\n",
       "       'Specialization_rural and agribusiness',\n",
       "       'Specialization_services excellence',\n",
       "       'Specialization_travel and tourism', 'occupation_housewife',\n",
       "       'occupation_other', 'occupation_student', 'occupation_unemployed',\n",
       "       'occupation_working professional', 'City_mumbai', 'City_other cities',\n",
       "       'City_other cities of maharashtra', 'City_other metro cities',\n",
       "       'City_select', 'City_thane & outskirts', 'City_tier ii cities',\n",
       "       'Tags_Other_Tags', 'Tags_already a student', 'Tags_busy',\n",
       "       'Tags_closed by horizzon', 'Tags_diploma holder (not eligible)',\n",
       "       'Tags_graduation in progress',\n",
       "       'Tags_in confusion whether part time or dlp', 'Tags_in touch with eins',\n",
       "       'Tags_interested  in full time mba', 'Tags_interested in next batch',\n",
       "       'Tags_interested in other courses', 'Tags_lateral student',\n",
       "       'Tags_lost to eins', 'Tags_lost to others',\n",
       "       'Tags_not doing further education',\n",
       "       'Tags_recognition issue (dec approval)', 'Tags_ringing',\n",
       "       'Tags_shall take in the next coming month', 'Tags_still thinking',\n",
       "       'Tags_university not recognized',\n",
       "       'Tags_want to take admission but has financial problems',\n",
       "       'Tags_will revert after reading the email',\n",
       "       'Last Notable Activity_email bounced',\n",
       "       'Last Notable Activity_email link clicked',\n",
       "       'Last Notable Activity_email marked spam',\n",
       "       'Last Notable Activity_email opened',\n",
       "       'Last Notable Activity_email received',\n",
       "       'Last Notable Activity_form submitted on website',\n",
       "       'Last Notable Activity_had a phone conversation',\n",
       "       'Last Notable Activity_modified',\n",
       "       'Last Notable Activity_olark chat conversation',\n",
       "       'Last Notable Activity_page visited on website',\n",
       "       'Last Notable Activity_resubscribed to emails',\n",
       "       'Last Notable Activity_sms sent', 'Last Notable Activity_unreachable',\n",
       "       'Last Notable Activity_unsubscribed',\n",
       "       'Last Notable Activity_view in browser link clicked'],\n",
       "      dtype='object')"
      ]
     },
     "execution_count": 100,
     "metadata": {},
     "output_type": "execute_result"
    }
   ],
   "source": [
    "data_final.columns"
   ]
  },
  {
   "cell_type": "markdown",
   "metadata": {},
   "source": [
    "# Splitting data"
   ]
  },
  {
   "cell_type": "code",
   "execution_count": 101,
   "metadata": {},
   "outputs": [],
   "source": [
    "from sklearn.model_selection import train_test_split"
   ]
  },
  {
   "cell_type": "code",
   "execution_count": 102,
   "metadata": {},
   "outputs": [
    {
     "data": {
      "text/html": [
       "<div>\n",
       "<style scoped>\n",
       "    .dataframe tbody tr th:only-of-type {\n",
       "        vertical-align: middle;\n",
       "    }\n",
       "\n",
       "    .dataframe tbody tr th {\n",
       "        vertical-align: top;\n",
       "    }\n",
       "\n",
       "    .dataframe thead th {\n",
       "        text-align: right;\n",
       "    }\n",
       "</style>\n",
       "<table border=\"1\" class=\"dataframe\">\n",
       "  <thead>\n",
       "    <tr style=\"text-align: right;\">\n",
       "      <th></th>\n",
       "      <th>TotalVisits</th>\n",
       "      <th>Total Time Spent on Website</th>\n",
       "      <th>Page Views Per Visit</th>\n",
       "      <th>Lead Origin_landing page submission</th>\n",
       "      <th>Lead Origin_lead add form</th>\n",
       "      <th>Lead Origin_lead import</th>\n",
       "      <th>Lead Source_bing</th>\n",
       "      <th>Lead Source_blog</th>\n",
       "      <th>Lead Source_click2call</th>\n",
       "      <th>Lead Source_direct traffic</th>\n",
       "      <th>...</th>\n",
       "      <th>Last Notable Activity_form submitted on website</th>\n",
       "      <th>Last Notable Activity_had a phone conversation</th>\n",
       "      <th>Last Notable Activity_modified</th>\n",
       "      <th>Last Notable Activity_olark chat conversation</th>\n",
       "      <th>Last Notable Activity_page visited on website</th>\n",
       "      <th>Last Notable Activity_resubscribed to emails</th>\n",
       "      <th>Last Notable Activity_sms sent</th>\n",
       "      <th>Last Notable Activity_unreachable</th>\n",
       "      <th>Last Notable Activity_unsubscribed</th>\n",
       "      <th>Last Notable Activity_view in browser link clicked</th>\n",
       "    </tr>\n",
       "  </thead>\n",
       "  <tbody>\n",
       "    <tr>\n",
       "      <th>0</th>\n",
       "      <td>0.0</td>\n",
       "      <td>0</td>\n",
       "      <td>0.0</td>\n",
       "      <td>0</td>\n",
       "      <td>0</td>\n",
       "      <td>0</td>\n",
       "      <td>0</td>\n",
       "      <td>0</td>\n",
       "      <td>0</td>\n",
       "      <td>0</td>\n",
       "      <td>...</td>\n",
       "      <td>0</td>\n",
       "      <td>0</td>\n",
       "      <td>1</td>\n",
       "      <td>0</td>\n",
       "      <td>0</td>\n",
       "      <td>0</td>\n",
       "      <td>0</td>\n",
       "      <td>0</td>\n",
       "      <td>0</td>\n",
       "      <td>0</td>\n",
       "    </tr>\n",
       "    <tr>\n",
       "      <th>1</th>\n",
       "      <td>5.0</td>\n",
       "      <td>674</td>\n",
       "      <td>2.5</td>\n",
       "      <td>0</td>\n",
       "      <td>0</td>\n",
       "      <td>0</td>\n",
       "      <td>0</td>\n",
       "      <td>0</td>\n",
       "      <td>0</td>\n",
       "      <td>0</td>\n",
       "      <td>...</td>\n",
       "      <td>0</td>\n",
       "      <td>0</td>\n",
       "      <td>0</td>\n",
       "      <td>0</td>\n",
       "      <td>0</td>\n",
       "      <td>0</td>\n",
       "      <td>0</td>\n",
       "      <td>0</td>\n",
       "      <td>0</td>\n",
       "      <td>0</td>\n",
       "    </tr>\n",
       "    <tr>\n",
       "      <th>2</th>\n",
       "      <td>2.0</td>\n",
       "      <td>1532</td>\n",
       "      <td>2.0</td>\n",
       "      <td>1</td>\n",
       "      <td>0</td>\n",
       "      <td>0</td>\n",
       "      <td>0</td>\n",
       "      <td>0</td>\n",
       "      <td>0</td>\n",
       "      <td>1</td>\n",
       "      <td>...</td>\n",
       "      <td>0</td>\n",
       "      <td>0</td>\n",
       "      <td>0</td>\n",
       "      <td>0</td>\n",
       "      <td>0</td>\n",
       "      <td>0</td>\n",
       "      <td>0</td>\n",
       "      <td>0</td>\n",
       "      <td>0</td>\n",
       "      <td>0</td>\n",
       "    </tr>\n",
       "    <tr>\n",
       "      <th>3</th>\n",
       "      <td>1.0</td>\n",
       "      <td>305</td>\n",
       "      <td>1.0</td>\n",
       "      <td>1</td>\n",
       "      <td>0</td>\n",
       "      <td>0</td>\n",
       "      <td>0</td>\n",
       "      <td>0</td>\n",
       "      <td>0</td>\n",
       "      <td>1</td>\n",
       "      <td>...</td>\n",
       "      <td>0</td>\n",
       "      <td>0</td>\n",
       "      <td>1</td>\n",
       "      <td>0</td>\n",
       "      <td>0</td>\n",
       "      <td>0</td>\n",
       "      <td>0</td>\n",
       "      <td>0</td>\n",
       "      <td>0</td>\n",
       "      <td>0</td>\n",
       "    </tr>\n",
       "    <tr>\n",
       "      <th>4</th>\n",
       "      <td>2.0</td>\n",
       "      <td>1428</td>\n",
       "      <td>1.0</td>\n",
       "      <td>1</td>\n",
       "      <td>0</td>\n",
       "      <td>0</td>\n",
       "      <td>0</td>\n",
       "      <td>0</td>\n",
       "      <td>0</td>\n",
       "      <td>0</td>\n",
       "      <td>...</td>\n",
       "      <td>0</td>\n",
       "      <td>0</td>\n",
       "      <td>1</td>\n",
       "      <td>0</td>\n",
       "      <td>0</td>\n",
       "      <td>0</td>\n",
       "      <td>0</td>\n",
       "      <td>0</td>\n",
       "      <td>0</td>\n",
       "      <td>0</td>\n",
       "    </tr>\n",
       "  </tbody>\n",
       "</table>\n",
       "<p>5 rows × 86 columns</p>\n",
       "</div>"
      ],
      "text/plain": [
       "   TotalVisits  Total Time Spent on Website  Page Views Per Visit  \\\n",
       "0          0.0                            0                   0.0   \n",
       "1          5.0                          674                   2.5   \n",
       "2          2.0                         1532                   2.0   \n",
       "3          1.0                          305                   1.0   \n",
       "4          2.0                         1428                   1.0   \n",
       "\n",
       "   Lead Origin_landing page submission  Lead Origin_lead add form  \\\n",
       "0                                    0                          0   \n",
       "1                                    0                          0   \n",
       "2                                    1                          0   \n",
       "3                                    1                          0   \n",
       "4                                    1                          0   \n",
       "\n",
       "   Lead Origin_lead import  Lead Source_bing  Lead Source_blog  \\\n",
       "0                        0                 0                 0   \n",
       "1                        0                 0                 0   \n",
       "2                        0                 0                 0   \n",
       "3                        0                 0                 0   \n",
       "4                        0                 0                 0   \n",
       "\n",
       "   Lead Source_click2call  Lead Source_direct traffic  \\\n",
       "0                       0                           0   \n",
       "1                       0                           0   \n",
       "2                       0                           1   \n",
       "3                       0                           1   \n",
       "4                       0                           0   \n",
       "\n",
       "                          ...                          \\\n",
       "0                         ...                           \n",
       "1                         ...                           \n",
       "2                         ...                           \n",
       "3                         ...                           \n",
       "4                         ...                           \n",
       "\n",
       "   Last Notable Activity_form submitted on website  \\\n",
       "0                                                0   \n",
       "1                                                0   \n",
       "2                                                0   \n",
       "3                                                0   \n",
       "4                                                0   \n",
       "\n",
       "   Last Notable Activity_had a phone conversation  \\\n",
       "0                                               0   \n",
       "1                                               0   \n",
       "2                                               0   \n",
       "3                                               0   \n",
       "4                                               0   \n",
       "\n",
       "   Last Notable Activity_modified  \\\n",
       "0                               1   \n",
       "1                               0   \n",
       "2                               0   \n",
       "3                               1   \n",
       "4                               1   \n",
       "\n",
       "   Last Notable Activity_olark chat conversation  \\\n",
       "0                                              0   \n",
       "1                                              0   \n",
       "2                                              0   \n",
       "3                                              0   \n",
       "4                                              0   \n",
       "\n",
       "   Last Notable Activity_page visited on website  \\\n",
       "0                                              0   \n",
       "1                                              0   \n",
       "2                                              0   \n",
       "3                                              0   \n",
       "4                                              0   \n",
       "\n",
       "   Last Notable Activity_resubscribed to emails  \\\n",
       "0                                             0   \n",
       "1                                             0   \n",
       "2                                             0   \n",
       "3                                             0   \n",
       "4                                             0   \n",
       "\n",
       "   Last Notable Activity_sms sent  Last Notable Activity_unreachable  \\\n",
       "0                               0                                  0   \n",
       "1                               0                                  0   \n",
       "2                               0                                  0   \n",
       "3                               0                                  0   \n",
       "4                               0                                  0   \n",
       "\n",
       "   Last Notable Activity_unsubscribed  \\\n",
       "0                                   0   \n",
       "1                                   0   \n",
       "2                                   0   \n",
       "3                                   0   \n",
       "4                                   0   \n",
       "\n",
       "   Last Notable Activity_view in browser link clicked  \n",
       "0                                                  0   \n",
       "1                                                  0   \n",
       "2                                                  0   \n",
       "3                                                  0   \n",
       "4                                                  0   \n",
       "\n",
       "[5 rows x 86 columns]"
      ]
     },
     "execution_count": 102,
     "metadata": {},
     "output_type": "execute_result"
    }
   ],
   "source": [
    "\n",
    "X = data_final.drop(['Converted'], 1)\n",
    "X.head()"
   ]
  },
  {
   "cell_type": "code",
   "execution_count": 103,
   "metadata": {},
   "outputs": [
    {
     "data": {
      "text/plain": [
       "0    0\n",
       "1    0\n",
       "2    1\n",
       "3    0\n",
       "4    1\n",
       "Name: Converted, dtype: int64"
      ]
     },
     "execution_count": 103,
     "metadata": {},
     "output_type": "execute_result"
    }
   ],
   "source": [
    "y = data_final['Converted']\n",
    "y.head()"
   ]
  },
  {
   "cell_type": "code",
   "execution_count": 104,
   "metadata": {},
   "outputs": [],
   "source": [
    "\n",
    "# Split the dataset into 70% and 30% for train and test respectively\n",
    "X_train, X_test, y_train, y_test = train_test_split(X, y, train_size=0.7, test_size=0.3, random_state=10)"
   ]
  },
  {
   "cell_type": "code",
   "execution_count": 105,
   "metadata": {},
   "outputs": [
    {
     "name": "stderr",
     "output_type": "stream",
     "text": [
      "C:\\Users\\sairajes\\AppData\\Local\\Continuum\\anaconda3\\lib\\site-packages\\ipykernel_launcher.py:6: SettingWithCopyWarning: \n",
      "A value is trying to be set on a copy of a slice from a DataFrame.\n",
      "Try using .loc[row_indexer,col_indexer] = value instead\n",
      "\n",
      "See the caveats in the documentation: http://pandas.pydata.org/pandas-docs/stable/indexing.html#indexing-view-versus-copy\n",
      "  \n",
      "C:\\Users\\sairajes\\AppData\\Local\\Continuum\\anaconda3\\lib\\site-packages\\pandas\\core\\indexing.py:543: SettingWithCopyWarning: \n",
      "A value is trying to be set on a copy of a slice from a DataFrame.\n",
      "Try using .loc[row_indexer,col_indexer] = value instead\n",
      "\n",
      "See the caveats in the documentation: http://pandas.pydata.org/pandas-docs/stable/indexing.html#indexing-view-versus-copy\n",
      "  self.obj[item] = s\n"
     ]
    },
    {
     "data": {
      "text/html": [
       "<div>\n",
       "<style scoped>\n",
       "    .dataframe tbody tr th:only-of-type {\n",
       "        vertical-align: middle;\n",
       "    }\n",
       "\n",
       "    .dataframe tbody tr th {\n",
       "        vertical-align: top;\n",
       "    }\n",
       "\n",
       "    .dataframe thead th {\n",
       "        text-align: right;\n",
       "    }\n",
       "</style>\n",
       "<table border=\"1\" class=\"dataframe\">\n",
       "  <thead>\n",
       "    <tr style=\"text-align: right;\">\n",
       "      <th></th>\n",
       "      <th>TotalVisits</th>\n",
       "      <th>Total Time Spent on Website</th>\n",
       "      <th>Page Views Per Visit</th>\n",
       "      <th>Lead Origin_landing page submission</th>\n",
       "      <th>Lead Origin_lead add form</th>\n",
       "      <th>Lead Origin_lead import</th>\n",
       "      <th>Lead Source_bing</th>\n",
       "      <th>Lead Source_blog</th>\n",
       "      <th>Lead Source_click2call</th>\n",
       "      <th>Lead Source_direct traffic</th>\n",
       "      <th>...</th>\n",
       "      <th>Last Notable Activity_form submitted on website</th>\n",
       "      <th>Last Notable Activity_had a phone conversation</th>\n",
       "      <th>Last Notable Activity_modified</th>\n",
       "      <th>Last Notable Activity_olark chat conversation</th>\n",
       "      <th>Last Notable Activity_page visited on website</th>\n",
       "      <th>Last Notable Activity_resubscribed to emails</th>\n",
       "      <th>Last Notable Activity_sms sent</th>\n",
       "      <th>Last Notable Activity_unreachable</th>\n",
       "      <th>Last Notable Activity_unsubscribed</th>\n",
       "      <th>Last Notable Activity_view in browser link clicked</th>\n",
       "    </tr>\n",
       "  </thead>\n",
       "  <tbody>\n",
       "    <tr>\n",
       "      <th>3307</th>\n",
       "      <td>0.444444</td>\n",
       "      <td>0.566021</td>\n",
       "      <td>0.444444</td>\n",
       "      <td>1</td>\n",
       "      <td>0</td>\n",
       "      <td>0</td>\n",
       "      <td>0</td>\n",
       "      <td>0</td>\n",
       "      <td>0</td>\n",
       "      <td>0</td>\n",
       "      <td>...</td>\n",
       "      <td>0</td>\n",
       "      <td>0</td>\n",
       "      <td>0</td>\n",
       "      <td>0</td>\n",
       "      <td>0</td>\n",
       "      <td>0</td>\n",
       "      <td>1</td>\n",
       "      <td>0</td>\n",
       "      <td>0</td>\n",
       "      <td>0</td>\n",
       "    </tr>\n",
       "    <tr>\n",
       "      <th>1090</th>\n",
       "      <td>0.444444</td>\n",
       "      <td>0.727553</td>\n",
       "      <td>0.222222</td>\n",
       "      <td>1</td>\n",
       "      <td>0</td>\n",
       "      <td>0</td>\n",
       "      <td>0</td>\n",
       "      <td>0</td>\n",
       "      <td>0</td>\n",
       "      <td>0</td>\n",
       "      <td>...</td>\n",
       "      <td>0</td>\n",
       "      <td>0</td>\n",
       "      <td>0</td>\n",
       "      <td>0</td>\n",
       "      <td>1</td>\n",
       "      <td>0</td>\n",
       "      <td>0</td>\n",
       "      <td>0</td>\n",
       "      <td>0</td>\n",
       "      <td>0</td>\n",
       "    </tr>\n",
       "    <tr>\n",
       "      <th>8302</th>\n",
       "      <td>0.222222</td>\n",
       "      <td>0.161972</td>\n",
       "      <td>0.222222</td>\n",
       "      <td>1</td>\n",
       "      <td>0</td>\n",
       "      <td>0</td>\n",
       "      <td>0</td>\n",
       "      <td>0</td>\n",
       "      <td>0</td>\n",
       "      <td>0</td>\n",
       "      <td>...</td>\n",
       "      <td>0</td>\n",
       "      <td>0</td>\n",
       "      <td>0</td>\n",
       "      <td>0</td>\n",
       "      <td>0</td>\n",
       "      <td>0</td>\n",
       "      <td>1</td>\n",
       "      <td>0</td>\n",
       "      <td>0</td>\n",
       "      <td>0</td>\n",
       "    </tr>\n",
       "    <tr>\n",
       "      <th>7205</th>\n",
       "      <td>0.000000</td>\n",
       "      <td>0.000000</td>\n",
       "      <td>0.000000</td>\n",
       "      <td>0</td>\n",
       "      <td>0</td>\n",
       "      <td>0</td>\n",
       "      <td>0</td>\n",
       "      <td>0</td>\n",
       "      <td>0</td>\n",
       "      <td>0</td>\n",
       "      <td>...</td>\n",
       "      <td>0</td>\n",
       "      <td>0</td>\n",
       "      <td>1</td>\n",
       "      <td>0</td>\n",
       "      <td>0</td>\n",
       "      <td>0</td>\n",
       "      <td>0</td>\n",
       "      <td>0</td>\n",
       "      <td>0</td>\n",
       "      <td>0</td>\n",
       "    </tr>\n",
       "    <tr>\n",
       "      <th>1747</th>\n",
       "      <td>0.222222</td>\n",
       "      <td>0.672535</td>\n",
       "      <td>0.222222</td>\n",
       "      <td>0</td>\n",
       "      <td>0</td>\n",
       "      <td>0</td>\n",
       "      <td>0</td>\n",
       "      <td>0</td>\n",
       "      <td>0</td>\n",
       "      <td>0</td>\n",
       "      <td>...</td>\n",
       "      <td>0</td>\n",
       "      <td>0</td>\n",
       "      <td>0</td>\n",
       "      <td>0</td>\n",
       "      <td>0</td>\n",
       "      <td>0</td>\n",
       "      <td>1</td>\n",
       "      <td>0</td>\n",
       "      <td>0</td>\n",
       "      <td>0</td>\n",
       "    </tr>\n",
       "  </tbody>\n",
       "</table>\n",
       "<p>5 rows × 86 columns</p>\n",
       "</div>"
      ],
      "text/plain": [
       "      TotalVisits  Total Time Spent on Website  Page Views Per Visit  \\\n",
       "3307     0.444444                     0.566021              0.444444   \n",
       "1090     0.444444                     0.727553              0.222222   \n",
       "8302     0.222222                     0.161972              0.222222   \n",
       "7205     0.000000                     0.000000              0.000000   \n",
       "1747     0.222222                     0.672535              0.222222   \n",
       "\n",
       "      Lead Origin_landing page submission  Lead Origin_lead add form  \\\n",
       "3307                                    1                          0   \n",
       "1090                                    1                          0   \n",
       "8302                                    1                          0   \n",
       "7205                                    0                          0   \n",
       "1747                                    0                          0   \n",
       "\n",
       "      Lead Origin_lead import  Lead Source_bing  Lead Source_blog  \\\n",
       "3307                        0                 0                 0   \n",
       "1090                        0                 0                 0   \n",
       "8302                        0                 0                 0   \n",
       "7205                        0                 0                 0   \n",
       "1747                        0                 0                 0   \n",
       "\n",
       "      Lead Source_click2call  Lead Source_direct traffic  \\\n",
       "3307                       0                           0   \n",
       "1090                       0                           0   \n",
       "8302                       0                           0   \n",
       "7205                       0                           0   \n",
       "1747                       0                           0   \n",
       "\n",
       "                             ...                          \\\n",
       "3307                         ...                           \n",
       "1090                         ...                           \n",
       "8302                         ...                           \n",
       "7205                         ...                           \n",
       "1747                         ...                           \n",
       "\n",
       "      Last Notable Activity_form submitted on website  \\\n",
       "3307                                                0   \n",
       "1090                                                0   \n",
       "8302                                                0   \n",
       "7205                                                0   \n",
       "1747                                                0   \n",
       "\n",
       "      Last Notable Activity_had a phone conversation  \\\n",
       "3307                                               0   \n",
       "1090                                               0   \n",
       "8302                                               0   \n",
       "7205                                               0   \n",
       "1747                                               0   \n",
       "\n",
       "      Last Notable Activity_modified  \\\n",
       "3307                               0   \n",
       "1090                               0   \n",
       "8302                               0   \n",
       "7205                               1   \n",
       "1747                               0   \n",
       "\n",
       "      Last Notable Activity_olark chat conversation  \\\n",
       "3307                                              0   \n",
       "1090                                              0   \n",
       "8302                                              0   \n",
       "7205                                              0   \n",
       "1747                                              0   \n",
       "\n",
       "      Last Notable Activity_page visited on website  \\\n",
       "3307                                              0   \n",
       "1090                                              1   \n",
       "8302                                              0   \n",
       "7205                                              0   \n",
       "1747                                              0   \n",
       "\n",
       "      Last Notable Activity_resubscribed to emails  \\\n",
       "3307                                             0   \n",
       "1090                                             0   \n",
       "8302                                             0   \n",
       "7205                                             0   \n",
       "1747                                             0   \n",
       "\n",
       "      Last Notable Activity_sms sent  Last Notable Activity_unreachable  \\\n",
       "3307                               1                                  0   \n",
       "1090                               0                                  0   \n",
       "8302                               1                                  0   \n",
       "7205                               0                                  0   \n",
       "1747                               1                                  0   \n",
       "\n",
       "      Last Notable Activity_unsubscribed  \\\n",
       "3307                                   0   \n",
       "1090                                   0   \n",
       "8302                                   0   \n",
       "7205                                   0   \n",
       "1747                                   0   \n",
       "\n",
       "      Last Notable Activity_view in browser link clicked  \n",
       "3307                                                  0   \n",
       "1090                                                  0   \n",
       "8302                                                  0   \n",
       "7205                                                  0   \n",
       "1747                                                  0   \n",
       "\n",
       "[5 rows x 86 columns]"
      ]
     },
     "execution_count": 105,
     "metadata": {},
     "output_type": "execute_result"
    }
   ],
   "source": [
    "\n",
    "# Import MinMax scaler\n",
    "from sklearn.preprocessing import MinMaxScaler\n",
    "# Scale the three numeric features\n",
    "scaler = MinMaxScaler()\n",
    "X_train[['TotalVisits', 'Page Views Per Visit', 'Total Time Spent on Website']] = scaler.fit_transform(X_train[['TotalVisits', 'Page Views Per Visit', 'Total Time Spent on Website']])\n",
    "X_train.head()"
   ]
  },
  {
   "cell_type": "markdown",
   "metadata": {},
   "source": [
    "# Data Modelling"
   ]
  },
  {
   "cell_type": "markdown",
   "metadata": {},
   "source": [
    "- There are lot of variables , we will start with RFE and drop unnecessary columns"
   ]
  },
  {
   "cell_type": "code",
   "execution_count": 106,
   "metadata": {},
   "outputs": [],
   "source": [
    "from sklearn.feature_selection import RFE\n",
    "from sklearn.linear_model import LogisticRegression\n",
    "logreg = LogisticRegression()"
   ]
  },
  {
   "cell_type": "code",
   "execution_count": 107,
   "metadata": {},
   "outputs": [],
   "source": [
    "# Running RFE with 15 variables as output\n",
    "rfe = RFE(logreg, 15)\n",
    "rfe = rfe.fit(X_train, y_train)"
   ]
  },
  {
   "cell_type": "code",
   "execution_count": 108,
   "metadata": {},
   "outputs": [
    {
     "data": {
      "text/plain": [
       "[('TotalVisits', False, 11),\n",
       " ('Total Time Spent on Website', True, 1),\n",
       " ('Page Views Per Visit', False, 10),\n",
       " ('Lead Origin_landing page submission', False, 17),\n",
       " ('Lead Origin_lead add form', False, 18),\n",
       " ('Lead Origin_lead import', False, 45),\n",
       " ('Lead Source_bing', False, 49),\n",
       " ('Lead Source_blog', False, 69),\n",
       " ('Lead Source_click2call', False, 56),\n",
       " ('Lead Source_direct traffic', False, 5),\n",
       " ('Lead Source_facebook', False, 39),\n",
       " ('Lead Source_google', False, 6),\n",
       " ('Lead Source_live chat', False, 68),\n",
       " ('Lead Source_nc_edm', False, 25),\n",
       " ('Lead Source_olark chat', False, 43),\n",
       " ('Lead Source_organic search', False, 4),\n",
       " ('Lead Source_pay per click ads', False, 67),\n",
       " ('Lead Source_press_release', False, 66),\n",
       " ('Lead Source_reference', False, 19),\n",
       " ('Lead Source_referral sites', False, 9),\n",
       " ('Lead Source_social media', False, 63),\n",
       " ('Lead Source_testone', False, 60),\n",
       " ('Lead Source_welearn', False, 62),\n",
       " ('Lead Source_welearnblog_home', False, 48),\n",
       " ('Lead Source_welingak website', True, 1),\n",
       " ('Lead Source_youtubechannel', False, 71),\n",
       " ('Specialization_Management_Specializations', False, 31),\n",
       " ('Specialization_banking, investment and insurance', False, 28),\n",
       " ('Specialization_business administration', False, 42),\n",
       " ('Specialization_e-business', False, 35),\n",
       " ('Specialization_e-commerce', False, 57),\n",
       " ('Specialization_international business', False, 29),\n",
       " ('Specialization_media and advertising', False, 30),\n",
       " ('Specialization_not provided', False, 3),\n",
       " ('Specialization_rural and agribusiness', False, 32),\n",
       " ('Specialization_services excellence', False, 58),\n",
       " ('Specialization_travel and tourism', False, 27),\n",
       " ('occupation_housewife', False, 37),\n",
       " ('occupation_other', False, 47),\n",
       " ('occupation_student', False, 15),\n",
       " ('occupation_unemployed', False, 14),\n",
       " ('occupation_working professional', False, 24),\n",
       " ('City_mumbai', False, 55),\n",
       " ('City_other cities', False, 53),\n",
       " ('City_other cities of maharashtra', False, 54),\n",
       " ('City_other metro cities', False, 40),\n",
       " ('City_select', True, 1),\n",
       " ('City_thane & outskirts', False, 64),\n",
       " ('City_tier ii cities', False, 36),\n",
       " ('Tags_Other_Tags', True, 1),\n",
       " ('Tags_already a student', True, 1),\n",
       " ('Tags_busy', False, 22),\n",
       " ('Tags_closed by horizzon', True, 1),\n",
       " ('Tags_diploma holder (not eligible)', True, 1),\n",
       " ('Tags_graduation in progress', True, 1),\n",
       " ('Tags_in confusion whether part time or dlp', False, 12),\n",
       " ('Tags_in touch with eins', False, 26),\n",
       " ('Tags_interested  in full time mba', True, 1),\n",
       " ('Tags_interested in next batch', False, 46),\n",
       " ('Tags_interested in other courses', True, 1),\n",
       " ('Tags_lateral student', False, 16),\n",
       " ('Tags_lost to eins', True, 1),\n",
       " ('Tags_lost to others', False, 21),\n",
       " ('Tags_not doing further education', True, 1),\n",
       " ('Tags_recognition issue (dec approval)', False, 70),\n",
       " ('Tags_ringing', True, 1),\n",
       " ('Tags_shall take in the next coming month', False, 38),\n",
       " ('Tags_still thinking', False, 13),\n",
       " ('Tags_university not recognized', False, 34),\n",
       " ('Tags_want to take admission but has financial problems', False, 23),\n",
       " ('Tags_will revert after reading the email', True, 1),\n",
       " ('Last Notable Activity_email bounced', False, 7),\n",
       " ('Last Notable Activity_email link clicked', False, 20),\n",
       " ('Last Notable Activity_email marked spam', False, 65),\n",
       " ('Last Notable Activity_email opened', False, 51),\n",
       " ('Last Notable Activity_email received', False, 61),\n",
       " ('Last Notable Activity_form submitted on website', False, 59),\n",
       " ('Last Notable Activity_had a phone conversation', False, 41),\n",
       " ('Last Notable Activity_modified', False, 8),\n",
       " ('Last Notable Activity_olark chat conversation', False, 2),\n",
       " ('Last Notable Activity_page visited on website', False, 33),\n",
       " ('Last Notable Activity_resubscribed to emails', False, 52),\n",
       " ('Last Notable Activity_sms sent', True, 1),\n",
       " ('Last Notable Activity_unreachable', False, 50),\n",
       " ('Last Notable Activity_unsubscribed', False, 44),\n",
       " ('Last Notable Activity_view in browser link clicked', False, 72)]"
      ]
     },
     "execution_count": 108,
     "metadata": {},
     "output_type": "execute_result"
    }
   ],
   "source": [
    "list(zip(X_train.columns, rfe.support_, rfe.ranking_))"
   ]
  },
  {
   "cell_type": "code",
   "execution_count": 109,
   "metadata": {},
   "outputs": [],
   "source": [
    "col = X_train.columns[rfe.support_]"
   ]
  },
  {
   "cell_type": "code",
   "execution_count": 110,
   "metadata": {},
   "outputs": [],
   "source": [
    "\n",
    "# Selecting columns selected by RFE\n",
    "X_train = X_train[col]"
   ]
  },
  {
   "cell_type": "code",
   "execution_count": 111,
   "metadata": {},
   "outputs": [],
   "source": [
    "# Now we will start with statistical Analysis"
   ]
  },
  {
   "cell_type": "code",
   "execution_count": 112,
   "metadata": {},
   "outputs": [],
   "source": [
    "import statsmodels.api as sm"
   ]
  },
  {
   "cell_type": "markdown",
   "metadata": {},
   "source": [
    "# Building Model -1"
   ]
  },
  {
   "cell_type": "code",
   "execution_count": 113,
   "metadata": {},
   "outputs": [
    {
     "data": {
      "text/html": [
       "<table class=\"simpletable\">\n",
       "<caption>Generalized Linear Model Regression Results</caption>\n",
       "<tr>\n",
       "  <th>Dep. Variable:</th>      <td>Converted</td>    <th>  No. Observations:  </th>  <td>  6045</td>  \n",
       "</tr>\n",
       "<tr>\n",
       "  <th>Model:</th>                 <td>GLM</td>       <th>  Df Residuals:      </th>  <td>  6029</td>  \n",
       "</tr>\n",
       "<tr>\n",
       "  <th>Model Family:</th>       <td>Binomial</td>     <th>  Df Model:          </th>  <td>    15</td>  \n",
       "</tr>\n",
       "<tr>\n",
       "  <th>Link Function:</th>        <td>logit</td>      <th>  Scale:             </th> <td>  1.0000</td> \n",
       "</tr>\n",
       "<tr>\n",
       "  <th>Method:</th>               <td>IRLS</td>       <th>  Log-Likelihood:    </th> <td> -1122.0</td> \n",
       "</tr>\n",
       "<tr>\n",
       "  <th>Date:</th>           <td>Thu, 03 Sep 2020</td> <th>  Deviance:          </th> <td>  2244.1</td> \n",
       "</tr>\n",
       "<tr>\n",
       "  <th>Time:</th>               <td>13:15:05</td>     <th>  Pearson chi2:      </th> <td>1.05e+04</td> \n",
       "</tr>\n",
       "<tr>\n",
       "  <th>No. Iterations:</th>        <td>23</td>        <th>  Covariance Type:   </th> <td>nonrobust</td>\n",
       "</tr>\n",
       "</table>\n",
       "<table class=\"simpletable\">\n",
       "<tr>\n",
       "                      <td></td>                        <th>coef</th>     <th>std err</th>      <th>z</th>      <th>P>|z|</th>  <th>[0.025</th>    <th>0.975]</th>  \n",
       "</tr>\n",
       "<tr>\n",
       "  <th>const</th>                                    <td>   -2.9637</td> <td>    0.103</td> <td>  -28.817</td> <td> 0.000</td> <td>   -3.165</td> <td>   -2.762</td>\n",
       "</tr>\n",
       "<tr>\n",
       "  <th>Total Time Spent on Website</th>              <td>    3.5398</td> <td>    0.232</td> <td>   15.278</td> <td> 0.000</td> <td>    3.086</td> <td>    3.994</td>\n",
       "</tr>\n",
       "<tr>\n",
       "  <th>Lead Source_welingak website</th>             <td>    4.5684</td> <td>    1.032</td> <td>    4.426</td> <td> 0.000</td> <td>    2.546</td> <td>    6.591</td>\n",
       "</tr>\n",
       "<tr>\n",
       "  <th>City_select</th>                              <td>    2.0075</td> <td>    0.142</td> <td>   14.160</td> <td> 0.000</td> <td>    1.730</td> <td>    2.285</td>\n",
       "</tr>\n",
       "<tr>\n",
       "  <th>Tags_Other_Tags</th>                          <td>   -4.3992</td> <td>    0.534</td> <td>   -8.242</td> <td> 0.000</td> <td>   -5.445</td> <td>   -3.353</td>\n",
       "</tr>\n",
       "<tr>\n",
       "  <th>Tags_already a student</th>                   <td>   -3.9946</td> <td>    0.724</td> <td>   -5.515</td> <td> 0.000</td> <td>   -5.414</td> <td>   -2.575</td>\n",
       "</tr>\n",
       "<tr>\n",
       "  <th>Tags_closed by horizzon</th>                  <td>    6.4289</td> <td>    0.720</td> <td>    8.934</td> <td> 0.000</td> <td>    5.018</td> <td>    7.839</td>\n",
       "</tr>\n",
       "<tr>\n",
       "  <th>Tags_diploma holder (not eligible)</th>       <td>   -2.9272</td> <td>    1.052</td> <td>   -2.781</td> <td> 0.005</td> <td>   -4.990</td> <td>   -0.864</td>\n",
       "</tr>\n",
       "<tr>\n",
       "  <th>Tags_graduation in progress</th>              <td>   -1.6932</td> <td>    0.563</td> <td>   -3.008</td> <td> 0.003</td> <td>   -2.796</td> <td>   -0.590</td>\n",
       "</tr>\n",
       "<tr>\n",
       "  <th>Tags_interested  in full time mba</th>        <td>   -3.0430</td> <td>    1.023</td> <td>   -2.974</td> <td> 0.003</td> <td>   -5.048</td> <td>   -1.038</td>\n",
       "</tr>\n",
       "<tr>\n",
       "  <th>Tags_interested in other courses</th>         <td>   -3.5056</td> <td>    0.454</td> <td>   -7.721</td> <td> 0.000</td> <td>   -4.396</td> <td>   -2.616</td>\n",
       "</tr>\n",
       "<tr>\n",
       "  <th>Tags_lost to eins</th>                        <td>    5.0191</td> <td>    0.524</td> <td>    9.586</td> <td> 0.000</td> <td>    3.993</td> <td>    6.045</td>\n",
       "</tr>\n",
       "<tr>\n",
       "  <th>Tags_not doing further education</th>         <td>  -23.1818</td> <td> 1.37e+04</td> <td>   -0.002</td> <td> 0.999</td> <td> -2.7e+04</td> <td> 2.69e+04</td>\n",
       "</tr>\n",
       "<tr>\n",
       "  <th>Tags_ringing</th>                             <td>   -4.1942</td> <td>    0.284</td> <td>  -14.774</td> <td> 0.000</td> <td>   -4.751</td> <td>   -3.638</td>\n",
       "</tr>\n",
       "<tr>\n",
       "  <th>Tags_will revert after reading the email</th> <td>    4.7505</td> <td>    0.185</td> <td>   25.649</td> <td> 0.000</td> <td>    4.388</td> <td>    5.114</td>\n",
       "</tr>\n",
       "<tr>\n",
       "  <th>Last Notable Activity_sms sent</th>           <td>    2.6521</td> <td>    0.138</td> <td>   19.262</td> <td> 0.000</td> <td>    2.382</td> <td>    2.922</td>\n",
       "</tr>\n",
       "</table>"
      ],
      "text/plain": [
       "<class 'statsmodels.iolib.summary.Summary'>\n",
       "\"\"\"\n",
       "                 Generalized Linear Model Regression Results                  \n",
       "==============================================================================\n",
       "Dep. Variable:              Converted   No. Observations:                 6045\n",
       "Model:                            GLM   Df Residuals:                     6029\n",
       "Model Family:                Binomial   Df Model:                           15\n",
       "Link Function:                  logit   Scale:                          1.0000\n",
       "Method:                          IRLS   Log-Likelihood:                -1122.0\n",
       "Date:                Thu, 03 Sep 2020   Deviance:                       2244.1\n",
       "Time:                        13:15:05   Pearson chi2:                 1.05e+04\n",
       "No. Iterations:                    23   Covariance Type:             nonrobust\n",
       "============================================================================================================\n",
       "                                               coef    std err          z      P>|z|      [0.025      0.975]\n",
       "------------------------------------------------------------------------------------------------------------\n",
       "const                                       -2.9637      0.103    -28.817      0.000      -3.165      -2.762\n",
       "Total Time Spent on Website                  3.5398      0.232     15.278      0.000       3.086       3.994\n",
       "Lead Source_welingak website                 4.5684      1.032      4.426      0.000       2.546       6.591\n",
       "City_select                                  2.0075      0.142     14.160      0.000       1.730       2.285\n",
       "Tags_Other_Tags                             -4.3992      0.534     -8.242      0.000      -5.445      -3.353\n",
       "Tags_already a student                      -3.9946      0.724     -5.515      0.000      -5.414      -2.575\n",
       "Tags_closed by horizzon                      6.4289      0.720      8.934      0.000       5.018       7.839\n",
       "Tags_diploma holder (not eligible)          -2.9272      1.052     -2.781      0.005      -4.990      -0.864\n",
       "Tags_graduation in progress                 -1.6932      0.563     -3.008      0.003      -2.796      -0.590\n",
       "Tags_interested  in full time mba           -3.0430      1.023     -2.974      0.003      -5.048      -1.038\n",
       "Tags_interested in other courses            -3.5056      0.454     -7.721      0.000      -4.396      -2.616\n",
       "Tags_lost to eins                            5.0191      0.524      9.586      0.000       3.993       6.045\n",
       "Tags_not doing further education           -23.1818   1.37e+04     -0.002      0.999    -2.7e+04    2.69e+04\n",
       "Tags_ringing                                -4.1942      0.284    -14.774      0.000      -4.751      -3.638\n",
       "Tags_will revert after reading the email     4.7505      0.185     25.649      0.000       4.388       5.114\n",
       "Last Notable Activity_sms sent               2.6521      0.138     19.262      0.000       2.382       2.922\n",
       "============================================================================================================\n",
       "\"\"\""
      ]
     },
     "execution_count": 113,
     "metadata": {},
     "output_type": "execute_result"
    }
   ],
   "source": [
    "X_train_sm = sm.add_constant(X_train)\n",
    "logm1 = sm.GLM(y_train, X_train_sm, family = sm.families.Binomial())\n",
    "res = logm1.fit()\n",
    "res.summary()"
   ]
  },
  {
   "cell_type": "code",
   "execution_count": 114,
   "metadata": {},
   "outputs": [
    {
     "data": {
      "text/html": [
       "<div>\n",
       "<style scoped>\n",
       "    .dataframe tbody tr th:only-of-type {\n",
       "        vertical-align: middle;\n",
       "    }\n",
       "\n",
       "    .dataframe tbody tr th {\n",
       "        vertical-align: top;\n",
       "    }\n",
       "\n",
       "    .dataframe thead th {\n",
       "        text-align: right;\n",
       "    }\n",
       "</style>\n",
       "<table border=\"1\" class=\"dataframe\">\n",
       "  <thead>\n",
       "    <tr style=\"text-align: right;\">\n",
       "      <th></th>\n",
       "      <th>Features</th>\n",
       "      <th>VIF</th>\n",
       "    </tr>\n",
       "  </thead>\n",
       "  <tbody>\n",
       "    <tr>\n",
       "      <th>0</th>\n",
       "      <td>Total Time Spent on Website</td>\n",
       "      <td>1.64</td>\n",
       "    </tr>\n",
       "    <tr>\n",
       "      <th>13</th>\n",
       "      <td>Tags_will revert after reading the email</td>\n",
       "      <td>1.64</td>\n",
       "    </tr>\n",
       "    <tr>\n",
       "      <th>14</th>\n",
       "      <td>Last Notable Activity_sms sent</td>\n",
       "      <td>1.55</td>\n",
       "    </tr>\n",
       "    <tr>\n",
       "      <th>2</th>\n",
       "      <td>City_select</td>\n",
       "      <td>1.42</td>\n",
       "    </tr>\n",
       "    <tr>\n",
       "      <th>12</th>\n",
       "      <td>Tags_ringing</td>\n",
       "      <td>1.17</td>\n",
       "    </tr>\n",
       "    <tr>\n",
       "      <th>9</th>\n",
       "      <td>Tags_interested in other courses</td>\n",
       "      <td>1.11</td>\n",
       "    </tr>\n",
       "    <tr>\n",
       "      <th>1</th>\n",
       "      <td>Lead Source_welingak website</td>\n",
       "      <td>1.06</td>\n",
       "    </tr>\n",
       "    <tr>\n",
       "      <th>4</th>\n",
       "      <td>Tags_already a student</td>\n",
       "      <td>1.06</td>\n",
       "    </tr>\n",
       "    <tr>\n",
       "      <th>5</th>\n",
       "      <td>Tags_closed by horizzon</td>\n",
       "      <td>1.06</td>\n",
       "    </tr>\n",
       "    <tr>\n",
       "      <th>3</th>\n",
       "      <td>Tags_Other_Tags</td>\n",
       "      <td>1.05</td>\n",
       "    </tr>\n",
       "    <tr>\n",
       "      <th>10</th>\n",
       "      <td>Tags_lost to eins</td>\n",
       "      <td>1.05</td>\n",
       "    </tr>\n",
       "    <tr>\n",
       "      <th>6</th>\n",
       "      <td>Tags_diploma holder (not eligible)</td>\n",
       "      <td>1.01</td>\n",
       "    </tr>\n",
       "    <tr>\n",
       "      <th>7</th>\n",
       "      <td>Tags_graduation in progress</td>\n",
       "      <td>1.01</td>\n",
       "    </tr>\n",
       "    <tr>\n",
       "      <th>8</th>\n",
       "      <td>Tags_interested  in full time mba</td>\n",
       "      <td>1.01</td>\n",
       "    </tr>\n",
       "    <tr>\n",
       "      <th>11</th>\n",
       "      <td>Tags_not doing further education</td>\n",
       "      <td>1.01</td>\n",
       "    </tr>\n",
       "  </tbody>\n",
       "</table>\n",
       "</div>"
      ],
      "text/plain": [
       "                                    Features   VIF\n",
       "0                Total Time Spent on Website  1.64\n",
       "13  Tags_will revert after reading the email  1.64\n",
       "14            Last Notable Activity_sms sent  1.55\n",
       "2                                City_select  1.42\n",
       "12                              Tags_ringing  1.17\n",
       "9           Tags_interested in other courses  1.11\n",
       "1               Lead Source_welingak website  1.06\n",
       "4                     Tags_already a student  1.06\n",
       "5                    Tags_closed by horizzon  1.06\n",
       "3                            Tags_Other_Tags  1.05\n",
       "10                         Tags_lost to eins  1.05\n",
       "6         Tags_diploma holder (not eligible)  1.01\n",
       "7                Tags_graduation in progress  1.01\n",
       "8          Tags_interested  in full time mba  1.01\n",
       "11          Tags_not doing further education  1.01"
      ]
     },
     "execution_count": 114,
     "metadata": {},
     "output_type": "execute_result"
    }
   ],
   "source": [
    "from statsmodels.stats.outliers_influence import variance_inflation_factor\n",
    "vif = pd.DataFrame()\n",
    "vif['Features'] = X_train.columns\n",
    "vif['VIF'] = [variance_inflation_factor(X_train.values, i) for i in range(X_train.shape[1])]\n",
    "vif['VIF'] = round(vif['VIF'], 2)\n",
    "vif = vif.sort_values(by = \"VIF\", ascending = False)\n",
    "vif"
   ]
  },
  {
   "cell_type": "code",
   "execution_count": 115,
   "metadata": {},
   "outputs": [],
   "source": [
    "# VIF values are below 5 , so they are fine , P values are high , lets remove \"Tags_not doing further education\""
   ]
  },
  {
   "cell_type": "code",
   "execution_count": 116,
   "metadata": {},
   "outputs": [],
   "source": [
    "X_train.drop('Tags_not doing further education', axis = 1, inplace = True)"
   ]
  },
  {
   "cell_type": "markdown",
   "metadata": {},
   "source": [
    "# Building Model -2"
   ]
  },
  {
   "cell_type": "code",
   "execution_count": 117,
   "metadata": {},
   "outputs": [
    {
     "data": {
      "text/html": [
       "<table class=\"simpletable\">\n",
       "<caption>Generalized Linear Model Regression Results</caption>\n",
       "<tr>\n",
       "  <th>Dep. Variable:</th>      <td>Converted</td>    <th>  No. Observations:  </th>  <td>  6045</td>  \n",
       "</tr>\n",
       "<tr>\n",
       "  <th>Model:</th>                 <td>GLM</td>       <th>  Df Residuals:      </th>  <td>  6030</td>  \n",
       "</tr>\n",
       "<tr>\n",
       "  <th>Model Family:</th>       <td>Binomial</td>     <th>  Df Model:          </th>  <td>    14</td>  \n",
       "</tr>\n",
       "<tr>\n",
       "  <th>Link Function:</th>        <td>logit</td>      <th>  Scale:             </th> <td>  1.0000</td> \n",
       "</tr>\n",
       "<tr>\n",
       "  <th>Method:</th>               <td>IRLS</td>       <th>  Log-Likelihood:    </th> <td> -1140.0</td> \n",
       "</tr>\n",
       "<tr>\n",
       "  <th>Date:</th>           <td>Thu, 03 Sep 2020</td> <th>  Deviance:          </th> <td>  2280.0</td> \n",
       "</tr>\n",
       "<tr>\n",
       "  <th>Time:</th>               <td>13:15:07</td>     <th>  Pearson chi2:      </th> <td>1.06e+04</td> \n",
       "</tr>\n",
       "<tr>\n",
       "  <th>No. Iterations:</th>         <td>8</td>        <th>  Covariance Type:   </th> <td>nonrobust</td>\n",
       "</tr>\n",
       "</table>\n",
       "<table class=\"simpletable\">\n",
       "<tr>\n",
       "                      <td></td>                        <th>coef</th>     <th>std err</th>      <th>z</th>      <th>P>|z|</th>  <th>[0.025</th>    <th>0.975]</th>  \n",
       "</tr>\n",
       "<tr>\n",
       "  <th>const</th>                                    <td>   -3.0181</td> <td>    0.103</td> <td>  -29.226</td> <td> 0.000</td> <td>   -3.220</td> <td>   -2.816</td>\n",
       "</tr>\n",
       "<tr>\n",
       "  <th>Total Time Spent on Website</th>              <td>    3.5136</td> <td>    0.230</td> <td>   15.306</td> <td> 0.000</td> <td>    3.064</td> <td>    3.964</td>\n",
       "</tr>\n",
       "<tr>\n",
       "  <th>Lead Source_welingak website</th>             <td>    4.6677</td> <td>    1.031</td> <td>    4.528</td> <td> 0.000</td> <td>    2.647</td> <td>    6.688</td>\n",
       "</tr>\n",
       "<tr>\n",
       "  <th>City_select</th>                              <td>    1.9396</td> <td>    0.139</td> <td>   14.003</td> <td> 0.000</td> <td>    1.668</td> <td>    2.211</td>\n",
       "</tr>\n",
       "<tr>\n",
       "  <th>Tags_Other_Tags</th>                          <td>   -4.3541</td> <td>    0.533</td> <td>   -8.165</td> <td> 0.000</td> <td>   -5.399</td> <td>   -3.309</td>\n",
       "</tr>\n",
       "<tr>\n",
       "  <th>Tags_already a student</th>                   <td>   -3.8813</td> <td>    0.723</td> <td>   -5.366</td> <td> 0.000</td> <td>   -5.299</td> <td>   -2.464</td>\n",
       "</tr>\n",
       "<tr>\n",
       "  <th>Tags_closed by horizzon</th>                  <td>    6.4930</td> <td>    0.720</td> <td>    9.024</td> <td> 0.000</td> <td>    5.083</td> <td>    7.903</td>\n",
       "</tr>\n",
       "<tr>\n",
       "  <th>Tags_diploma holder (not eligible)</th>       <td>   -2.8469</td> <td>    1.056</td> <td>   -2.695</td> <td> 0.007</td> <td>   -4.917</td> <td>   -0.777</td>\n",
       "</tr>\n",
       "<tr>\n",
       "  <th>Tags_graduation in progress</th>              <td>   -1.5966</td> <td>    0.563</td> <td>   -2.838</td> <td> 0.005</td> <td>   -2.699</td> <td>   -0.494</td>\n",
       "</tr>\n",
       "<tr>\n",
       "  <th>Tags_interested  in full time mba</th>        <td>   -2.9409</td> <td>    1.022</td> <td>   -2.877</td> <td> 0.004</td> <td>   -4.944</td> <td>   -0.938</td>\n",
       "</tr>\n",
       "<tr>\n",
       "  <th>Tags_interested in other courses</th>         <td>   -3.3964</td> <td>    0.454</td> <td>   -7.484</td> <td> 0.000</td> <td>   -4.286</td> <td>   -2.507</td>\n",
       "</tr>\n",
       "<tr>\n",
       "  <th>Tags_lost to eins</th>                        <td>    5.0847</td> <td>    0.523</td> <td>    9.717</td> <td> 0.000</td> <td>    4.059</td> <td>    6.110</td>\n",
       "</tr>\n",
       "<tr>\n",
       "  <th>Tags_ringing</th>                             <td>   -4.1424</td> <td>    0.283</td> <td>  -14.632</td> <td> 0.000</td> <td>   -4.697</td> <td>   -3.588</td>\n",
       "</tr>\n",
       "<tr>\n",
       "  <th>Tags_will revert after reading the email</th> <td>    4.8096</td> <td>    0.185</td> <td>   25.965</td> <td> 0.000</td> <td>    4.447</td> <td>    5.173</td>\n",
       "</tr>\n",
       "<tr>\n",
       "  <th>Last Notable Activity_sms sent</th>           <td>    2.7104</td> <td>    0.137</td> <td>   19.772</td> <td> 0.000</td> <td>    2.442</td> <td>    2.979</td>\n",
       "</tr>\n",
       "</table>"
      ],
      "text/plain": [
       "<class 'statsmodels.iolib.summary.Summary'>\n",
       "\"\"\"\n",
       "                 Generalized Linear Model Regression Results                  \n",
       "==============================================================================\n",
       "Dep. Variable:              Converted   No. Observations:                 6045\n",
       "Model:                            GLM   Df Residuals:                     6030\n",
       "Model Family:                Binomial   Df Model:                           14\n",
       "Link Function:                  logit   Scale:                          1.0000\n",
       "Method:                          IRLS   Log-Likelihood:                -1140.0\n",
       "Date:                Thu, 03 Sep 2020   Deviance:                       2280.0\n",
       "Time:                        13:15:07   Pearson chi2:                 1.06e+04\n",
       "No. Iterations:                     8   Covariance Type:             nonrobust\n",
       "============================================================================================================\n",
       "                                               coef    std err          z      P>|z|      [0.025      0.975]\n",
       "------------------------------------------------------------------------------------------------------------\n",
       "const                                       -3.0181      0.103    -29.226      0.000      -3.220      -2.816\n",
       "Total Time Spent on Website                  3.5136      0.230     15.306      0.000       3.064       3.964\n",
       "Lead Source_welingak website                 4.6677      1.031      4.528      0.000       2.647       6.688\n",
       "City_select                                  1.9396      0.139     14.003      0.000       1.668       2.211\n",
       "Tags_Other_Tags                             -4.3541      0.533     -8.165      0.000      -5.399      -3.309\n",
       "Tags_already a student                      -3.8813      0.723     -5.366      0.000      -5.299      -2.464\n",
       "Tags_closed by horizzon                      6.4930      0.720      9.024      0.000       5.083       7.903\n",
       "Tags_diploma holder (not eligible)          -2.8469      1.056     -2.695      0.007      -4.917      -0.777\n",
       "Tags_graduation in progress                 -1.5966      0.563     -2.838      0.005      -2.699      -0.494\n",
       "Tags_interested  in full time mba           -2.9409      1.022     -2.877      0.004      -4.944      -0.938\n",
       "Tags_interested in other courses            -3.3964      0.454     -7.484      0.000      -4.286      -2.507\n",
       "Tags_lost to eins                            5.0847      0.523      9.717      0.000       4.059       6.110\n",
       "Tags_ringing                                -4.1424      0.283    -14.632      0.000      -4.697      -3.588\n",
       "Tags_will revert after reading the email     4.8096      0.185     25.965      0.000       4.447       5.173\n",
       "Last Notable Activity_sms sent               2.7104      0.137     19.772      0.000       2.442       2.979\n",
       "============================================================================================================\n",
       "\"\"\""
      ]
     },
     "execution_count": 117,
     "metadata": {},
     "output_type": "execute_result"
    }
   ],
   "source": [
    "\n",
    "# Refit the model with the new set of features\n",
    "X_train_sm = sm.add_constant(X_train)\n",
    "logm2 = sm.GLM(y_train, X_train_sm, family = sm.families.Binomial())\n",
    "res = logm2.fit()\n",
    "res.summary()"
   ]
  },
  {
   "cell_type": "code",
   "execution_count": 118,
   "metadata": {},
   "outputs": [
    {
     "data": {
      "text/html": [
       "<div>\n",
       "<style scoped>\n",
       "    .dataframe tbody tr th:only-of-type {\n",
       "        vertical-align: middle;\n",
       "    }\n",
       "\n",
       "    .dataframe tbody tr th {\n",
       "        vertical-align: top;\n",
       "    }\n",
       "\n",
       "    .dataframe thead th {\n",
       "        text-align: right;\n",
       "    }\n",
       "</style>\n",
       "<table border=\"1\" class=\"dataframe\">\n",
       "  <thead>\n",
       "    <tr style=\"text-align: right;\">\n",
       "      <th></th>\n",
       "      <th>Features</th>\n",
       "      <th>VIF</th>\n",
       "    </tr>\n",
       "  </thead>\n",
       "  <tbody>\n",
       "    <tr>\n",
       "      <th>12</th>\n",
       "      <td>Tags_will revert after reading the email</td>\n",
       "      <td>1.63</td>\n",
       "    </tr>\n",
       "    <tr>\n",
       "      <th>0</th>\n",
       "      <td>Total Time Spent on Website</td>\n",
       "      <td>1.62</td>\n",
       "    </tr>\n",
       "    <tr>\n",
       "      <th>13</th>\n",
       "      <td>Last Notable Activity_sms sent</td>\n",
       "      <td>1.55</td>\n",
       "    </tr>\n",
       "    <tr>\n",
       "      <th>2</th>\n",
       "      <td>City_select</td>\n",
       "      <td>1.41</td>\n",
       "    </tr>\n",
       "    <tr>\n",
       "      <th>11</th>\n",
       "      <td>Tags_ringing</td>\n",
       "      <td>1.17</td>\n",
       "    </tr>\n",
       "    <tr>\n",
       "      <th>9</th>\n",
       "      <td>Tags_interested in other courses</td>\n",
       "      <td>1.11</td>\n",
       "    </tr>\n",
       "    <tr>\n",
       "      <th>1</th>\n",
       "      <td>Lead Source_welingak website</td>\n",
       "      <td>1.06</td>\n",
       "    </tr>\n",
       "    <tr>\n",
       "      <th>4</th>\n",
       "      <td>Tags_already a student</td>\n",
       "      <td>1.06</td>\n",
       "    </tr>\n",
       "    <tr>\n",
       "      <th>5</th>\n",
       "      <td>Tags_closed by horizzon</td>\n",
       "      <td>1.06</td>\n",
       "    </tr>\n",
       "    <tr>\n",
       "      <th>3</th>\n",
       "      <td>Tags_Other_Tags</td>\n",
       "      <td>1.05</td>\n",
       "    </tr>\n",
       "    <tr>\n",
       "      <th>10</th>\n",
       "      <td>Tags_lost to eins</td>\n",
       "      <td>1.05</td>\n",
       "    </tr>\n",
       "    <tr>\n",
       "      <th>6</th>\n",
       "      <td>Tags_diploma holder (not eligible)</td>\n",
       "      <td>1.01</td>\n",
       "    </tr>\n",
       "    <tr>\n",
       "      <th>7</th>\n",
       "      <td>Tags_graduation in progress</td>\n",
       "      <td>1.01</td>\n",
       "    </tr>\n",
       "    <tr>\n",
       "      <th>8</th>\n",
       "      <td>Tags_interested  in full time mba</td>\n",
       "      <td>1.01</td>\n",
       "    </tr>\n",
       "  </tbody>\n",
       "</table>\n",
       "</div>"
      ],
      "text/plain": [
       "                                    Features   VIF\n",
       "12  Tags_will revert after reading the email  1.63\n",
       "0                Total Time Spent on Website  1.62\n",
       "13            Last Notable Activity_sms sent  1.55\n",
       "2                                City_select  1.41\n",
       "11                              Tags_ringing  1.17\n",
       "9           Tags_interested in other courses  1.11\n",
       "1               Lead Source_welingak website  1.06\n",
       "4                     Tags_already a student  1.06\n",
       "5                    Tags_closed by horizzon  1.06\n",
       "3                            Tags_Other_Tags  1.05\n",
       "10                         Tags_lost to eins  1.05\n",
       "6         Tags_diploma holder (not eligible)  1.01\n",
       "7                Tags_graduation in progress  1.01\n",
       "8          Tags_interested  in full time mba  1.01"
      ]
     },
     "execution_count": 118,
     "metadata": {},
     "output_type": "execute_result"
    }
   ],
   "source": [
    "vif = pd.DataFrame()\n",
    "vif['Features'] = X_train.columns\n",
    "vif['VIF'] = [variance_inflation_factor(X_train.values, i) for i in range(X_train.shape[1])]\n",
    "vif['VIF'] = round(vif['VIF'], 2)\n",
    "vif = vif.sort_values(by = \"VIF\", ascending = False)\n",
    "vif"
   ]
  },
  {
   "cell_type": "code",
   "execution_count": 119,
   "metadata": {},
   "outputs": [],
   "source": [
    " # VIF values are less than 5 and p values are also less than 0.05 , so model creation is done"
   ]
  },
  {
   "cell_type": "code",
   "execution_count": null,
   "metadata": {},
   "outputs": [],
   "source": []
  },
  {
   "cell_type": "markdown",
   "metadata": {},
   "source": [
    "# Prediction"
   ]
  },
  {
   "cell_type": "code",
   "execution_count": 120,
   "metadata": {},
   "outputs": [
    {
     "data": {
      "text/plain": [
       "3307    0.998485\n",
       "1090    0.997603\n",
       "8302    0.020213\n",
       "7205    0.006966\n",
       "1747    0.999850\n",
       "5265    0.085601\n",
       "8345    0.046615\n",
       "6452    0.995889\n",
       "4935    0.999706\n",
       "3602    0.844270\n",
       "dtype: float64"
      ]
     },
     "execution_count": 120,
     "metadata": {},
     "output_type": "execute_result"
    }
   ],
   "source": [
    "\n",
    "# Predicting the probabilities on the train set\n",
    "y_train_pred = res.predict(X_train_sm)\n",
    "y_train_pred[:10]\n"
   ]
  },
  {
   "cell_type": "code",
   "execution_count": 121,
   "metadata": {},
   "outputs": [
    {
     "data": {
      "text/plain": [
       "array([0.9984847 , 0.99760323, 0.02021277, 0.00696562, 0.99984997,\n",
       "       0.085601  , 0.04661492, 0.99588929, 0.9997065 , 0.84427005])"
      ]
     },
     "execution_count": 121,
     "metadata": {},
     "output_type": "execute_result"
    }
   ],
   "source": [
    "# Reshaping to an array\n",
    "y_train_pred = y_train_pred.values.reshape(-1)\n",
    "y_train_pred[:10]"
   ]
  },
  {
   "cell_type": "code",
   "execution_count": 122,
   "metadata": {},
   "outputs": [
    {
     "data": {
      "text/html": [
       "<div>\n",
       "<style scoped>\n",
       "    .dataframe tbody tr th:only-of-type {\n",
       "        vertical-align: middle;\n",
       "    }\n",
       "\n",
       "    .dataframe tbody tr th {\n",
       "        vertical-align: top;\n",
       "    }\n",
       "\n",
       "    .dataframe thead th {\n",
       "        text-align: right;\n",
       "    }\n",
       "</style>\n",
       "<table border=\"1\" class=\"dataframe\">\n",
       "  <thead>\n",
       "    <tr style=\"text-align: right;\">\n",
       "      <th></th>\n",
       "      <th>Converted</th>\n",
       "      <th>Conversion_Prob</th>\n",
       "    </tr>\n",
       "  </thead>\n",
       "  <tbody>\n",
       "    <tr>\n",
       "      <th>0</th>\n",
       "      <td>1</td>\n",
       "      <td>0.998485</td>\n",
       "    </tr>\n",
       "    <tr>\n",
       "      <th>1</th>\n",
       "      <td>1</td>\n",
       "      <td>0.997603</td>\n",
       "    </tr>\n",
       "    <tr>\n",
       "      <th>2</th>\n",
       "      <td>0</td>\n",
       "      <td>0.020213</td>\n",
       "    </tr>\n",
       "    <tr>\n",
       "      <th>3</th>\n",
       "      <td>0</td>\n",
       "      <td>0.006966</td>\n",
       "    </tr>\n",
       "    <tr>\n",
       "      <th>4</th>\n",
       "      <td>1</td>\n",
       "      <td>0.999850</td>\n",
       "    </tr>\n",
       "  </tbody>\n",
       "</table>\n",
       "</div>"
      ],
      "text/plain": [
       "   Converted  Conversion_Prob\n",
       "0          1         0.998485\n",
       "1          1         0.997603\n",
       "2          0         0.020213\n",
       "3          0         0.006966\n",
       "4          1         0.999850"
      ]
     },
     "execution_count": 122,
     "metadata": {},
     "output_type": "execute_result"
    }
   ],
   "source": [
    " # Data frame with given convertion rate and probablity of predicted ones\n",
    "y_train_pred_final = pd.DataFrame({'Converted':y_train.values, 'Conversion_Prob':y_train_pred})\n",
    "y_train_pred_final.head()"
   ]
  },
  {
   "cell_type": "code",
   "execution_count": 123,
   "metadata": {},
   "outputs": [
    {
     "data": {
      "text/html": [
       "<div>\n",
       "<style scoped>\n",
       "    .dataframe tbody tr th:only-of-type {\n",
       "        vertical-align: middle;\n",
       "    }\n",
       "\n",
       "    .dataframe tbody tr th {\n",
       "        vertical-align: top;\n",
       "    }\n",
       "\n",
       "    .dataframe thead th {\n",
       "        text-align: right;\n",
       "    }\n",
       "</style>\n",
       "<table border=\"1\" class=\"dataframe\">\n",
       "  <thead>\n",
       "    <tr style=\"text-align: right;\">\n",
       "      <th></th>\n",
       "      <th>Converted</th>\n",
       "      <th>Conversion_Prob</th>\n",
       "      <th>Predicted</th>\n",
       "    </tr>\n",
       "  </thead>\n",
       "  <tbody>\n",
       "    <tr>\n",
       "      <th>0</th>\n",
       "      <td>1</td>\n",
       "      <td>0.998485</td>\n",
       "      <td>1</td>\n",
       "    </tr>\n",
       "    <tr>\n",
       "      <th>1</th>\n",
       "      <td>1</td>\n",
       "      <td>0.997603</td>\n",
       "      <td>1</td>\n",
       "    </tr>\n",
       "    <tr>\n",
       "      <th>2</th>\n",
       "      <td>0</td>\n",
       "      <td>0.020213</td>\n",
       "      <td>0</td>\n",
       "    </tr>\n",
       "    <tr>\n",
       "      <th>3</th>\n",
       "      <td>0</td>\n",
       "      <td>0.006966</td>\n",
       "      <td>0</td>\n",
       "    </tr>\n",
       "    <tr>\n",
       "      <th>4</th>\n",
       "      <td>1</td>\n",
       "      <td>0.999850</td>\n",
       "      <td>1</td>\n",
       "    </tr>\n",
       "  </tbody>\n",
       "</table>\n",
       "</div>"
      ],
      "text/plain": [
       "   Converted  Conversion_Prob  Predicted\n",
       "0          1         0.998485          1\n",
       "1          1         0.997603          1\n",
       "2          0         0.020213          0\n",
       "3          0         0.006966          0\n",
       "4          1         0.999850          1"
      ]
     },
     "execution_count": 123,
     "metadata": {},
     "output_type": "execute_result"
    }
   ],
   "source": [
    " # Substituting 0 or 1 with the cut off as 0.5\n",
    "y_train_pred_final['Predicted'] = y_train_pred_final.Conversion_Prob.map(lambda x: 1 if x > 0.5 else 0)\n",
    "y_train_pred_final.head()"
   ]
  },
  {
   "cell_type": "markdown",
   "metadata": {},
   "source": [
    "# Model Evaluation"
   ]
  },
  {
   "cell_type": "code",
   "execution_count": 124,
   "metadata": {},
   "outputs": [],
   "source": [
    "\n",
    "# Importing metrics from sklearn for evaluation\n",
    "from sklearn import metrics"
   ]
  },
  {
   "cell_type": "code",
   "execution_count": 125,
   "metadata": {},
   "outputs": [
    {
     "data": {
      "text/plain": [
       "array([[3654,  124],\n",
       "       [ 289, 1978]], dtype=int64)"
      ]
     },
     "execution_count": 125,
     "metadata": {},
     "output_type": "execute_result"
    }
   ],
   "source": [
    "confusion = metrics.confusion_matrix(y_train_pred_final.Converted, y_train_pred_final.Predicted )\n",
    "confusion"
   ]
  },
  {
   "cell_type": "code",
   "execution_count": 126,
   "metadata": {},
   "outputs": [
    {
     "data": {
      "text/plain": [
       "0.9316790736145575"
      ]
     },
     "execution_count": 126,
     "metadata": {},
     "output_type": "execute_result"
    }
   ],
   "source": [
    "# Check the overall accuracy\n",
    "metrics.accuracy_score(y_train_pred_final.Converted, y_train_pred_final.Predicted)"
   ]
  },
  {
   "cell_type": "code",
   "execution_count": 127,
   "metadata": {},
   "outputs": [],
   "source": [
    "# Substituting the value of true positive\n",
    "TP = confusion[1,1]\n",
    "# Substituting the value of true negatives\n",
    "TN = confusion[0,0]\n",
    "# Substituting the value of false positives\n",
    "FP = confusion[0,1] \n",
    "# Substituting the value of false negatives\n",
    "FN = confusion[1,0]"
   ]
  },
  {
   "cell_type": "code",
   "execution_count": 128,
   "metadata": {},
   "outputs": [
    {
     "data": {
      "text/plain": [
       "0.8725187472430525"
      ]
     },
     "execution_count": 128,
     "metadata": {},
     "output_type": "execute_result"
    }
   ],
   "source": [
    "# Calculating the sensitivity\n",
    "TP/(TP+FN)"
   ]
  },
  {
   "cell_type": "code",
   "execution_count": 129,
   "metadata": {},
   "outputs": [
    {
     "data": {
      "text/plain": [
       "0.9671784012705135"
      ]
     },
     "execution_count": 129,
     "metadata": {},
     "output_type": "execute_result"
    }
   ],
   "source": [
    "# Calculating the specificity\n",
    "TN/(TN+FP)"
   ]
  },
  {
   "cell_type": "markdown",
   "metadata": {},
   "source": [
    "# ROC Curve"
   ]
  },
  {
   "cell_type": "code",
   "execution_count": 130,
   "metadata": {},
   "outputs": [],
   "source": [
    "# ROC function\n",
    "def draw_roc( actual, probs ):\n",
    "    fpr, tpr, thresholds = metrics.roc_curve( actual, probs,\n",
    "                                              drop_intermediate = False )\n",
    "    auc_score = metrics.roc_auc_score( actual, probs )\n",
    "    plt.figure(figsize=(5, 5))\n",
    "    plt.plot( fpr, tpr, label='ROC curve (area = %0.2f)' % auc_score )\n",
    "    plt.plot([0, 1], [0, 1], 'k--')\n",
    "    plt.xlim([0.0, 1.0])\n",
    "    plt.ylim([0.0, 1.05])\n",
    "    plt.xlabel('False Positive Rate or [1 - True Negative Rate]')\n",
    "    plt.ylabel('True Positive Rate')\n",
    "    plt.title('Receiver operating characteristic example')\n",
    "    plt.legend(loc=\"lower right\")\n",
    "    plt.show()\n",
    "\n",
    "    return None"
   ]
  },
  {
   "cell_type": "code",
   "execution_count": 131,
   "metadata": {},
   "outputs": [],
   "source": [
    "fpr, tpr, thresholds = metrics.roc_curve( y_train_pred_final.Converted, y_train_pred_final.Conversion_Prob, drop_intermediate = False )"
   ]
  },
  {
   "cell_type": "code",
   "execution_count": 132,
   "metadata": {},
   "outputs": [
    {
     "data": {
      "image/png": "[encoded data removed]",
      "text/plain": [
       "<Figure size 360x360 with 1 Axes>"
      ]
     },
     "metadata": {},
     "output_type": "display_data"
    }
   ],
   "source": [
    "\n",
    "# Call the ROC function\n",
    "draw_roc(y_train_pred_final.Converted, y_train_pred_final.Conversion_Prob)"
   ]
  },
  {
   "cell_type": "code",
   "execution_count": 133,
   "metadata": {},
   "outputs": [],
   "source": [
    "# Are under graph is 0.97 which is good value"
   ]
  },
  {
   "cell_type": "code",
   "execution_count": 134,
   "metadata": {},
   "outputs": [
    {
     "data": {
      "text/html": [
       "<div>\n",
       "<style scoped>\n",
       "    .dataframe tbody tr th:only-of-type {\n",
       "        vertical-align: middle;\n",
       "    }\n",
       "\n",
       "    .dataframe tbody tr th {\n",
       "        vertical-align: top;\n",
       "    }\n",
       "\n",
       "    .dataframe thead th {\n",
       "        text-align: right;\n",
       "    }\n",
       "</style>\n",
       "<table border=\"1\" class=\"dataframe\">\n",
       "  <thead>\n",
       "    <tr style=\"text-align: right;\">\n",
       "      <th></th>\n",
       "      <th>Converted</th>\n",
       "      <th>Conversion_Prob</th>\n",
       "      <th>Predicted</th>\n",
       "      <th>0.0</th>\n",
       "      <th>0.1</th>\n",
       "      <th>0.2</th>\n",
       "      <th>0.3</th>\n",
       "      <th>0.4</th>\n",
       "      <th>0.5</th>\n",
       "      <th>0.6</th>\n",
       "      <th>0.7</th>\n",
       "      <th>0.8</th>\n",
       "      <th>0.9</th>\n",
       "    </tr>\n",
       "  </thead>\n",
       "  <tbody>\n",
       "    <tr>\n",
       "      <th>0</th>\n",
       "      <td>1</td>\n",
       "      <td>0.998485</td>\n",
       "      <td>1</td>\n",
       "      <td>1</td>\n",
       "      <td>1</td>\n",
       "      <td>1</td>\n",
       "      <td>1</td>\n",
       "      <td>1</td>\n",
       "      <td>1</td>\n",
       "      <td>1</td>\n",
       "      <td>1</td>\n",
       "      <td>1</td>\n",
       "      <td>1</td>\n",
       "    </tr>\n",
       "    <tr>\n",
       "      <th>1</th>\n",
       "      <td>1</td>\n",
       "      <td>0.997603</td>\n",
       "      <td>1</td>\n",
       "      <td>1</td>\n",
       "      <td>1</td>\n",
       "      <td>1</td>\n",
       "      <td>1</td>\n",
       "      <td>1</td>\n",
       "      <td>1</td>\n",
       "      <td>1</td>\n",
       "      <td>1</td>\n",
       "      <td>1</td>\n",
       "      <td>1</td>\n",
       "    </tr>\n",
       "    <tr>\n",
       "      <th>2</th>\n",
       "      <td>0</td>\n",
       "      <td>0.020213</td>\n",
       "      <td>0</td>\n",
       "      <td>1</td>\n",
       "      <td>0</td>\n",
       "      <td>0</td>\n",
       "      <td>0</td>\n",
       "      <td>0</td>\n",
       "      <td>0</td>\n",
       "      <td>0</td>\n",
       "      <td>0</td>\n",
       "      <td>0</td>\n",
       "      <td>0</td>\n",
       "    </tr>\n",
       "    <tr>\n",
       "      <th>3</th>\n",
       "      <td>0</td>\n",
       "      <td>0.006966</td>\n",
       "      <td>0</td>\n",
       "      <td>1</td>\n",
       "      <td>0</td>\n",
       "      <td>0</td>\n",
       "      <td>0</td>\n",
       "      <td>0</td>\n",
       "      <td>0</td>\n",
       "      <td>0</td>\n",
       "      <td>0</td>\n",
       "      <td>0</td>\n",
       "      <td>0</td>\n",
       "    </tr>\n",
       "    <tr>\n",
       "      <th>4</th>\n",
       "      <td>1</td>\n",
       "      <td>0.999850</td>\n",
       "      <td>1</td>\n",
       "      <td>1</td>\n",
       "      <td>1</td>\n",
       "      <td>1</td>\n",
       "      <td>1</td>\n",
       "      <td>1</td>\n",
       "      <td>1</td>\n",
       "      <td>1</td>\n",
       "      <td>1</td>\n",
       "      <td>1</td>\n",
       "      <td>1</td>\n",
       "    </tr>\n",
       "  </tbody>\n",
       "</table>\n",
       "</div>"
      ],
      "text/plain": [
       "   Converted  Conversion_Prob  Predicted  0.0  0.1  0.2  0.3  0.4  0.5  0.6  \\\n",
       "0          1         0.998485          1    1    1    1    1    1    1    1   \n",
       "1          1         0.997603          1    1    1    1    1    1    1    1   \n",
       "2          0         0.020213          0    1    0    0    0    0    0    0   \n",
       "3          0         0.006966          0    1    0    0    0    0    0    0   \n",
       "4          1         0.999850          1    1    1    1    1    1    1    1   \n",
       "\n",
       "   0.7  0.8  0.9  \n",
       "0    1    1    1  \n",
       "1    1    1    1  \n",
       "2    0    0    0  \n",
       "3    0    0    0  \n",
       "4    1    1    1  "
      ]
     },
     "execution_count": 134,
     "metadata": {},
     "output_type": "execute_result"
    }
   ],
   "source": [
    "# Creating columns with different probability cutoffs \n",
    "numbers = [float(x)/10 for x in range(10)]\n",
    "for i in numbers:\n",
    "    y_train_pred_final[i]= y_train_pred_final.Conversion_Prob.map(lambda x: 1 if x > i else 0)\n",
    "y_train_pred_final.head()"
   ]
  },
  {
   "cell_type": "code",
   "execution_count": 135,
   "metadata": {},
   "outputs": [
    {
     "data": {
      "text/html": [
       "<div>\n",
       "<style scoped>\n",
       "    .dataframe tbody tr th:only-of-type {\n",
       "        vertical-align: middle;\n",
       "    }\n",
       "\n",
       "    .dataframe tbody tr th {\n",
       "        vertical-align: top;\n",
       "    }\n",
       "\n",
       "    .dataframe thead th {\n",
       "        text-align: right;\n",
       "    }\n",
       "</style>\n",
       "<table border=\"1\" class=\"dataframe\">\n",
       "  <thead>\n",
       "    <tr style=\"text-align: right;\">\n",
       "      <th></th>\n",
       "      <th>prob</th>\n",
       "      <th>accuracy</th>\n",
       "      <th>sensi</th>\n",
       "      <th>speci</th>\n",
       "    </tr>\n",
       "  </thead>\n",
       "  <tbody>\n",
       "    <tr>\n",
       "      <th>0.0</th>\n",
       "      <td>0.0</td>\n",
       "      <td>0.375021</td>\n",
       "      <td>1.000000</td>\n",
       "      <td>0.000000</td>\n",
       "    </tr>\n",
       "    <tr>\n",
       "      <th>0.1</th>\n",
       "      <td>0.1</td>\n",
       "      <td>0.892969</td>\n",
       "      <td>0.968681</td>\n",
       "      <td>0.847538</td>\n",
       "    </tr>\n",
       "    <tr>\n",
       "      <th>0.2</th>\n",
       "      <td>0.2</td>\n",
       "      <td>0.910174</td>\n",
       "      <td>0.954124</td>\n",
       "      <td>0.883801</td>\n",
       "    </tr>\n",
       "    <tr>\n",
       "      <th>0.3</th>\n",
       "      <td>0.3</td>\n",
       "      <td>0.922084</td>\n",
       "      <td>0.910013</td>\n",
       "      <td>0.929328</td>\n",
       "    </tr>\n",
       "    <tr>\n",
       "      <th>0.4</th>\n",
       "      <td>0.4</td>\n",
       "      <td>0.929859</td>\n",
       "      <td>0.899427</td>\n",
       "      <td>0.948121</td>\n",
       "    </tr>\n",
       "    <tr>\n",
       "      <th>0.5</th>\n",
       "      <td>0.5</td>\n",
       "      <td>0.931679</td>\n",
       "      <td>0.872519</td>\n",
       "      <td>0.967178</td>\n",
       "    </tr>\n",
       "    <tr>\n",
       "      <th>0.6</th>\n",
       "      <td>0.6</td>\n",
       "      <td>0.931844</td>\n",
       "      <td>0.860609</td>\n",
       "      <td>0.974590</td>\n",
       "    </tr>\n",
       "    <tr>\n",
       "      <th>0.7</th>\n",
       "      <td>0.7</td>\n",
       "      <td>0.929363</td>\n",
       "      <td>0.849581</td>\n",
       "      <td>0.977237</td>\n",
       "    </tr>\n",
       "    <tr>\n",
       "      <th>0.8</th>\n",
       "      <td>0.8</td>\n",
       "      <td>0.924731</td>\n",
       "      <td>0.830172</td>\n",
       "      <td>0.981472</td>\n",
       "    </tr>\n",
       "    <tr>\n",
       "      <th>0.9</th>\n",
       "      <td>0.9</td>\n",
       "      <td>0.882051</td>\n",
       "      <td>0.700926</td>\n",
       "      <td>0.990736</td>\n",
       "    </tr>\n",
       "  </tbody>\n",
       "</table>\n",
       "</div>"
      ],
      "text/plain": [
       "     prob  accuracy     sensi     speci\n",
       "0.0   0.0  0.375021  1.000000  0.000000\n",
       "0.1   0.1  0.892969  0.968681  0.847538\n",
       "0.2   0.2  0.910174  0.954124  0.883801\n",
       "0.3   0.3  0.922084  0.910013  0.929328\n",
       "0.4   0.4  0.929859  0.899427  0.948121\n",
       "0.5   0.5  0.931679  0.872519  0.967178\n",
       "0.6   0.6  0.931844  0.860609  0.974590\n",
       "0.7   0.7  0.929363  0.849581  0.977237\n",
       "0.8   0.8  0.924731  0.830172  0.981472\n",
       "0.9   0.9  0.882051  0.700926  0.990736"
      ]
     },
     "execution_count": 135,
     "metadata": {},
     "output_type": "execute_result"
    }
   ],
   "source": [
    "\n",
    "# Creating a dataframe to see the values of accuracy, sensitivity, and specificity at different values of probabiity cutoffs\n",
    "cutoff_df = pd.DataFrame( columns = ['prob','accuracy','sensi','speci'])\n",
    "# Making confusing matrix to find values of sensitivity, accurace and specificity for each level of probablity\n",
    "from sklearn.metrics import confusion_matrix\n",
    "num = [0.0,0.1,0.2,0.3,0.4,0.5,0.6,0.7,0.8,0.9]\n",
    "for i in num:\n",
    "    cm1 = metrics.confusion_matrix(y_train_pred_final.Converted, y_train_pred_final[i] )\n",
    "    total1=sum(sum(cm1))\n",
    "    accuracy = (cm1[0,0]+cm1[1,1])/total1\n",
    "    \n",
    "    speci = cm1[0,0]/(cm1[0,0]+cm1[0,1])\n",
    "    sensi = cm1[1,1]/(cm1[1,0]+cm1[1,1])\n",
    "    cutoff_df.loc[i] =[ i ,accuracy,sensi,speci]\n",
    "cutoff_df"
   ]
  },
  {
   "cell_type": "code",
   "execution_count": 136,
   "metadata": {},
   "outputs": [
    {
     "data": {
      "image/png": "[encoded data removed]",
      "text/plain": [
       "<Figure size 432x288 with 1 Axes>"
      ]
     },
     "metadata": {},
     "output_type": "display_data"
    }
   ],
   "source": [
    "# Plotting it\n",
    "cutoff_df.plot.line(x='prob', y=['accuracy','sensi','speci'])\n",
    "plt.show()"
   ]
  },
  {
   "cell_type": "code",
   "execution_count": 137,
   "metadata": {},
   "outputs": [],
   "source": [
    "# optimal cut off shows around 0.30"
   ]
  },
  {
   "cell_type": "code",
   "execution_count": 138,
   "metadata": {},
   "outputs": [
    {
     "data": {
      "text/html": [
       "<div>\n",
       "<style scoped>\n",
       "    .dataframe tbody tr th:only-of-type {\n",
       "        vertical-align: middle;\n",
       "    }\n",
       "\n",
       "    .dataframe tbody tr th {\n",
       "        vertical-align: top;\n",
       "    }\n",
       "\n",
       "    .dataframe thead th {\n",
       "        text-align: right;\n",
       "    }\n",
       "</style>\n",
       "<table border=\"1\" class=\"dataframe\">\n",
       "  <thead>\n",
       "    <tr style=\"text-align: right;\">\n",
       "      <th></th>\n",
       "      <th>Converted</th>\n",
       "      <th>Conversion_Prob</th>\n",
       "      <th>Predicted</th>\n",
       "      <th>0.0</th>\n",
       "      <th>0.1</th>\n",
       "      <th>0.2</th>\n",
       "      <th>0.3</th>\n",
       "      <th>0.4</th>\n",
       "      <th>0.5</th>\n",
       "      <th>0.6</th>\n",
       "      <th>0.7</th>\n",
       "      <th>0.8</th>\n",
       "      <th>0.9</th>\n",
       "      <th>final_predicted</th>\n",
       "    </tr>\n",
       "  </thead>\n",
       "  <tbody>\n",
       "    <tr>\n",
       "      <th>0</th>\n",
       "      <td>1</td>\n",
       "      <td>0.998485</td>\n",
       "      <td>1</td>\n",
       "      <td>1</td>\n",
       "      <td>1</td>\n",
       "      <td>1</td>\n",
       "      <td>1</td>\n",
       "      <td>1</td>\n",
       "      <td>1</td>\n",
       "      <td>1</td>\n",
       "      <td>1</td>\n",
       "      <td>1</td>\n",
       "      <td>1</td>\n",
       "      <td>1</td>\n",
       "    </tr>\n",
       "    <tr>\n",
       "      <th>1</th>\n",
       "      <td>1</td>\n",
       "      <td>0.997603</td>\n",
       "      <td>1</td>\n",
       "      <td>1</td>\n",
       "      <td>1</td>\n",
       "      <td>1</td>\n",
       "      <td>1</td>\n",
       "      <td>1</td>\n",
       "      <td>1</td>\n",
       "      <td>1</td>\n",
       "      <td>1</td>\n",
       "      <td>1</td>\n",
       "      <td>1</td>\n",
       "      <td>1</td>\n",
       "    </tr>\n",
       "    <tr>\n",
       "      <th>2</th>\n",
       "      <td>0</td>\n",
       "      <td>0.020213</td>\n",
       "      <td>0</td>\n",
       "      <td>1</td>\n",
       "      <td>0</td>\n",
       "      <td>0</td>\n",
       "      <td>0</td>\n",
       "      <td>0</td>\n",
       "      <td>0</td>\n",
       "      <td>0</td>\n",
       "      <td>0</td>\n",
       "      <td>0</td>\n",
       "      <td>0</td>\n",
       "      <td>0</td>\n",
       "    </tr>\n",
       "    <tr>\n",
       "      <th>3</th>\n",
       "      <td>0</td>\n",
       "      <td>0.006966</td>\n",
       "      <td>0</td>\n",
       "      <td>1</td>\n",
       "      <td>0</td>\n",
       "      <td>0</td>\n",
       "      <td>0</td>\n",
       "      <td>0</td>\n",
       "      <td>0</td>\n",
       "      <td>0</td>\n",
       "      <td>0</td>\n",
       "      <td>0</td>\n",
       "      <td>0</td>\n",
       "      <td>0</td>\n",
       "    </tr>\n",
       "    <tr>\n",
       "      <th>4</th>\n",
       "      <td>1</td>\n",
       "      <td>0.999850</td>\n",
       "      <td>1</td>\n",
       "      <td>1</td>\n",
       "      <td>1</td>\n",
       "      <td>1</td>\n",
       "      <td>1</td>\n",
       "      <td>1</td>\n",
       "      <td>1</td>\n",
       "      <td>1</td>\n",
       "      <td>1</td>\n",
       "      <td>1</td>\n",
       "      <td>1</td>\n",
       "      <td>1</td>\n",
       "    </tr>\n",
       "  </tbody>\n",
       "</table>\n",
       "</div>"
      ],
      "text/plain": [
       "   Converted  Conversion_Prob  Predicted  0.0  0.1  0.2  0.3  0.4  0.5  0.6  \\\n",
       "0          1         0.998485          1    1    1    1    1    1    1    1   \n",
       "1          1         0.997603          1    1    1    1    1    1    1    1   \n",
       "2          0         0.020213          0    1    0    0    0    0    0    0   \n",
       "3          0         0.006966          0    1    0    0    0    0    0    0   \n",
       "4          1         0.999850          1    1    1    1    1    1    1    1   \n",
       "\n",
       "   0.7  0.8  0.9  final_predicted  \n",
       "0    1    1    1                1  \n",
       "1    1    1    1                1  \n",
       "2    0    0    0                0  \n",
       "3    0    0    0                0  \n",
       "4    1    1    1                1  "
      ]
     },
     "execution_count": 138,
     "metadata": {},
     "output_type": "execute_result"
    }
   ],
   "source": [
    "y_train_pred_final['final_predicted'] = y_train_pred_final.Conversion_Prob.map( lambda x: 1 if x > 0.30 else 0)\n",
    "y_train_pred_final.head()"
   ]
  },
  {
   "cell_type": "code",
   "execution_count": 139,
   "metadata": {},
   "outputs": [
    {
     "data": {
      "text/plain": [
       "0.9220843672456576"
      ]
     },
     "execution_count": 139,
     "metadata": {},
     "output_type": "execute_result"
    }
   ],
   "source": [
    "# Check the overall accuracy\n",
    "metrics.accuracy_score(y_train_pred_final.Converted, y_train_pred_final.final_predicted)"
   ]
  },
  {
   "cell_type": "code",
   "execution_count": 140,
   "metadata": {},
   "outputs": [
    {
     "data": {
      "text/plain": [
       "array([[3511,  267],\n",
       "       [ 204, 2063]], dtype=int64)"
      ]
     },
     "execution_count": 140,
     "metadata": {},
     "output_type": "execute_result"
    }
   ],
   "source": [
    "# Creating confusion matrix \n",
    "confusion2 = metrics.confusion_matrix(y_train_pred_final.Converted, y_train_pred_final.final_predicted )\n",
    "confusion2"
   ]
  },
  {
   "cell_type": "code",
   "execution_count": 141,
   "metadata": {},
   "outputs": [],
   "source": [
    "#Substituting the value of true positive\n",
    "TP = confusion2[1,1]\n",
    "# Substituting the value of true negatives\n",
    "TN = confusion2[0,0]\n",
    "# Substituting the value of false positives\n",
    "FP = confusion2[0,1] \n",
    "# Substituting the value of false negatives\n",
    "FN = confusion2[1,0]"
   ]
  },
  {
   "cell_type": "code",
   "execution_count": 142,
   "metadata": {},
   "outputs": [
    {
     "data": {
      "text/plain": [
       "0.9100132333480371"
      ]
     },
     "execution_count": 142,
     "metadata": {},
     "output_type": "execute_result"
    }
   ],
   "source": [
    "# Calculating the sensitivity\n",
    "TP/(TP+FN)"
   ]
  },
  {
   "cell_type": "code",
   "execution_count": 143,
   "metadata": {},
   "outputs": [
    {
     "data": {
      "text/plain": [
       "0.9293276866066702"
      ]
     },
     "execution_count": 143,
     "metadata": {},
     "output_type": "execute_result"
    }
   ],
   "source": [
    "# Calculating the specificity\n",
    "TN/(TN+FP)"
   ]
  },
  {
   "cell_type": "markdown",
   "metadata": {},
   "source": [
    "## Observation\n",
    "\n",
    "- ROC IS 0.97 , very good model\n",
    "- Sensitivity is 91% \n",
    "- Specificity is 92.9%\n",
    "- Accuracy is 92%\n",
    "- This shows that model is good"
   ]
  },
  {
   "cell_type": "code",
   "execution_count": 144,
   "metadata": {},
   "outputs": [],
   "source": [
    "from sklearn.metrics import precision_score, recall_score"
   ]
  },
  {
   "cell_type": "code",
   "execution_count": 145,
   "metadata": {},
   "outputs": [
    {
     "data": {
      "text/plain": [
       "0.8854077253218884"
      ]
     },
     "execution_count": 145,
     "metadata": {},
     "output_type": "execute_result"
    }
   ],
   "source": [
    "precision_score(y_train_pred_final.Converted , y_train_pred_final.final_predicted)"
   ]
  },
  {
   "cell_type": "code",
   "execution_count": 146,
   "metadata": {},
   "outputs": [
    {
     "data": {
      "text/plain": [
       "0.9100132333480371"
      ]
     },
     "execution_count": 146,
     "metadata": {},
     "output_type": "execute_result"
    }
   ],
   "source": [
    "recall_score(y_train_pred_final.Converted, y_train_pred_final.final_predicted)"
   ]
  },
  {
   "cell_type": "code",
   "execution_count": 147,
   "metadata": {},
   "outputs": [],
   "source": [
    "from sklearn.metrics import precision_recall_curve"
   ]
  },
  {
   "cell_type": "code",
   "execution_count": 148,
   "metadata": {},
   "outputs": [],
   "source": [
    "y_train_pred_final.Converted, y_train_pred_final.final_predicted\n",
    "p, r, thresholds = precision_recall_curve(y_train_pred_final.Converted, y_train_pred_final.Conversion_Prob)"
   ]
  },
  {
   "cell_type": "code",
   "execution_count": 149,
   "metadata": {},
   "outputs": [
    {
     "data": {
      "image/png": "[encoded data removed]",
      "text/plain": [
       "<Figure size 432x288 with 1 Axes>"
      ]
     },
     "metadata": {},
     "output_type": "display_data"
    }
   ],
   "source": [
    "plt.plot(thresholds, p[:-1], \"g-\")\n",
    "plt.plot(thresholds, r[:-1], \"r-\")\n",
    "plt.show()"
   ]
  },
  {
   "cell_type": "code",
   "execution_count": null,
   "metadata": {},
   "outputs": [],
   "source": []
  },
  {
   "cell_type": "code",
   "execution_count": null,
   "metadata": {},
   "outputs": [],
   "source": []
  },
  {
   "cell_type": "markdown",
   "metadata": {},
   "source": [
    "# Prediction on Test data "
   ]
  },
  {
   "cell_type": "code",
   "execution_count": 150,
   "metadata": {},
   "outputs": [
    {
     "name": "stderr",
     "output_type": "stream",
     "text": [
      "C:\\Users\\sairajes\\AppData\\Local\\Continuum\\anaconda3\\lib\\site-packages\\ipykernel_launcher.py:1: SettingWithCopyWarning: \n",
      "A value is trying to be set on a copy of a slice from a DataFrame.\n",
      "Try using .loc[row_indexer,col_indexer] = value instead\n",
      "\n",
      "See the caveats in the documentation: http://pandas.pydata.org/pandas-docs/stable/indexing.html#indexing-view-versus-copy\n",
      "  \"\"\"Entry point for launching an IPython kernel.\n",
      "C:\\Users\\sairajes\\AppData\\Local\\Continuum\\anaconda3\\lib\\site-packages\\pandas\\core\\indexing.py:543: SettingWithCopyWarning: \n",
      "A value is trying to be set on a copy of a slice from a DataFrame.\n",
      "Try using .loc[row_indexer,col_indexer] = value instead\n",
      "\n",
      "See the caveats in the documentation: http://pandas.pydata.org/pandas-docs/stable/indexing.html#indexing-view-versus-copy\n",
      "  self.obj[item] = s\n"
     ]
    }
   ],
   "source": [
    "X_test[['TotalVisits', 'Page Views Per Visit', 'Total Time Spent on Website']] = scaler.transform(X_test[['TotalVisits', 'Page Views Per Visit', 'Total Time Spent on Website']])"
   ]
  },
  {
   "cell_type": "code",
   "execution_count": 151,
   "metadata": {},
   "outputs": [],
   "source": [
    "# Substituting all the columns in the final train model\n",
    "col = X_train.columns"
   ]
  },
  {
   "cell_type": "code",
   "execution_count": 152,
   "metadata": {},
   "outputs": [
    {
     "data": {
      "text/html": [
       "<div>\n",
       "<style scoped>\n",
       "    .dataframe tbody tr th:only-of-type {\n",
       "        vertical-align: middle;\n",
       "    }\n",
       "\n",
       "    .dataframe tbody tr th {\n",
       "        vertical-align: top;\n",
       "    }\n",
       "\n",
       "    .dataframe thead th {\n",
       "        text-align: right;\n",
       "    }\n",
       "</style>\n",
       "<table border=\"1\" class=\"dataframe\">\n",
       "  <thead>\n",
       "    <tr style=\"text-align: right;\">\n",
       "      <th></th>\n",
       "      <th>const</th>\n",
       "      <th>Total Time Spent on Website</th>\n",
       "      <th>Lead Source_welingak website</th>\n",
       "      <th>City_select</th>\n",
       "      <th>Tags_Other_Tags</th>\n",
       "      <th>Tags_already a student</th>\n",
       "      <th>Tags_closed by horizzon</th>\n",
       "      <th>Tags_diploma holder (not eligible)</th>\n",
       "      <th>Tags_graduation in progress</th>\n",
       "      <th>Tags_interested  in full time mba</th>\n",
       "      <th>Tags_interested in other courses</th>\n",
       "      <th>Tags_lost to eins</th>\n",
       "      <th>Tags_ringing</th>\n",
       "      <th>Tags_will revert after reading the email</th>\n",
       "      <th>Last Notable Activity_sms sent</th>\n",
       "    </tr>\n",
       "  </thead>\n",
       "  <tbody>\n",
       "    <tr>\n",
       "      <th>1461</th>\n",
       "      <td>1.0</td>\n",
       "      <td>0.031250</td>\n",
       "      <td>0</td>\n",
       "      <td>1</td>\n",
       "      <td>0</td>\n",
       "      <td>0</td>\n",
       "      <td>0</td>\n",
       "      <td>0</td>\n",
       "      <td>0</td>\n",
       "      <td>0</td>\n",
       "      <td>0</td>\n",
       "      <td>0</td>\n",
       "      <td>1</td>\n",
       "      <td>0</td>\n",
       "      <td>0</td>\n",
       "    </tr>\n",
       "    <tr>\n",
       "      <th>6318</th>\n",
       "      <td>1.0</td>\n",
       "      <td>0.182658</td>\n",
       "      <td>0</td>\n",
       "      <td>0</td>\n",
       "      <td>0</td>\n",
       "      <td>0</td>\n",
       "      <td>0</td>\n",
       "      <td>0</td>\n",
       "      <td>0</td>\n",
       "      <td>0</td>\n",
       "      <td>0</td>\n",
       "      <td>0</td>\n",
       "      <td>0</td>\n",
       "      <td>0</td>\n",
       "      <td>1</td>\n",
       "    </tr>\n",
       "    <tr>\n",
       "      <th>1863</th>\n",
       "      <td>1.0</td>\n",
       "      <td>0.324824</td>\n",
       "      <td>0</td>\n",
       "      <td>1</td>\n",
       "      <td>0</td>\n",
       "      <td>0</td>\n",
       "      <td>0</td>\n",
       "      <td>0</td>\n",
       "      <td>0</td>\n",
       "      <td>0</td>\n",
       "      <td>1</td>\n",
       "      <td>0</td>\n",
       "      <td>0</td>\n",
       "      <td>0</td>\n",
       "      <td>0</td>\n",
       "    </tr>\n",
       "    <tr>\n",
       "      <th>685</th>\n",
       "      <td>1.0</td>\n",
       "      <td>0.125000</td>\n",
       "      <td>0</td>\n",
       "      <td>0</td>\n",
       "      <td>0</td>\n",
       "      <td>0</td>\n",
       "      <td>0</td>\n",
       "      <td>0</td>\n",
       "      <td>0</td>\n",
       "      <td>0</td>\n",
       "      <td>0</td>\n",
       "      <td>0</td>\n",
       "      <td>0</td>\n",
       "      <td>0</td>\n",
       "      <td>0</td>\n",
       "    </tr>\n",
       "    <tr>\n",
       "      <th>4640</th>\n",
       "      <td>1.0</td>\n",
       "      <td>0.068662</td>\n",
       "      <td>0</td>\n",
       "      <td>0</td>\n",
       "      <td>0</td>\n",
       "      <td>0</td>\n",
       "      <td>0</td>\n",
       "      <td>0</td>\n",
       "      <td>0</td>\n",
       "      <td>0</td>\n",
       "      <td>0</td>\n",
       "      <td>0</td>\n",
       "      <td>1</td>\n",
       "      <td>0</td>\n",
       "      <td>1</td>\n",
       "    </tr>\n",
       "  </tbody>\n",
       "</table>\n",
       "</div>"
      ],
      "text/plain": [
       "      const  Total Time Spent on Website  Lead Source_welingak website  \\\n",
       "1461    1.0                     0.031250                             0   \n",
       "6318    1.0                     0.182658                             0   \n",
       "1863    1.0                     0.324824                             0   \n",
       "685     1.0                     0.125000                             0   \n",
       "4640    1.0                     0.068662                             0   \n",
       "\n",
       "      City_select  Tags_Other_Tags  Tags_already a student  \\\n",
       "1461            1                0                       0   \n",
       "6318            0                0                       0   \n",
       "1863            1                0                       0   \n",
       "685             0                0                       0   \n",
       "4640            0                0                       0   \n",
       "\n",
       "      Tags_closed by horizzon  Tags_diploma holder (not eligible)  \\\n",
       "1461                        0                                   0   \n",
       "6318                        0                                   0   \n",
       "1863                        0                                   0   \n",
       "685                         0                                   0   \n",
       "4640                        0                                   0   \n",
       "\n",
       "      Tags_graduation in progress  Tags_interested  in full time mba  \\\n",
       "1461                            0                                  0   \n",
       "6318                            0                                  0   \n",
       "1863                            0                                  0   \n",
       "685                             0                                  0   \n",
       "4640                            0                                  0   \n",
       "\n",
       "      Tags_interested in other courses  Tags_lost to eins  Tags_ringing  \\\n",
       "1461                                 0                  0             1   \n",
       "6318                                 0                  0             0   \n",
       "1863                                 1                  0             0   \n",
       "685                                  0                  0             0   \n",
       "4640                                 0                  0             1   \n",
       "\n",
       "      Tags_will revert after reading the email  Last Notable Activity_sms sent  \n",
       "1461                                         0                               0  \n",
       "6318                                         0                               1  \n",
       "1863                                         0                               0  \n",
       "685                                          0                               0  \n",
       "4640                                         0                               1  "
      ]
     },
     "execution_count": 152,
     "metadata": {},
     "output_type": "execute_result"
    }
   ],
   "source": [
    "# Select the columns in X_train for X_test as well\n",
    "X_test = X_test[col]\n",
    "# Add a constant to X_test\n",
    "X_test_sm = sm.add_constant(X_test[col])\n",
    "X_test_sm\n",
    "X_test_sm.head()"
   ]
  },
  {
   "cell_type": "code",
   "execution_count": 153,
   "metadata": {},
   "outputs": [
    {
     "data": {
      "text/html": [
       "<div>\n",
       "<style scoped>\n",
       "    .dataframe tbody tr th:only-of-type {\n",
       "        vertical-align: middle;\n",
       "    }\n",
       "\n",
       "    .dataframe tbody tr th {\n",
       "        vertical-align: top;\n",
       "    }\n",
       "\n",
       "    .dataframe thead th {\n",
       "        text-align: right;\n",
       "    }\n",
       "</style>\n",
       "<table border=\"1\" class=\"dataframe\">\n",
       "  <thead>\n",
       "    <tr style=\"text-align: right;\">\n",
       "      <th></th>\n",
       "      <th>Converted</th>\n",
       "      <th>Conversion_Prob</th>\n",
       "    </tr>\n",
       "  </thead>\n",
       "  <tbody>\n",
       "    <tr>\n",
       "      <th>0</th>\n",
       "      <td>0</td>\n",
       "      <td>0.005994</td>\n",
       "    </tr>\n",
       "    <tr>\n",
       "      <th>1</th>\n",
       "      <td>0</td>\n",
       "      <td>0.582750</td>\n",
       "    </tr>\n",
       "    <tr>\n",
       "      <th>2</th>\n",
       "      <td>0</td>\n",
       "      <td>0.034437</td>\n",
       "    </tr>\n",
       "    <tr>\n",
       "      <th>3</th>\n",
       "      <td>0</td>\n",
       "      <td>0.070509</td>\n",
       "    </tr>\n",
       "    <tr>\n",
       "      <th>4</th>\n",
       "      <td>0</td>\n",
       "      <td>0.014645</td>\n",
       "    </tr>\n",
       "  </tbody>\n",
       "</table>\n",
       "</div>"
      ],
      "text/plain": [
       "   Converted  Conversion_Prob\n",
       "0          0         0.005994\n",
       "1          0         0.582750\n",
       "2          0         0.034437\n",
       "3          0         0.070509\n",
       "4          0         0.014645"
      ]
     },
     "execution_count": 153,
     "metadata": {},
     "output_type": "execute_result"
    }
   ],
   "source": [
    "# Storing prediction of test set in the variable 'y_test_pred'\n",
    "y_test_pred = res.predict(X_test_sm)\n",
    "# Coverting it to df\n",
    "y_pred_df = pd.DataFrame(y_test_pred)\n",
    "# Converting y_test to dataframe\n",
    "y_test_df = pd.DataFrame(y_test)\n",
    "# Remove index for both dataframes to append them side by side \n",
    "y_pred_df.reset_index(drop=True, inplace=True)\n",
    "y_test_df.reset_index(drop=True, inplace=True)\n",
    "# Append y_test_df and y_pred_df\n",
    "y_pred_final = pd.concat([y_test_df, y_pred_df],axis=1)\n",
    "# Renaming column \n",
    "y_pred_final= y_pred_final.rename(columns = {0 : 'Conversion_Prob'})\n",
    "y_pred_final.head()"
   ]
  },
  {
   "cell_type": "code",
   "execution_count": 154,
   "metadata": {},
   "outputs": [
    {
     "data": {
      "text/html": [
       "<div>\n",
       "<style scoped>\n",
       "    .dataframe tbody tr th:only-of-type {\n",
       "        vertical-align: middle;\n",
       "    }\n",
       "\n",
       "    .dataframe tbody tr th {\n",
       "        vertical-align: top;\n",
       "    }\n",
       "\n",
       "    .dataframe thead th {\n",
       "        text-align: right;\n",
       "    }\n",
       "</style>\n",
       "<table border=\"1\" class=\"dataframe\">\n",
       "  <thead>\n",
       "    <tr style=\"text-align: right;\">\n",
       "      <th></th>\n",
       "      <th>Converted</th>\n",
       "      <th>Conversion_Prob</th>\n",
       "      <th>final_predicted</th>\n",
       "    </tr>\n",
       "  </thead>\n",
       "  <tbody>\n",
       "    <tr>\n",
       "      <th>0</th>\n",
       "      <td>0</td>\n",
       "      <td>0.005994</td>\n",
       "      <td>0</td>\n",
       "    </tr>\n",
       "    <tr>\n",
       "      <th>1</th>\n",
       "      <td>0</td>\n",
       "      <td>0.582750</td>\n",
       "      <td>1</td>\n",
       "    </tr>\n",
       "    <tr>\n",
       "      <th>2</th>\n",
       "      <td>0</td>\n",
       "      <td>0.034437</td>\n",
       "      <td>0</td>\n",
       "    </tr>\n",
       "    <tr>\n",
       "      <th>3</th>\n",
       "      <td>0</td>\n",
       "      <td>0.070509</td>\n",
       "      <td>0</td>\n",
       "    </tr>\n",
       "    <tr>\n",
       "      <th>4</th>\n",
       "      <td>0</td>\n",
       "      <td>0.014645</td>\n",
       "      <td>0</td>\n",
       "    </tr>\n",
       "    <tr>\n",
       "      <th>5</th>\n",
       "      <td>0</td>\n",
       "      <td>0.046615</td>\n",
       "      <td>0</td>\n",
       "    </tr>\n",
       "    <tr>\n",
       "      <th>6</th>\n",
       "      <td>1</td>\n",
       "      <td>0.993153</td>\n",
       "      <td>1</td>\n",
       "    </tr>\n",
       "    <tr>\n",
       "      <th>7</th>\n",
       "      <td>0</td>\n",
       "      <td>0.068707</td>\n",
       "      <td>0</td>\n",
       "    </tr>\n",
       "    <tr>\n",
       "      <th>8</th>\n",
       "      <td>1</td>\n",
       "      <td>0.902143</td>\n",
       "      <td>1</td>\n",
       "    </tr>\n",
       "    <tr>\n",
       "      <th>9</th>\n",
       "      <td>0</td>\n",
       "      <td>0.002397</td>\n",
       "      <td>0</td>\n",
       "    </tr>\n",
       "    <tr>\n",
       "      <th>10</th>\n",
       "      <td>1</td>\n",
       "      <td>0.999317</td>\n",
       "      <td>1</td>\n",
       "    </tr>\n",
       "    <tr>\n",
       "      <th>11</th>\n",
       "      <td>0</td>\n",
       "      <td>0.010293</td>\n",
       "      <td>0</td>\n",
       "    </tr>\n",
       "    <tr>\n",
       "      <th>12</th>\n",
       "      <td>1</td>\n",
       "      <td>0.999346</td>\n",
       "      <td>1</td>\n",
       "    </tr>\n",
       "    <tr>\n",
       "      <th>13</th>\n",
       "      <td>0</td>\n",
       "      <td>0.046615</td>\n",
       "      <td>0</td>\n",
       "    </tr>\n",
       "    <tr>\n",
       "      <th>14</th>\n",
       "      <td>1</td>\n",
       "      <td>0.999682</td>\n",
       "      <td>1</td>\n",
       "    </tr>\n",
       "    <tr>\n",
       "      <th>15</th>\n",
       "      <td>0</td>\n",
       "      <td>0.058674</td>\n",
       "      <td>0</td>\n",
       "    </tr>\n",
       "    <tr>\n",
       "      <th>16</th>\n",
       "      <td>0</td>\n",
       "      <td>0.006342</td>\n",
       "      <td>0</td>\n",
       "    </tr>\n",
       "    <tr>\n",
       "      <th>17</th>\n",
       "      <td>1</td>\n",
       "      <td>0.998408</td>\n",
       "      <td>1</td>\n",
       "    </tr>\n",
       "    <tr>\n",
       "      <th>18</th>\n",
       "      <td>1</td>\n",
       "      <td>0.973124</td>\n",
       "      <td>1</td>\n",
       "    </tr>\n",
       "    <tr>\n",
       "      <th>19</th>\n",
       "      <td>1</td>\n",
       "      <td>0.976594</td>\n",
       "      <td>1</td>\n",
       "    </tr>\n",
       "    <tr>\n",
       "      <th>20</th>\n",
       "      <td>0</td>\n",
       "      <td>0.049515</td>\n",
       "      <td>0</td>\n",
       "    </tr>\n",
       "    <tr>\n",
       "      <th>21</th>\n",
       "      <td>0</td>\n",
       "      <td>0.001151</td>\n",
       "      <td>0</td>\n",
       "    </tr>\n",
       "    <tr>\n",
       "      <th>22</th>\n",
       "      <td>0</td>\n",
       "      <td>0.006238</td>\n",
       "      <td>0</td>\n",
       "    </tr>\n",
       "    <tr>\n",
       "      <th>23</th>\n",
       "      <td>1</td>\n",
       "      <td>0.999905</td>\n",
       "      <td>1</td>\n",
       "    </tr>\n",
       "    <tr>\n",
       "      <th>24</th>\n",
       "      <td>0</td>\n",
       "      <td>0.012924</td>\n",
       "      <td>0</td>\n",
       "    </tr>\n",
       "    <tr>\n",
       "      <th>25</th>\n",
       "      <td>1</td>\n",
       "      <td>0.972448</td>\n",
       "      <td>1</td>\n",
       "    </tr>\n",
       "    <tr>\n",
       "      <th>26</th>\n",
       "      <td>0</td>\n",
       "      <td>0.005374</td>\n",
       "      <td>0</td>\n",
       "    </tr>\n",
       "    <tr>\n",
       "      <th>27</th>\n",
       "      <td>0</td>\n",
       "      <td>0.181358</td>\n",
       "      <td>0</td>\n",
       "    </tr>\n",
       "    <tr>\n",
       "      <th>28</th>\n",
       "      <td>0</td>\n",
       "      <td>0.007241</td>\n",
       "      <td>0</td>\n",
       "    </tr>\n",
       "    <tr>\n",
       "      <th>29</th>\n",
       "      <td>0</td>\n",
       "      <td>0.046615</td>\n",
       "      <td>0</td>\n",
       "    </tr>\n",
       "    <tr>\n",
       "      <th>...</th>\n",
       "      <td>...</td>\n",
       "      <td>...</td>\n",
       "      <td>...</td>\n",
       "    </tr>\n",
       "    <tr>\n",
       "      <th>2561</th>\n",
       "      <td>0</td>\n",
       "      <td>0.077942</td>\n",
       "      <td>0</td>\n",
       "    </tr>\n",
       "    <tr>\n",
       "      <th>2562</th>\n",
       "      <td>1</td>\n",
       "      <td>0.006219</td>\n",
       "      <td>0</td>\n",
       "    </tr>\n",
       "    <tr>\n",
       "      <th>2563</th>\n",
       "      <td>0</td>\n",
       "      <td>0.100447</td>\n",
       "      <td>0</td>\n",
       "    </tr>\n",
       "    <tr>\n",
       "      <th>2564</th>\n",
       "      <td>0</td>\n",
       "      <td>0.071735</td>\n",
       "      <td>0</td>\n",
       "    </tr>\n",
       "    <tr>\n",
       "      <th>2565</th>\n",
       "      <td>0</td>\n",
       "      <td>0.001202</td>\n",
       "      <td>0</td>\n",
       "    </tr>\n",
       "    <tr>\n",
       "      <th>2566</th>\n",
       "      <td>1</td>\n",
       "      <td>0.996871</td>\n",
       "      <td>1</td>\n",
       "    </tr>\n",
       "    <tr>\n",
       "      <th>2567</th>\n",
       "      <td>0</td>\n",
       "      <td>0.001364</td>\n",
       "      <td>0</td>\n",
       "    </tr>\n",
       "    <tr>\n",
       "      <th>2568</th>\n",
       "      <td>0</td>\n",
       "      <td>0.012556</td>\n",
       "      <td>0</td>\n",
       "    </tr>\n",
       "    <tr>\n",
       "      <th>2569</th>\n",
       "      <td>1</td>\n",
       "      <td>0.785421</td>\n",
       "      <td>1</td>\n",
       "    </tr>\n",
       "    <tr>\n",
       "      <th>2570</th>\n",
       "      <td>1</td>\n",
       "      <td>0.983454</td>\n",
       "      <td>1</td>\n",
       "    </tr>\n",
       "    <tr>\n",
       "      <th>2571</th>\n",
       "      <td>1</td>\n",
       "      <td>0.984829</td>\n",
       "      <td>1</td>\n",
       "    </tr>\n",
       "    <tr>\n",
       "      <th>2572</th>\n",
       "      <td>0</td>\n",
       "      <td>0.032227</td>\n",
       "      <td>0</td>\n",
       "    </tr>\n",
       "    <tr>\n",
       "      <th>2573</th>\n",
       "      <td>0</td>\n",
       "      <td>0.253798</td>\n",
       "      <td>0</td>\n",
       "    </tr>\n",
       "    <tr>\n",
       "      <th>2574</th>\n",
       "      <td>0</td>\n",
       "      <td>0.011263</td>\n",
       "      <td>0</td>\n",
       "    </tr>\n",
       "    <tr>\n",
       "      <th>2575</th>\n",
       "      <td>0</td>\n",
       "      <td>0.069303</td>\n",
       "      <td>0</td>\n",
       "    </tr>\n",
       "    <tr>\n",
       "      <th>2576</th>\n",
       "      <td>0</td>\n",
       "      <td>0.046615</td>\n",
       "      <td>0</td>\n",
       "    </tr>\n",
       "    <tr>\n",
       "      <th>2577</th>\n",
       "      <td>0</td>\n",
       "      <td>0.009686</td>\n",
       "      <td>0</td>\n",
       "    </tr>\n",
       "    <tr>\n",
       "      <th>2578</th>\n",
       "      <td>0</td>\n",
       "      <td>0.058333</td>\n",
       "      <td>0</td>\n",
       "    </tr>\n",
       "    <tr>\n",
       "      <th>2579</th>\n",
       "      <td>1</td>\n",
       "      <td>0.983429</td>\n",
       "      <td>1</td>\n",
       "    </tr>\n",
       "    <tr>\n",
       "      <th>2580</th>\n",
       "      <td>0</td>\n",
       "      <td>0.004672</td>\n",
       "      <td>0</td>\n",
       "    </tr>\n",
       "    <tr>\n",
       "      <th>2581</th>\n",
       "      <td>0</td>\n",
       "      <td>0.047168</td>\n",
       "      <td>0</td>\n",
       "    </tr>\n",
       "    <tr>\n",
       "      <th>2582</th>\n",
       "      <td>0</td>\n",
       "      <td>0.981179</td>\n",
       "      <td>1</td>\n",
       "    </tr>\n",
       "    <tr>\n",
       "      <th>2583</th>\n",
       "      <td>0</td>\n",
       "      <td>0.004034</td>\n",
       "      <td>0</td>\n",
       "    </tr>\n",
       "    <tr>\n",
       "      <th>2584</th>\n",
       "      <td>1</td>\n",
       "      <td>0.952948</td>\n",
       "      <td>1</td>\n",
       "    </tr>\n",
       "    <tr>\n",
       "      <th>2585</th>\n",
       "      <td>1</td>\n",
       "      <td>0.973124</td>\n",
       "      <td>1</td>\n",
       "    </tr>\n",
       "    <tr>\n",
       "      <th>2586</th>\n",
       "      <td>0</td>\n",
       "      <td>0.068312</td>\n",
       "      <td>0</td>\n",
       "    </tr>\n",
       "    <tr>\n",
       "      <th>2587</th>\n",
       "      <td>1</td>\n",
       "      <td>0.998166</td>\n",
       "      <td>1</td>\n",
       "    </tr>\n",
       "    <tr>\n",
       "      <th>2588</th>\n",
       "      <td>0</td>\n",
       "      <td>0.000767</td>\n",
       "      <td>0</td>\n",
       "    </tr>\n",
       "    <tr>\n",
       "      <th>2589</th>\n",
       "      <td>0</td>\n",
       "      <td>0.061676</td>\n",
       "      <td>0</td>\n",
       "    </tr>\n",
       "    <tr>\n",
       "      <th>2590</th>\n",
       "      <td>1</td>\n",
       "      <td>0.857106</td>\n",
       "      <td>1</td>\n",
       "    </tr>\n",
       "  </tbody>\n",
       "</table>\n",
       "<p>2591 rows × 3 columns</p>\n",
       "</div>"
      ],
      "text/plain": [
       "      Converted  Conversion_Prob  final_predicted\n",
       "0             0         0.005994                0\n",
       "1             0         0.582750                1\n",
       "2             0         0.034437                0\n",
       "3             0         0.070509                0\n",
       "4             0         0.014645                0\n",
       "5             0         0.046615                0\n",
       "6             1         0.993153                1\n",
       "7             0         0.068707                0\n",
       "8             1         0.902143                1\n",
       "9             0         0.002397                0\n",
       "10            1         0.999317                1\n",
       "11            0         0.010293                0\n",
       "12            1         0.999346                1\n",
       "13            0         0.046615                0\n",
       "14            1         0.999682                1\n",
       "15            0         0.058674                0\n",
       "16            0         0.006342                0\n",
       "17            1         0.998408                1\n",
       "18            1         0.973124                1\n",
       "19            1         0.976594                1\n",
       "20            0         0.049515                0\n",
       "21            0         0.001151                0\n",
       "22            0         0.006238                0\n",
       "23            1         0.999905                1\n",
       "24            0         0.012924                0\n",
       "25            1         0.972448                1\n",
       "26            0         0.005374                0\n",
       "27            0         0.181358                0\n",
       "28            0         0.007241                0\n",
       "29            0         0.046615                0\n",
       "...         ...              ...              ...\n",
       "2561          0         0.077942                0\n",
       "2562          1         0.006219                0\n",
       "2563          0         0.100447                0\n",
       "2564          0         0.071735                0\n",
       "2565          0         0.001202                0\n",
       "2566          1         0.996871                1\n",
       "2567          0         0.001364                0\n",
       "2568          0         0.012556                0\n",
       "2569          1         0.785421                1\n",
       "2570          1         0.983454                1\n",
       "2571          1         0.984829                1\n",
       "2572          0         0.032227                0\n",
       "2573          0         0.253798                0\n",
       "2574          0         0.011263                0\n",
       "2575          0         0.069303                0\n",
       "2576          0         0.046615                0\n",
       "2577          0         0.009686                0\n",
       "2578          0         0.058333                0\n",
       "2579          1         0.983429                1\n",
       "2580          0         0.004672                0\n",
       "2581          0         0.047168                0\n",
       "2582          0         0.981179                1\n",
       "2583          0         0.004034                0\n",
       "2584          1         0.952948                1\n",
       "2585          1         0.973124                1\n",
       "2586          0         0.068312                0\n",
       "2587          1         0.998166                1\n",
       "2588          0         0.000767                0\n",
       "2589          0         0.061676                0\n",
       "2590          1         0.857106                1\n",
       "\n",
       "[2591 rows x 3 columns]"
      ]
     },
     "execution_count": 154,
     "metadata": {},
     "output_type": "execute_result"
    }
   ],
   "source": [
    "# Making prediction using cut off 0.35\n",
    "y_pred_final['final_predicted'] = y_pred_final.Conversion_Prob.map(lambda x: 1 if x > 0.40 else 0)\n",
    "y_pred_final"
   ]
  },
  {
   "cell_type": "code",
   "execution_count": 155,
   "metadata": {},
   "outputs": [
    {
     "data": {
      "text/plain": [
       "0.9224237746043998"
      ]
     },
     "execution_count": 155,
     "metadata": {},
     "output_type": "execute_result"
    }
   ],
   "source": [
    "# Check the overall accuracy\n",
    "metrics.accuracy_score(y_pred_final['Converted'], y_pred_final.final_predicted)"
   ]
  },
  {
   "cell_type": "code",
   "execution_count": 156,
   "metadata": {},
   "outputs": [
    {
     "data": {
      "text/plain": [
       "array([[1543,   76],\n",
       "       [ 125,  847]], dtype=int64)"
      ]
     },
     "execution_count": 156,
     "metadata": {},
     "output_type": "execute_result"
    }
   ],
   "source": [
    "# Creating confusion matrix \n",
    "confusion2 = metrics.confusion_matrix(y_pred_final['Converted'], y_pred_final.final_predicted )\n",
    "confusion2"
   ]
  },
  {
   "cell_type": "code",
   "execution_count": 157,
   "metadata": {},
   "outputs": [],
   "source": [
    "# Substituting the value of true positive\n",
    "TP = confusion2[1,1]\n",
    "# Substituting the value of true negatives\n",
    "TN = confusion2[0,0]\n",
    "# Substituting the value of false positives\n",
    "FP = confusion2[0,1] \n",
    "# Substituting the value of false negatives\n",
    "FN = confusion2[1,0]"
   ]
  },
  {
   "cell_type": "code",
   "execution_count": 158,
   "metadata": {},
   "outputs": [
    {
     "data": {
      "text/plain": [
       "0.8713991769547325"
      ]
     },
     "execution_count": 158,
     "metadata": {},
     "output_type": "execute_result"
    }
   ],
   "source": [
    "# Calculating the sensitivity\n",
    "TP/(TP+FN)"
   ]
  },
  {
   "cell_type": "code",
   "execution_count": 159,
   "metadata": {},
   "outputs": [
    {
     "data": {
      "text/plain": [
       "0.9530574428659666"
      ]
     },
     "execution_count": 159,
     "metadata": {},
     "output_type": "execute_result"
    }
   ],
   "source": [
    "# Calculating the specificity\n",
    "TN/(TN+FP)"
   ]
  },
  {
   "cell_type": "markdown",
   "metadata": {},
   "source": [
    "# Observations\n",
    "\n",
    "- Sensitivity is 87% \n",
    "- Specificity is 95%\n",
    "- Accuracy is 92.2%\n",
    "- This shows that model is good"
   ]
  },
  {
   "cell_type": "markdown",
   "metadata": {},
   "source": [
    "###### The Model seems to predict the Conversion Rate very well \n",
    "- we can give to ceo with high confidence to predict well"
   ]
  },
  {
   "cell_type": "code",
   "execution_count": null,
   "metadata": {},
   "outputs": [],
   "source": []
  },
  {
   "cell_type": "code",
   "execution_count": null,
   "metadata": {},
   "outputs": [],
   "source": []
  }
 ],
 "metadata": {
  "kernelspec": {
   "display_name": "Python 3",
   "language": "python",
   "name": "python3"
  },
  "language_info": {
   "codemirror_mode": {
    "name": "ipython",
    "version": 3
   },
   "file_extension": ".py",
   "mimetype": "text/x-python",
   "name": "python",
   "nbconvert_exporter": "python",
   "pygments_lexer": "ipython3",
   "version": "3.6.5"
  }
 },
 "nbformat": 4,
 "nbformat_minor": 2
}
